{
 "cells": [
  {
   "cell_type": "code",
   "execution_count": null,
   "id": "initial_id",
   "metadata": {
    "collapsed": true
   },
   "outputs": [],
   "source": [
    "from src.Recommenders.MatrixFactorization.NMFRecommender import NMFRecommender\n",
    "from src.Evaluation.Evaluator import EvaluatorHoldout\n",
    "import scipy.sparse as sps\n",
    "import random\n",
    "import os\n",
    "import numpy as np\n",
    "os.chdir(os.path.dirname(os.path.dirname(os.getcwd())))\n",
    "SEED = 42\n",
    "np.random.seed(SEED)\n",
    "random.seed(SEED)\n",
    "os.environ['PYTHONHASHSEED'] = str(SEED)\n",
    "\n",
    "URM_train = sps.load_npz('Dataset/URM_train.npz')\n",
    "URM_test_complete = sps.load_npz('Dataset/URM_test.npz')\n",
    "\n",
    "URM_all=URM_train + URM_test_complete"
   ]
  },
  {
   "metadata": {},
   "cell_type": "code",
   "outputs": [],
   "execution_count": null,
   "source": [
    "\n",
    "\n",
    "evaluator = EvaluatorHoldout(URM_test_complete, cutoff_list=[10])\n",
    "def objective(trial):\n",
    "    num_factors = trial.suggest_int('num_factors', 5, 300)\n",
    "    l1_ratio = trial.suggest_float('l1_ratio',1e-7, 1.0, log=True)\n",
    "    solver_beta_loss = trial.suggest_categorical('solver_beta_loss', [\"coordinate_descent:frobenius\", \"multiplicative_update:frobenius\"])\n",
    "    init_type = trial.suggest_categorical('init_type', [\"random\", \"nndsvda\"])\n",
    "\n",
    "    nmf_recommender = NMFRecommender(URM_train)\n",
    "    nmf_recommender.fit(\n",
    "        num_factors=num_factors,\n",
    "        l1_ratio=l1_ratio,\n",
    "        solver_beta_loss=solver_beta_loss,\n",
    "        init_type=init_type,\n",
    "        verbose=False\n",
    "    )\n",
    "\n",
    "    result_df, _ = evaluator.evaluateRecommender(nmf_recommender)\n",
    "    return result_df.loc[10, \"MAP\"]"
   ],
   "id": "ec0a36c6dcc82793"
  },
  {
   "metadata": {},
   "cell_type": "code",
   "outputs": [],
   "execution_count": null,
   "source": [
    "import optuna\n",
    "from optuna.samplers import RandomSampler\n",
    "\n",
    "database_path='hypertuning_results/tuning_NMF.db'\n",
    "\n",
    "study=optuna.load_study(\n",
    "    study_name='hyperparameters_NMF',\n",
    "    storage=f'sqlite:///{database_path}'\n",
    "\n",
    ")\n",
    "study.sampler=RandomSampler(seed=SEED)\n",
    "study.optimize(objective, n_trials=150, n_jobs=4)"
   ],
   "id": "6603242e8c4ee261"
  }
 ],
 "metadata": {
  "kernelspec": {
   "display_name": "Python 3",
   "language": "python",
   "name": "python3"
  },
  "language_info": {
   "codemirror_mode": {
    "name": "ipython",
    "version": 2
   },
   "file_extension": ".py",
   "mimetype": "text/x-python",
   "name": "python",
   "nbconvert_exporter": "python",
   "pygments_lexer": "ipython2",
   "version": "2.7.6"
  }
 },
 "nbformat": 4,
 "nbformat_minor": 5
}
