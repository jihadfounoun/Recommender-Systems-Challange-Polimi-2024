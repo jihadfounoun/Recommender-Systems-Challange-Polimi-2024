{
 "cells": [
  {
   "metadata": {
    "ExecuteTime": {
     "end_time": "2025-01-10T20:39:32.014256Z",
     "start_time": "2025-01-10T20:39:30.976136Z"
    }
   },
   "cell_type": "code",
   "source": [
    "from src.Evaluation.Evaluator import EvaluatorHoldout\n",
    "import scipy.sparse as sps\n",
    "import random\n",
    "import os\n",
    "import numpy as np\n",
    "os.chdir(os.path.dirname(os.path.dirname(os.getcwd())))\n",
    "\n",
    "SEED = 42\n",
    "np.random.seed(SEED)\n",
    "random.seed(SEED)\n",
    "os.environ['PYTHONHASHSEED'] = str(SEED)\n",
    "\n",
    "URM_train = sps.load_npz('Data/URM_train.npz')\n",
    "URM_test_complete = sps.load_npz('Data/URM_test.npz')\n",
    "\n",
    "URM_all=URM_train + URM_test_complete"
   ],
   "id": "9e1da3529ae5e7f8",
   "outputs": [],
   "execution_count": 1
  },
  {
   "metadata": {
    "ExecuteTime": {
     "end_time": "2025-01-10T20:40:09.637780Z",
     "start_time": "2025-01-10T20:40:07.919070Z"
    }
   },
   "cell_type": "code",
   "source": [
    "from src.Recommenders.MatrixFactorization.IALSRecommender import IALSRecommender\n",
    "\n",
    "evaluator = EvaluatorHoldout(URM_test_complete, cutoff_list=[10])\n",
    "def objective_function(trial):\n",
    "    # Parametri per early stopping\n",
    "    early_stopping_params = {\n",
    "        \"validation_every_n\": 1,\n",
    "        \"stop_on_validation\": True,\n",
    "        \"evaluator_object\": evaluator,\n",
    "        \"lower_validations_allowed\": 15,\n",
    "        \"validation_metric\": \"MAP\",\n",
    "        \"epochs\": 500\n",
    "    }\n",
    "\n",
    "    recommender_instance = IALSRecommender(URM_train)\n",
    "    recommender_instance.fit(\n",
    "        num_factors = trial.suggest_int(\"num_factors\", 1, 500, log=True),\n",
    "        confidence_scaling = trial.suggest_categorical(\"confidence_scaling\", [\"linear\", \"log\"]),\n",
    "        alpha = trial.suggest_float(\"alpha\", 0.1, 10.0, log=True),\n",
    "        epsilon = trial.suggest_float(\"epsilon\", 1e-3, 1.0, log=True),\n",
    "        reg = trial.suggest_float(\"reg\", 1e-6, 1e-2, log=True),\n",
    "        init_mean = trial.suggest_float(\"init_mean\", -0.1, 0.1),\n",
    "        init_std = trial.suggest_float(\"init_std\", 0.01, 0.1),\n",
    "        **early_stopping_params\n",
    "    )\n",
    "\n",
    "    epochs = recommender_instance.get_early_stopping_final_epochs_dict()[\"epochs\"]\n",
    "    trial.set_user_attr(\"epochs\", epochs)\n",
    "\n",
    "    result_df, _ = evaluator.evaluateRecommender(recommender_instance)\n",
    "\n",
    "    return result_df.loc[10, \"MAP\"]"
   ],
   "id": "f2771bce487c405b",
   "outputs": [
    {
     "ename": "ModuleNotFoundError",
     "evalue": "No module named 'Recommenders'",
     "output_type": "error",
     "traceback": [
      "\u001B[1;31m---------------------------------------------------------------------------\u001B[0m",
      "\u001B[1;31mModuleNotFoundError\u001B[0m                       Traceback (most recent call last)",
      "Cell \u001B[1;32mIn[2], line 1\u001B[0m\n\u001B[1;32m----> 1\u001B[0m \u001B[38;5;28;01mfrom\u001B[39;00m \u001B[38;5;21;01msrc\u001B[39;00m\u001B[38;5;21;01m.\u001B[39;00m\u001B[38;5;21;01mRecommenders\u001B[39;00m\u001B[38;5;21;01m.\u001B[39;00m\u001B[38;5;21;01mMatrixFactorization\u001B[39;00m\u001B[38;5;21;01m.\u001B[39;00m\u001B[38;5;21;01mIALSRecommender\u001B[39;00m \u001B[38;5;28;01mimport\u001B[39;00m IALSRecommender\n\u001B[0;32m      3\u001B[0m evaluator \u001B[38;5;241m=\u001B[39m EvaluatorHoldout(URM_test_complete, cutoff_list\u001B[38;5;241m=\u001B[39m[\u001B[38;5;241m10\u001B[39m])\n\u001B[0;32m      4\u001B[0m \u001B[38;5;28;01mdef\u001B[39;00m \u001B[38;5;21mobjective_function\u001B[39m(trial):\n\u001B[0;32m      5\u001B[0m     \u001B[38;5;66;03m# Parametri per early stopping\u001B[39;00m\n",
      "File \u001B[1;32m~\\PycharmProjects\\Recommender-System-Challange-Polimi-2024\\src\\Recommenders\\MatrixFactorization\\IALSRecommender.py:9\u001B[0m\n\u001B[0;32m      1\u001B[0m \u001B[38;5;124;03m\"\"\"\u001B[39;00m\n\u001B[0;32m      2\u001B[0m \u001B[38;5;124;03mCreated on 23/03/2019\u001B[39;00m\n\u001B[0;32m      3\u001B[0m \n\u001B[0;32m      4\u001B[0m \u001B[38;5;124;03m@author: Maurizio Ferrari Dacrema\u001B[39;00m\n\u001B[0;32m      5\u001B[0m \u001B[38;5;124;03m\"\"\"\u001B[39;00m\n\u001B[1;32m----> 9\u001B[0m \u001B[38;5;28;01mfrom\u001B[39;00m \u001B[38;5;21;01msrc\u001B[39;00m\u001B[38;5;21;01m.\u001B[39;00m\u001B[38;5;21;01mRecommenders\u001B[39;00m\u001B[38;5;21;01m.\u001B[39;00m\u001B[38;5;21;01mBaseMatrixFactorizationRecommender\u001B[39;00m \u001B[38;5;28;01mimport\u001B[39;00m BaseMatrixFactorizationRecommender\n\u001B[0;32m     10\u001B[0m \u001B[38;5;28;01mfrom\u001B[39;00m \u001B[38;5;21;01mRecommenders\u001B[39;00m\u001B[38;5;21;01m.\u001B[39;00m\u001B[38;5;21;01mIncremental_Training_Early_Stopping\u001B[39;00m \u001B[38;5;28;01mimport\u001B[39;00m Incremental_Training_Early_Stopping\n\u001B[0;32m     11\u001B[0m \u001B[38;5;28;01mfrom\u001B[39;00m \u001B[38;5;21;01mRecommenders\u001B[39;00m\u001B[38;5;21;01m.\u001B[39;00m\u001B[38;5;21;01mRecommender_utils\u001B[39;00m \u001B[38;5;28;01mimport\u001B[39;00m check_matrix\n",
      "File \u001B[1;32m~\\PycharmProjects\\Recommender-System-Challange-Polimi-2024\\src\\Recommenders\\BaseMatrixFactorizationRecommender.py:9\u001B[0m\n\u001B[0;32m      1\u001B[0m \u001B[38;5;66;03m#!/usr/bin/env python3\u001B[39;00m\n\u001B[0;32m      2\u001B[0m \u001B[38;5;66;03m# -*- coding: utf-8 -*-\u001B[39;00m\n\u001B[0;32m      3\u001B[0m \u001B[38;5;124;03m\"\"\"\u001B[39;00m\n\u001B[0;32m      4\u001B[0m \u001B[38;5;124;03mCreated on 16/09/2017\u001B[39;00m\n\u001B[0;32m      5\u001B[0m \n\u001B[0;32m      6\u001B[0m \u001B[38;5;124;03m@author: Maurizio Ferrari Dacrema\u001B[39;00m\n\u001B[0;32m      7\u001B[0m \u001B[38;5;124;03m\"\"\"\u001B[39;00m\n\u001B[1;32m----> 9\u001B[0m \u001B[38;5;28;01mfrom\u001B[39;00m \u001B[38;5;21;01msrc\u001B[39;00m\u001B[38;5;21;01m.\u001B[39;00m\u001B[38;5;21;01mRecommenders\u001B[39;00m\u001B[38;5;21;01m.\u001B[39;00m\u001B[38;5;21;01mBaseRecommender\u001B[39;00m \u001B[38;5;28;01mimport\u001B[39;00m BaseRecommender\n\u001B[0;32m     10\u001B[0m \u001B[38;5;28;01mfrom\u001B[39;00m \u001B[38;5;21;01mRecommenders\u001B[39;00m\u001B[38;5;21;01m.\u001B[39;00m\u001B[38;5;21;01mDataIO\u001B[39;00m \u001B[38;5;28;01mimport\u001B[39;00m DataIO\n\u001B[0;32m     11\u001B[0m \u001B[38;5;28;01mimport\u001B[39;00m \u001B[38;5;21;01mscipy\u001B[39;00m\u001B[38;5;21;01m.\u001B[39;00m\u001B[38;5;21;01msparse\u001B[39;00m \u001B[38;5;28;01mas\u001B[39;00m \u001B[38;5;21;01msps\u001B[39;00m\n",
      "File \u001B[1;32m~\\PycharmProjects\\Recommender-System-Challange-Polimi-2024\\src\\Recommenders\\BaseRecommender.py:9\u001B[0m\n\u001B[0;32m      3\u001B[0m \u001B[38;5;124;03m\"\"\"\u001B[39;00m\n\u001B[0;32m      4\u001B[0m \n\u001B[0;32m      5\u001B[0m \u001B[38;5;124;03m@author: Maurizio Ferrari Dacrema\u001B[39;00m\n\u001B[0;32m      6\u001B[0m \u001B[38;5;124;03m\"\"\"\u001B[39;00m\n\u001B[0;32m      8\u001B[0m \u001B[38;5;28;01mimport\u001B[39;00m \u001B[38;5;21;01mnumpy\u001B[39;00m \u001B[38;5;28;01mas\u001B[39;00m \u001B[38;5;21;01mnp\u001B[39;00m\n\u001B[1;32m----> 9\u001B[0m \u001B[38;5;28;01mfrom\u001B[39;00m \u001B[38;5;21;01mRecommenders\u001B[39;00m\u001B[38;5;21;01m.\u001B[39;00m\u001B[38;5;21;01mDataIO\u001B[39;00m \u001B[38;5;28;01mimport\u001B[39;00m DataIO\n\u001B[0;32m     10\u001B[0m \u001B[38;5;28;01mfrom\u001B[39;00m \u001B[38;5;21;01mRecommenders\u001B[39;00m\u001B[38;5;21;01m.\u001B[39;00m\u001B[38;5;21;01mRecommender_utils\u001B[39;00m \u001B[38;5;28;01mimport\u001B[39;00m check_matrix\n\u001B[0;32m     13\u001B[0m \u001B[38;5;28;01mclass\u001B[39;00m \u001B[38;5;21;01mBaseRecommender\u001B[39;00m(\u001B[38;5;28mobject\u001B[39m):\n",
      "\u001B[1;31mModuleNotFoundError\u001B[0m: No module named 'Recommenders'"
     ]
    }
   ],
   "execution_count": 2
  },
  {
   "metadata": {},
   "cell_type": "code",
   "outputs": [],
   "execution_count": null,
   "source": [
    "import optuna\n",
    "\n",
    "from optuna.samplers import RandomSampler\n",
    "\n",
    "database_path='hypertuning_results/tuning_IALS.db'\n",
    "\n",
    "study = optuna.create_study(direction='maximize', study_name='hyperparameters_IALS',\n",
    "                                storage=f'sqlite:///{database_path}', load_if_exists=True,\n",
    "    sampler=RandomSampler(seed=SEED))\n",
    "\n",
    "study.optimize(objective_function, n_trials= 60,n_jobs=4)"
   ],
   "id": "e9d389e11384f3ad"
  }
 ],
 "metadata": {
  "kernelspec": {
   "display_name": "Python 3",
   "language": "python",
   "name": "python3"
  },
  "language_info": {
   "codemirror_mode": {
    "name": "ipython",
    "version": 2
   },
   "file_extension": ".py",
   "mimetype": "text/x-python",
   "name": "python",
   "nbconvert_exporter": "python",
   "pygments_lexer": "ipython2",
   "version": "2.7.6"
  }
 },
 "nbformat": 4,
 "nbformat_minor": 5
}
