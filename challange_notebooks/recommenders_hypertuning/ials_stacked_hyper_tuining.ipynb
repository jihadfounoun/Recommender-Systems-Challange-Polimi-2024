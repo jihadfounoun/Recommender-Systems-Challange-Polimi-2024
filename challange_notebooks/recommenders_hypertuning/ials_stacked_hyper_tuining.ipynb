{
 "cells": [
  {
   "cell_type": "code",
   "id": "initial_id",
   "metadata": {
    "collapsed": true,
    "ExecuteTime": {
     "end_time": "2025-01-09T17:03:15.701116Z",
     "start_time": "2025-01-09T17:03:15.009239Z"
    }
   },
   "source": [
    "from src.Evaluation.Evaluator import EvaluatorHoldout\n",
    "import scipy.sparse as sps\n",
    "import random\n",
    "import os\n",
    "import numpy as np\n",
    "\n",
    "import pandas as pd\n",
    "os.chdir(os.path.dirname(os.path.dirname(os.getcwd())))\n",
    "SEED = 42\n",
    "np.random.seed(SEED)\n",
    "random.seed(SEED)\n",
    "os.environ['PYTHONHASHSEED'] = str(SEED)\n",
    "dataframe_items=pd.read_csv(\"Dataset/data_ICM_metadata.csv\",low_memory=True)\n",
    "ICM=sps.csr_matrix((dataframe_items[\"data\"].values,(dataframe_items[\"item_id\"].values.astype(int),dataframe_items[\"feature_id\"].values)))\n",
    "\n",
    "URM_train = sps.load_npz('Dataset/URM_train.npz')\n",
    "URM_test_complete = sps.load_npz('Dataset/URM_test.npz')\n",
    "\n",
    "URM_all=URM_train + URM_test_complete"
   ],
   "outputs": [],
   "execution_count": 7
  },
  {
   "metadata": {},
   "cell_type": "code",
   "outputs": [],
   "execution_count": null,
   "source": [
    "from src.Recommenders.MatrixFactorization.IALSRecommender import IALSRecommender\n",
    "\n",
    "evaluator = EvaluatorHoldout(URM_test_complete, cutoff_list=[10])\n",
    "def objective_function(trial):\n",
    "    # Parametri per early stopping\n",
    "    early_stopping_params = {\n",
    "        \"validation_every_n\": 1,\n",
    "        \"stop_on_validation\": True,\n",
    "        \"evaluator_object\": evaluator,\n",
    "        \"lower_validations_allowed\": 15,\n",
    "        \"validation_metric\": \"MAP\",\n",
    "        \"epochs\": 500\n",
    "    }\n",
    "    URM_stacked=sps.vstack([URM_train,ICM.T])\n",
    "    recommender_instance = IALSRecommender(URM_stacked)\n",
    "    recommender_instance.fit(\n",
    "        num_factors = trial.suggest_int(\"num_factors\", 1, 500, log=True),\n",
    "        confidence_scaling = trial.suggest_categorical(\"confidence_scaling\", [\"linear\", \"log\"]),\n",
    "        alpha = trial.suggest_float(\"alpha\", 0.1, 10.0, log=True),\n",
    "        epsilon = trial.suggest_float(\"epsilon\", 1e-3, 1.0, log=True),\n",
    "        reg = trial.suggest_float(\"reg\", 1e-6, 1e-2, log=True),\n",
    "        init_mean = trial.suggest_float(\"init_mean\", -0.1, 0.1),\n",
    "        init_std = trial.suggest_float(\"init_std\", 0.01, 0.1),\n",
    "        **early_stopping_params\n",
    "    )\n",
    "\n",
    "    epochs = recommender_instance.get_early_stopping_final_epochs_dict()[\"epochs\"]\n",
    "    trial.set_user_attr(\"epochs\", epochs)\n",
    "\n",
    "    result_df, _ = evaluator.evaluateRecommender(recommender_instance)\n",
    "\n",
    "    return result_df.loc[10, \"MAP\"]"
   ],
   "id": "b11e06273e1c154d"
  },
  {
   "metadata": {},
   "cell_type": "code",
   "outputs": [],
   "execution_count": null,
   "source": [
    "database_path='hypertuning_results/tuning_IALS_stacked.db'\n",
    "import optuna\n",
    "from optuna.samplers import RandomSampler\n",
    "\n",
    "study = optuna.create_study(direction='maximize', study_name='hyperparameters_IALS',\n",
    "                                storage=f'sqlite:///{database_path}', load_if_exists=True,\n",
    "    sampler=RandomSampler(seed=SEED))\n",
    "\n",
    "study.optimize(objective_function, n_trials= 60,n_jobs=-1)"
   ],
   "id": "7c3859438f0c54fd"
  }
 ],
 "metadata": {
  "kernelspec": {
   "display_name": "Python 3",
   "language": "python",
   "name": "python3"
  },
  "language_info": {
   "codemirror_mode": {
    "name": "ipython",
    "version": 2
   },
   "file_extension": ".py",
   "mimetype": "text/x-python",
   "name": "python",
   "nbconvert_exporter": "python",
   "pygments_lexer": "ipython2",
   "version": "2.7.6"
  }
 },
 "nbformat": 4,
 "nbformat_minor": 5
}
