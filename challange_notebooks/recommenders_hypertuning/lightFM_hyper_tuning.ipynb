{
 "cells": [
  {
   "cell_type": "code",
   "execution_count": null,
   "id": "initial_id",
   "metadata": {
    "collapsed": true
   },
   "outputs": [],
   "source": [
    "from src.Evaluation.Evaluator import EvaluatorHoldout\n",
    "import scipy.sparse as sps\n",
    "import random\n",
    "import os\n",
    "import numpy as np\n",
    "\n",
    "import pandas as pd\n",
    "os.chdir(os.path.dirname(os.path.dirname(os.getcwd())))\n",
    "SEED = 42\n",
    "np.random.seed(SEED)\n",
    "random.seed(SEED)\n",
    "os.environ['PYTHONHASHSEED'] = str(SEED)\n",
    "dataframe_items=pd.read_csv(\"Dataset/data_ICM_metadata.csv\",low_memory=True)\n",
    "icm=sps.csr_matrix((dataframe_items[\"data\"].values,(dataframe_items[\"item_id\"].values.astype(int),dataframe_items[\"feature_id\"].values)))\n",
    "\n",
    "URM_train = sps.load_npz('Dataset/URM_train.npz')\n",
    "URM_test_complete = sps.load_npz('Dataset/URM_test.npz')\n",
    "\n",
    "URM_all=URM_train + URM_test_complete"
   ]
  },
  {
   "metadata": {},
   "cell_type": "code",
   "outputs": [],
   "execution_count": null,
   "source": [
    "from src.Recommenders.FactorizationMachines.LightFMRecommender import LightFMCFRecommender\n",
    "\n",
    "evaluator = EvaluatorHoldout(URM_test_complete, cutoff_list=[10])\n",
    "\n",
    "def objective(trial):\n",
    "    params={\n",
    "    'n_components' : trial.suggest_int('no_components', 20, 200),\n",
    "    'learning_rate': trial.suggest_float('learning_rate', 1e-4, 1e-1, log=True),\n",
    "    'item_alpha' : trial.suggest_float('item_alpha', 1e-6, 1e-1, log=True),\n",
    "    'user_alpha' : trial.suggest_float('user_alpha', 1e-6, 1e-1, log=True),\n",
    "    'epochs' : trial.suggest_int('epochs', 10, 50),\n",
    "    'sgd_mode' : trial.suggest_categorical('sgd_mode', ['adagrad', 'adadelta']),\n",
    "    'loss' : trial.suggest_categorical('loss', ['bpr', 'warp', 'warp-kos'])\n",
    "    }\n",
    "\n",
    "\n",
    "\n",
    "    model = LightFMCFRecommender(URM_train=URM_train)\n",
    "    model.fit(**params, num_threads=4)\n",
    "\n",
    "\n",
    "    result_df, _ = evaluator.evaluateRecommender(model)\n",
    "    return result_df.loc[10, \"MAP\"]"
   ],
   "id": "7ff46a2bc2a9cfd"
  },
  {
   "metadata": {},
   "cell_type": "code",
   "outputs": [],
   "execution_count": null,
   "source": [
    "import optuna\n",
    "from optuna.samplers import RandomSampler\n",
    "\n",
    "database_path='hypertuning_results/tuning_lightFM.db'\n",
    "\n",
    "study = optuna.load_study(study_name='hyperparameters_lightFM_cf',\n",
    "                                storage=f'sqlite:///{database_path}')\n",
    "study.sampler=RandomSampler(seed=SEED)\n",
    "\n",
    "\n",
    "study.optimize(objective, n_trials=60, n_jobs=4)"
   ],
   "id": "bb2226ef8a6caf80"
  },
  {
   "metadata": {},
   "cell_type": "code",
   "outputs": [],
   "execution_count": null,
   "source": "",
   "id": "59428ed05fbcc806"
  }
 ],
 "metadata": {
  "kernelspec": {
   "display_name": "Python 3",
   "language": "python",
   "name": "python3"
  },
  "language_info": {
   "codemirror_mode": {
    "name": "ipython",
    "version": 2
   },
   "file_extension": ".py",
   "mimetype": "text/x-python",
   "name": "python",
   "nbconvert_exporter": "python",
   "pygments_lexer": "ipython2",
   "version": "2.7.6"
  }
 },
 "nbformat": 4,
 "nbformat_minor": 5
}
