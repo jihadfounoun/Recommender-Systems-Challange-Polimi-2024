{
 "cells": [
  {
   "metadata": {
    "ExecuteTime": {
     "end_time": "2025-01-09T16:29:17.814Z",
     "start_time": "2025-01-09T16:29:11.945272Z"
    }
   },
   "cell_type": "code",
   "source": [
    "\n",
    "from src.Recommenders.SLIM.SLIMElasticNetRecommender import SLIMElasticNetRecommender\n",
    "from src.Evaluation.Evaluator import EvaluatorHoldout\n",
    "from src.Recommenders.MatrixFactorization.IALSRecommender import IALSRecommender\n",
    "from src.Recommenders.Neural.MultVAE_PyTorch_Recommender import MultVAERecommender_PyTorch\n",
    "from src.Recommenders.MatrixFactorization.PureSVDRecommender import ScaledPureSVDRecommender\n",
    "from src.Recommenders.MatrixFactorization.PureSVDRecommender import PureSVDItemRecommender\n",
    "from src.Recommenders.KNN.ItemKNNCFRecommender import ItemKNNCFRecommender\n",
    "from src.Recommenders.GraphBased.RP3betaRecommender import RP3betaRecommender\n",
    "from src.Recommenders.MatrixFactorization.NMFRecommender import NMFRecommender\n",
    "from src.Recommenders.GraphBased.P3alphaRecommender import P3alphaRecommender\n",
    "\n",
    "import numpy as np\n",
    "import random\n",
    "import os\n",
    "\n",
    "os.chdir(os.path.dirname(os.path.dirname(os.getcwd())))\n",
    "\n",
    "\n",
    "SEED = 42\n",
    "np.random.seed(SEED)\n",
    "random.seed(SEED)\n",
    "os.environ['PYTHONHASHSEED'] = str(SEED)\n",
    "\n",
    "\n",
    "import pandas as pd\n",
    "import scipy.sparse as sps\n",
    "\n",
    "dataframe_items=pd.read_csv(\"Data/data_ICM_metadata.csv\",low_memory=True)\n",
    "\n",
    "icm=sps.csr_matrix((dataframe_items[\"data\"].values,(dataframe_items[\"item_id\"].values.astype(int),dataframe_items[\"feature_id\"].values)))\n",
    "\n",
    "urm_train = sps.load_npz('Data/URM_train.npz')\n",
    "urm_test = sps.load_npz('Data/URM_test.npz')\n",
    "urm_train_stacked=sps.vstack([urm_train,icm.T])"
   ],
   "id": "c93ba592c4869071",
   "outputs": [
    {
     "ename": "ModuleNotFoundError",
     "evalue": "No module named 'final_hybrid_submission'",
     "output_type": "error",
     "traceback": [
      "\u001B[1;31m---------------------------------------------------------------------------\u001B[0m",
      "\u001B[1;31mModuleNotFoundError\u001B[0m                       Traceback (most recent call last)",
      "Cell \u001B[1;32mIn[1], line 16\u001B[0m\n\u001B[0;32m     13\u001B[0m \u001B[38;5;28;01mimport\u001B[39;00m \u001B[38;5;21;01mrandom\u001B[39;00m\n\u001B[0;32m     14\u001B[0m \u001B[38;5;28;01mimport\u001B[39;00m \u001B[38;5;21;01mos\u001B[39;00m\n\u001B[1;32m---> 16\u001B[0m \u001B[38;5;28;01mfrom\u001B[39;00m \u001B[38;5;21;01mfinal_hybrid_submission\u001B[39;00m \u001B[38;5;28;01mimport\u001B[39;00m folder_path\n\u001B[0;32m     18\u001B[0m SEED \u001B[38;5;241m=\u001B[39m \u001B[38;5;241m42\u001B[39m\n\u001B[0;32m     19\u001B[0m np\u001B[38;5;241m.\u001B[39mrandom\u001B[38;5;241m.\u001B[39mseed(SEED)\n",
      "\u001B[1;31mModuleNotFoundError\u001B[0m: No module named 'final_hybrid_submission'"
     ]
    }
   ],
   "execution_count": 1
  },
  {
   "metadata": {
    "ExecuteTime": {
     "end_time": "2025-01-05T07:10:01.725422Z",
     "start_time": "2025-01-05T07:10:01.694178Z"
    }
   },
   "cell_type": "code",
   "source": [
    "import sqlite3\n",
    "database_path='optuna_hybrid_linear_all_models.db'\n",
    "conn=sqlite3.connect(database_path)\n",
    "cursor=conn.cursor()\n",
    "cursor.execute(\"\"\" UPDATE trials SET state='WAITING' WHERE state='RUNNING' or state='FAIL' \"\"\")\n",
    "conn.commit()\n",
    "cursor.close()"
   ],
   "id": "162589b2773ec3ed",
   "outputs": [],
   "execution_count": 3
  },
  {
   "metadata": {
    "ExecuteTime": {
     "end_time": "2025-01-05T07:10:06.291200Z",
     "start_time": "2025-01-05T07:10:06.159399Z"
    }
   },
   "cell_type": "code",
   "source": [
    "alpha_p3=0.91826869357383\n",
    "urm_train_p3_stacked=sps.vstack([urm_train*alpha_p3,icm.T*(1-alpha_p3)])"
   ],
   "id": "f450491686db1e4b",
   "outputs": [],
   "execution_count": 4
  },
  {
   "metadata": {
    "ExecuteTime": {
     "end_time": "2025-01-05T07:10:10.089160Z",
     "start_time": "2025-01-05T07:10:09.137702Z"
    }
   },
   "cell_type": "code",
   "source": [
    "slim_recommender=SLIMElasticNetRecommender(urm_train)\n",
    "pure_svd_recommender=PureSVDItemRecommender(urm_train)\n",
    "rp3beta_recommender=RP3betaRecommender(urm_train)\n",
    "rp3beta_stacked_recommender=RP3betaRecommender(urm_train_stacked)\n",
    "scaled_svd_recommender= ScaledPureSVDRecommender(urm_train)\n",
    "multVAE_recommender=MultVAERecommender_PyTorch(urm_train)\n",
    "itemKNN_recommender=ItemKNNCFRecommender(urm_train)\n",
    "p3alpha_recommender=P3alphaRecommender(urm_train)\n",
    "p3alpha_stacked_recommender=P3alphaRecommender(urm_train_p3_stacked)\n",
    "ials_recommender=IALSRecommender(urm_train)\n",
    "ials_stacked_recommender=IALSRecommender(urm_train_stacked)\n",
    "nmf_recommender=NMFRecommender(urm_train)"
   ],
   "id": "d250d88d4be2e876",
   "outputs": [],
   "execution_count": 5
  },
  {
   "metadata": {
    "ExecuteTime": {
     "end_time": "2025-01-05T07:10:58.138018Z",
     "start_time": "2025-01-05T07:10:13.145403Z"
    }
   },
   "cell_type": "code",
   "source": [
    "folder_path='trained_models/train/'\n",
    "slim_recommender.load_model(folder_path=folder_path,file_name='SLIMElasticNetRecommender.zip')\n",
    "pure_svd_recommender.load_model(folder_path=folder_path,file_name='best_pure_svd.zip')\n",
    "multVAE_recommender.load_model(folder_path=folder_path,file_name='best_MultVAE.zip')\n",
    "scaled_svd_recommender.load_model(folder_path=folder_path,file_name='best_scaled_svd.zip')\n",
    "rp3beta_recommender.load_model(folder_path=folder_path,file_name='best_rp3beta.zip')\n",
    "rp3beta_stacked_recommender.load_model(folder_path=folder_path,file_name='best_stacked_rp3beta.zip')\n",
    "\n",
    "itemKNN_recommender.load_model(folder_path=folder_path,file_name='best_itemknn.zip')\n",
    "p3alpha_recommender.load_model(folder_path=folder_path,file_name='best_rp3alpha.zip')\n",
    "p3alpha_stacked_recommender.load_model(folder_path=folder_path,file_name='best_stacked_rp3alpha.zip')\n",
    "ials_recommender.load_model(folder_path=folder_path,file_name='best_ials.zip')\n",
    "ials_stacked_recommender.load_model(folder_path=folder_path,file_name='best_ials_stacked.zip')\n",
    "nmf_recommender.load_model(folder_path=folder_path,file_name='best_NMF.zip')"
   ],
   "id": "f466fea0845d794",
   "outputs": [
    {
     "name": "stdout",
     "output_type": "stream",
     "text": [
      "SLIMElasticNetRecommender: Loading model from file 'models/train/SLIMElasticNetRecommender.zip'\n",
      "SLIMElasticNetRecommender: Loading complete\n",
      "PureSVDItemRecommender: Loading model from file 'models/train/best_pure_svd.zip'\n",
      "PureSVDItemRecommender: Loading complete\n",
      "ScaledPureSVDRecommender: Loading model from file 'models/train/best_scaled_svd.zip'\n",
      "ScaledPureSVDRecommender: Loading complete\n",
      "RP3betaRecommender: Loading model from file 'models/train/best_rp3beta.zip'\n",
      "RP3betaRecommender: Loading complete\n",
      "RP3betaRecommender: Loading model from file 'models/train/best_stacked_rp3beta.zip'\n",
      "RP3betaRecommender: Loading complete\n",
      "ItemKNNCFRecommender: Loading model from file 'models/train/best_itemknn.zip'\n",
      "ItemKNNCFRecommender: Loading complete\n",
      "P3alphaRecommender: Loading model from file 'models/train/best_rp3alpha.zip'\n",
      "P3alphaRecommender: Loading complete\n",
      "P3alphaRecommender: Loading model from file 'models/train/best_stacked_rp3alpha.zip'\n",
      "P3alphaRecommender: Loading complete\n",
      "IALSRecommender: Loading model from file 'models/train/best_ials.zip'\n",
      "IALSRecommender: Loading complete\n",
      "IALSRecommender: Loading model from file 'models/train/best_ials_stacked.zip'\n",
      "IALSRecommender: Loading complete\n",
      "NMFRecommender: Loading model from file 'models/train/best_NMF.zip'\n",
      "NMFRecommender: Loading complete\n"
     ]
    }
   ],
   "execution_count": 6
  },
  {
   "metadata": {
    "ExecuteTime": {
     "end_time": "2025-01-05T07:10:58.220993Z",
     "start_time": "2025-01-05T07:10:58.182782Z"
    }
   },
   "cell_type": "code",
   "source": [
    "recommenders_list={}\n",
    "\n",
    "recommenders_list['slim']=slim_recommender\n",
    "recommenders_list['pure_svd']=pure_svd_recommender\n",
    "recommenders_list['scaled_svd']=scaled_svd_recommender\n",
    "recommenders_list['rp3beta']=rp3beta_recommender\n",
    "recommenders_list['rp3beta_stacked']=rp3beta_stacked_recommender\n",
    "recommenders_list['multVAE']=multVAE_recommender\n",
    "\n",
    "recommenders_list['itemKNN']=itemKNN_recommender\n",
    "recommenders_list['p3alpha']=p3alpha_recommender\n",
    "recommenders_list['p3alpha_stacked']=p3alpha_stacked_recommender\n",
    "recommenders_list['ials']=ials_recommender\n",
    "recommenders_list['ials_stacked']=ials_stacked_recommender\n",
    "recommenders_list['nmf']=nmf_recommender\n",
    "\n",
    "\n",
    "\n",
    "\n",
    "recommenders=[\n",
    "recommenders_list['slim'],\n",
    "recommenders_list['rp3beta'],\n",
    "recommenders_list['rp3beta_stacked'],\n",
    "recommenders_list['itemKNN'],\n",
    "recommenders_list['p3alpha'],\n",
    "recommenders_list['p3alpha_stacked'],\n",
    "recommenders_list['pure_svd'],\n",
    "recommenders_list['scaled_svd'],\n",
    "recommenders_list['multVAE'],\n",
    "recommenders_list['ials'],\n",
    "recommenders_list['ials_stacked'],\n",
    "recommenders_list['nmf']\n",
    "]"
   ],
   "id": "bc4064487ff3cf6",
   "outputs": [],
   "execution_count": 7
  },
  {
   "metadata": {
    "ExecuteTime": {
     "end_time": "2025-01-05T07:11:27.637380Z",
     "start_time": "2025-01-05T07:11:27.606101Z"
    }
   },
   "cell_type": "code",
   "source": [
    "from src.Recommenders.Hybrids.LinearWeightedRecommender import LinearWeightedRecommender\n",
    "def objective(trial):\n",
    "    weights = [\n",
    "        trial.suggest_float('slim', 1e-2, 1, log=True),\n",
    "\n",
    "        trial.suggest_float('rp3beta', 1e-3, 1, log=True),\n",
    "        trial.suggest_float('rp3beta_stacked', 1e-3, 1, log=True),\n",
    "\n",
    "        trial.suggest_float('itemKNN', 1e-3,1, log=True),\n",
    "        trial.suggest_float('p3alpha', 1e-3, 1, log=True),\n",
    "        trial.suggest_float('p3alpha_stacked', 1e-3, 1, log=True),\n",
    "\n",
    "\n",
    "        trial.suggest_float('pure_svd', 1e-4, 0.2, log=True),\n",
    "        trial.suggest_float('scaled_svd', 1e-4, 0.2, log=True),\n",
    "        trial.suggest_float('multVAE', 1e-4, 0.2, log=True),\n",
    "        trial.suggest_float('ials', 1e-4, 0.2, log=True),\n",
    "        trial.suggest_float('ials_stacked', 1e-4, 0.2, log=True),\n",
    "\n",
    "        trial.suggest_float('nmf', 1e-5, 0.2, log=True)\n",
    "\n",
    "\n",
    "    ]\n",
    "\n",
    "    evaluator=EvaluatorHoldout(urm_test, cutoff_list=[10])\n",
    "    linear_combinator = LinearWeightedRecommender(urm_train, recommenders, weights)\n",
    "    result_df, _ = evaluator.evaluateRecommender(linear_combinator)\n",
    "    return result_df.loc[10, \"MAP\"]"
   ],
   "id": "dc950e616f46cdb3",
   "outputs": [],
   "execution_count": 8
  },
  {
   "metadata": {
    "ExecuteTime": {
     "end_time": "2025-01-05T07:12:43.184576Z",
     "start_time": "2025-01-05T07:12:42.334876Z"
    }
   },
   "cell_type": "code",
   "source": [
    "\n",
    "import optuna\n",
    "\n",
    "sampler = optuna.samplers.TPESampler(multivariate=True, group=True)\n",
    "study=optuna.load_study(\n",
    "    study_name='hyperparameters_hybrid_linear',\n",
    "    storage=f'sqlite:///{database_path}'\n",
    ")\n",
    "study.sampler=optuna.samplers.CmaEsSampler(seed=42)\n"
   ],
   "id": "8d82ee7af2229cdd",
   "outputs": [
    {
     "name": "stderr",
     "output_type": "stream",
     "text": [
      "C:\\Users\\jihad\\anaconda3\\envs\\RecSysFrameworkk\\lib\\site-packages\\optuna\\_experimental.py:31: ExperimentalWarning: Argument ``multivariate`` is an experimental feature. The interface can change in the future.\n",
      "  warnings.warn(\n",
      "C:\\Users\\jihad\\anaconda3\\envs\\RecSysFrameworkk\\lib\\site-packages\\optuna\\_experimental.py:31: ExperimentalWarning: Argument ``group`` is an experimental feature. The interface can change in the future.\n",
      "  warnings.warn(\n"
     ]
    }
   ],
   "execution_count": 11
  },
  {
   "metadata": {
    "ExecuteTime": {
     "end_time": "2025-01-05T07:12:26.392694Z",
     "start_time": "2025-01-05T07:12:24.092259Z"
    }
   },
   "cell_type": "code",
   "source": "!pip install cmaes\n",
   "id": "ea8f7e61440fbea1",
   "outputs": [
    {
     "name": "stdout",
     "output_type": "stream",
     "text": [
      "^C\n"
     ]
    }
   ],
   "execution_count": 9
  },
  {
   "metadata": {
    "ExecuteTime": {
     "end_time": "2025-01-05T14:02:56.729590Z",
     "start_time": "2025-01-05T07:12:48.557924Z"
    }
   },
   "cell_type": "code",
   "source": "study.optimize(objective, n_trials=100, n_jobs=4)",
   "id": "946507323a5d11dd",
   "outputs": [
    {
     "name": "stdout",
     "output_type": "stream",
     "text": [
      "EvaluatorHoldout: Ignoring 138 ( 0.4%) Users that have less than 1 test interactions\n",
      "EvaluatorHoldout: Ignoring 138 ( 0.4%) Users that have less than 1 test interactions\n",
      "EvaluatorHoldout: Ignoring 138 ( 0.4%) Users that have less than 1 test interactions\n",
      "EvaluatorHoldout: Ignoring 138 ( 0.4%) Users that have less than 1 test interactions\n"
     ]
    },
    {
     "name": "stderr",
     "output_type": "stream",
     "text": [
      "C:\\Users\\jihad\\PycharmProjects\\RecSys2024\\Recommenders\\Neural\\MultVAE_PyTorch_Recommender.py:188: UserWarning: Sparse CSR tensor support is in beta state. If you miss a functionality in the sparse tensor support, please submit a feature request to https://github.com/pytorch/pytorch/issues. (Triggered internally at C:\\cb\\pytorch_1000000000000\\work\\aten\\src\\ATen\\SparseCsrTensorImpl.cpp:56.)\n",
      "  user_batch_tensor = torch.sparse_csr_tensor(user_batch_tensor.indptr,\n"
     ]
    },
    {
     "name": "stdout",
     "output_type": "stream",
     "text": [
      "EvaluatorHoldout: Processed 8000 (22.5%) in 5.06 min. Users per second: 26\n",
      "EvaluatorHoldout: Processed 8000 (22.5%) in 5.20 min. Users per second: 26\n",
      "EvaluatorHoldout: Processed 9000 (25.3%) in 5.23 min. Users per second: 29\n",
      "EvaluatorHoldout: Processed 8000 (22.5%) in 5.24 min. Users per second: 25\n",
      "EvaluatorHoldout: Processed 20000 (56.2%) in 10.44 min. Users per second: 32\n",
      "EvaluatorHoldout: Processed 20000 (56.2%) in 10.45 min. Users per second: 32\n",
      "EvaluatorHoldout: Processed 20000 (56.2%) in 10.49 min. Users per second: 32\n",
      "EvaluatorHoldout: Processed 23000 (64.6%) in 10.50 min. Users per second: 36\n",
      "EvaluatorHoldout: Processed 35598 (100.0%) in 15.28 min. Users per second: 39\n"
     ]
    },
    {
     "name": "stderr",
     "output_type": "stream",
     "text": [
      "[I 2025-01-05 08:28:08,420] Trial 5 finished with value: 0.061627792313994754 and parameters: {'slim': 0.09143464945564576, 'rp3beta': 0.08111315273277504, 'rp3beta_stacked': 0.015439812274796762, 'itemKNN': 0.03671011021573329, 'p3alpha': 0.0128099123042032, 'p3alpha_stacked': 0.014033205606352505, 'pure_svd': 0.003452748394424517, 'scaled_svd': 0.002822275068994042, 'multVAE': 0.003672253648565988, 'ials': 0.00986628290603013, 'ials_stacked': 0.004635553911556021, 'nmf': 0.00040707791252191214}. Best is trial 80 with value: 0.06317071161479368.\n"
     ]
    },
    {
     "name": "stdout",
     "output_type": "stream",
     "text": [
      "EvaluatorHoldout: Ignoring 138 ( 0.4%) Users that have less than 1 test interactions\n",
      "EvaluatorHoldout: Processed 30000 (84.3%) in 15.46 min. Users per second: 32\n",
      "EvaluatorHoldout: Processed 31000 (87.1%) in 15.85 min. Users per second: 33\n",
      "EvaluatorHoldout: Processed 31000 (87.1%) in 15.95 min. Users per second: 32\n",
      "EvaluatorHoldout: Processed 35598 (100.0%) in 17.71 min. Users per second: 34\n"
     ]
    },
    {
     "name": "stderr",
     "output_type": "stream",
     "text": [
      "[I 2025-01-05 08:30:33,359] Trial 2 finished with value: 0.06125003344221929 and parameters: {'slim': 0.41842685213283665, 'rp3beta': 0.09600100563511361, 'rp3beta_stacked': 0.001967741578114668, 'itemKNN': 0.009831703462241544, 'p3alpha': 0.019013337386501277, 'p3alpha_stacked': 0.49885899767061825, 'pure_svd': 0.0010691058855670226, 'scaled_svd': 0.005434535850623739, 'multVAE': 0.008273173271398006, 'ials': 0.002388871276028099, 'ials_stacked': 0.0031137692442846, 'nmf': 0.000624029728600921}. Best is trial 80 with value: 0.06317071161479368.\n"
     ]
    },
    {
     "name": "stdout",
     "output_type": "stream",
     "text": [
      "EvaluatorHoldout: Ignoring 138 ( 0.4%) Users that have less than 1 test interactions\n",
      "EvaluatorHoldout: Processed 35598 (100.0%) in 17.95 min. Users per second: 33\n"
     ]
    },
    {
     "name": "stderr",
     "output_type": "stream",
     "text": [
      "[I 2025-01-05 08:30:46,095] Trial 130 finished with value: 0.06301902438784938 and parameters: {'slim': 0.8567629951379915, 'rp3beta': 0.10992804251716105, 'rp3beta_stacked': 0.007640633615272291, 'itemKNN': 0.05022649514064567, 'p3alpha': 0.05631181463368197, 'p3alpha_stacked': 0.08832873258314727, 'pure_svd': 0.006380981754668484, 'scaled_svd': 0.007474099354240886, 'multVAE': 0.01910821489459389, 'ials': 0.013732053029419034, 'ials_stacked': 0.0191023635740296, 'nmf': 5.756620166007311e-05}. Best is trial 80 with value: 0.06317071161479368.\n"
     ]
    },
    {
     "name": "stdout",
     "output_type": "stream",
     "text": [
      "EvaluatorHoldout: Ignoring 138 ( 0.4%) Users that have less than 1 test interactions\n",
      "EvaluatorHoldout: Processed 35598 (100.0%) in 18.03 min. Users per second: 33\n"
     ]
    },
    {
     "name": "stderr",
     "output_type": "stream",
     "text": [
      "[I 2025-01-05 08:30:52,879] Trial 3 finished with value: 0.06261442924829722 and parameters: {'slim': 0.37943232358951534, 'rp3beta': 0.06405681803182586, 'rp3beta_stacked': 0.0048072794043451505, 'itemKNN': 0.03219125158699202, 'p3alpha': 0.05660166067529105, 'p3alpha_stacked': 0.06335119481432991, 'pure_svd': 0.005769340174579795, 'scaled_svd': 0.005427055439490351, 'multVAE': 0.004970035860727829, 'ials': 0.0024933519050855447, 'ials_stacked': 0.007024037087465338, 'nmf': 0.0005191009690514376}. Best is trial 80 with value: 0.06317071161479368.\n"
     ]
    },
    {
     "name": "stdout",
     "output_type": "stream",
     "text": [
      "EvaluatorHoldout: Ignoring 138 ( 0.4%) Users that have less than 1 test interactions\n",
      "EvaluatorHoldout: Processed 14000 (39.3%) in 5.42 min. Users per second: 43\n",
      "EvaluatorHoldout: Processed 10000 (28.1%) in 5.09 min. Users per second: 33\n",
      "EvaluatorHoldout: Processed 11000 (30.9%) in 5.02 min. Users per second: 37\n",
      "EvaluatorHoldout: Processed 11000 (30.9%) in 5.25 min. Users per second: 35\n",
      "EvaluatorHoldout: Processed 28000 (78.7%) in 10.57 min. Users per second: 44\n",
      "EvaluatorHoldout: Processed 21000 (59.0%) in 10.13 min. Users per second: 35\n",
      "EvaluatorHoldout: Processed 21000 (59.0%) in 10.34 min. Users per second: 34\n",
      "EvaluatorHoldout: Processed 22000 (61.8%) in 10.43 min. Users per second: 35\n",
      "EvaluatorHoldout: Processed 35598 (100.0%) in 13.35 min. Users per second: 44\n"
     ]
    },
    {
     "name": "stderr",
     "output_type": "stream",
     "text": [
      "[I 2025-01-05 08:41:30,630] Trial 131 finished with value: 0.06259752977918136 and parameters: {'slim': 0.3880544561186587, 'rp3beta': 0.08068612046627344, 'rp3beta_stacked': 0.007862009142099976, 'itemKNN': 0.04436971884046522, 'p3alpha': 0.034093750811057144, 'p3alpha_stacked': 0.11477486426689525, 'pure_svd': 0.0024946808362255137, 'scaled_svd': 0.01575933463336757, 'multVAE': 0.00562562476455433, 'ials': 0.0051115707072743434, 'ials_stacked': 0.0050872658883900366, 'nmf': 9.786778681770972e-05}. Best is trial 80 with value: 0.06317071161479368.\n"
     ]
    },
    {
     "name": "stdout",
     "output_type": "stream",
     "text": [
      "EvaluatorHoldout: Ignoring 138 ( 0.4%) Users that have less than 1 test interactions\n",
      "EvaluatorHoldout: Processed 33000 (92.7%) in 15.23 min. Users per second: 36\n",
      "EvaluatorHoldout: Processed 33000 (92.7%) in 15.45 min. Users per second: 36\n",
      "EvaluatorHoldout: Processed 34000 (95.5%) in 15.65 min. Users per second: 36\n",
      "EvaluatorHoldout: Processed 15000 (42.1%) in 5.31 min. Users per second: 47\n",
      "EvaluatorHoldout: Processed 35598 (100.0%) in 16.66 min. Users per second: 36\n"
     ]
    },
    {
     "name": "stderr",
     "output_type": "stream",
     "text": [
      "[I 2025-01-05 08:47:13,767] Trial 132 finished with value: 0.0628224164546414 and parameters: {'slim': 0.94681244802012, 'rp3beta': 0.1520139076898301, 'rp3beta_stacked': 0.012649888873437156, 'itemKNN': 0.022382300163014807, 'p3alpha': 0.018886387117828668, 'p3alpha_stacked': 0.04634001011135899, 'pure_svd': 0.0013777416330059342, 'scaled_svd': 0.0030114907276743903, 'multVAE': 0.012569967226105138, 'ials': 0.004750436578137388, 'ials_stacked': 0.0016449522804372083, 'nmf': 0.00034568621874974466}. Best is trial 80 with value: 0.06317071161479368.\n"
     ]
    },
    {
     "name": "stdout",
     "output_type": "stream",
     "text": [
      "EvaluatorHoldout: Processed 35598 (100.0%) in 16.46 min. Users per second: 36\n",
      "EvaluatorHoldout: Processed 35598 (100.0%) in 16.31 min. Users per second: 36\n"
     ]
    },
    {
     "name": "stderr",
     "output_type": "stream",
     "text": [
      "[I 2025-01-05 08:47:14,525] Trial 133 finished with value: 0.0625565006327248 and parameters: {'slim': 0.5936518910822001, 'rp3beta': 0.033573885885010486, 'rp3beta_stacked': 0.004874466008049746, 'itemKNN': 0.015650243350300547, 'p3alpha': 0.08256617897179223, 'p3alpha_stacked': 0.027207932632701413, 'pure_svd': 0.0013508681310369216, 'scaled_svd': 0.0018584022000514252, 'multVAE': 0.006129202153588575, 'ials': 0.003615661044159667, 'ials_stacked': 0.020114578193680305, 'nmf': 0.000408346914282116}. Best is trial 80 with value: 0.06317071161479368.\n",
      "[I 2025-01-05 08:47:14,803] Trial 134 finished with value: 0.06223888536630634 and parameters: {'slim': 0.5988410123236579, 'rp3beta': 0.04305658231279547, 'rp3beta_stacked': 0.0071943368248725305, 'itemKNN': 0.01926199021583075, 'p3alpha': 0.0428284434029287, 'p3alpha_stacked': 0.21169074742160246, 'pure_svd': 0.007905142962536152, 'scaled_svd': 0.013531725135701738, 'multVAE': 0.0016348132215020053, 'ials': 0.0013173615472947056, 'ials_stacked': 0.00418280360366713, 'nmf': 0.0005029644786780377}. Best is trial 80 with value: 0.06317071161479368.\n"
     ]
    },
    {
     "name": "stdout",
     "output_type": "stream",
     "text": [
      "EvaluatorHoldout: Ignoring 138 ( 0.4%) Users that have less than 1 test interactions\n",
      "EvaluatorHoldout: Ignoring 138 ( 0.4%) Users that have less than 1 test interactions\n",
      "EvaluatorHoldout: Ignoring 138 ( 0.4%) Users that have less than 1 test interactions\n",
      "EvaluatorHoldout: Processed 30000 (84.3%) in 10.59 min. Users per second: 47\n",
      "EvaluatorHoldout: Processed 11000 (30.9%) in 5.10 min. Users per second: 36\n",
      "EvaluatorHoldout: Processed 12000 (33.7%) in 5.38 min. Users per second: 37\n",
      "EvaluatorHoldout: Processed 11000 (30.9%) in 5.42 min. Users per second: 34\n",
      "EvaluatorHoldout: Processed 35598 (100.0%) in 12.49 min. Users per second: 48\n"
     ]
    },
    {
     "name": "stderr",
     "output_type": "stream",
     "text": [
      "[I 2025-01-05 08:54:01,204] Trial 135 finished with value: 0.062224319049490086 and parameters: {'slim': 0.4542231383984856, 'rp3beta': 0.11819076510600975, 'rp3beta_stacked': 0.006295166960823702, 'itemKNN': 0.03994676350790221, 'p3alpha': 0.21855945512828936, 'p3alpha_stacked': 0.07160864239103476, 'pure_svd': 0.002524132122910892, 'scaled_svd': 0.010246359768048474, 'multVAE': 0.011151176224496162, 'ials': 0.0043344548185337214, 'ials_stacked': 0.007946619863860378, 'nmf': 0.0003014929014196873}. Best is trial 80 with value: 0.06317071161479368.\n"
     ]
    },
    {
     "name": "stdout",
     "output_type": "stream",
     "text": [
      "EvaluatorHoldout: Ignoring 138 ( 0.4%) Users that have less than 1 test interactions\n",
      "EvaluatorHoldout: Processed 23000 (64.6%) in 10.10 min. Users per second: 38\n",
      "EvaluatorHoldout: Processed 24000 (67.4%) in 10.54 min. Users per second: 38\n",
      "EvaluatorHoldout: Processed 22000 (61.8%) in 10.54 min. Users per second: 35\n",
      "EvaluatorHoldout: Processed 15000 (42.1%) in 5.19 min. Users per second: 48\n",
      "EvaluatorHoldout: Processed 35000 (98.3%) in 15.35 min. Users per second: 38\n",
      "EvaluatorHoldout: Processed 35598 (100.0%) in 15.39 min. Users per second: 39\n"
     ]
    },
    {
     "name": "stderr",
     "output_type": "stream",
     "text": [
      "[I 2025-01-05 09:02:38,299] Trial 136 finished with value: 0.0632289557019858 and parameters: {'slim': 0.6950543470242927, 'rp3beta': 0.009522107851180746, 'rp3beta_stacked': 0.0023511259039143855, 'itemKNN': 0.00943139891864652, 'p3alpha': 0.034724025740868504, 'p3alpha_stacked': 0.23359568373220516, 'pure_svd': 0.0016916023226241006, 'scaled_svd': 0.003881564399165366, 'multVAE': 0.018890332851256, 'ials': 0.003650235036257198, 'ials_stacked': 0.00167975514183398, 'nmf': 0.00021225856924390055}. Best is trial 136 with value: 0.0632289557019858.\n"
     ]
    },
    {
     "name": "stdout",
     "output_type": "stream",
     "text": [
      "EvaluatorHoldout: Ignoring 138 ( 0.4%) Users that have less than 1 test interactions\n",
      "EvaluatorHoldout: Processed 35598 (100.0%) in 15.60 min. Users per second: 38\n"
     ]
    },
    {
     "name": "stderr",
     "output_type": "stream",
     "text": [
      "[I 2025-01-05 09:02:52,729] Trial 137 finished with value: 0.06301411729925781 and parameters: {'slim': 0.5007523711356248, 'rp3beta': 0.07869696422410193, 'rp3beta_stacked': 0.001735058933166165, 'itemKNN': 0.00918361964604344, 'p3alpha': 0.03867328173583949, 'p3alpha_stacked': 0.09077113579699789, 'pure_svd': 0.0018387936545684112, 'scaled_svd': 0.0059790872255830844, 'multVAE': 0.009343547379221254, 'ials': 0.004848796927176928, 'ials_stacked': 0.002347491520189855, 'nmf': 0.0002889257968205656}. Best is trial 136 with value: 0.0632289557019858.\n"
     ]
    },
    {
     "name": "stdout",
     "output_type": "stream",
     "text": [
      "EvaluatorHoldout: Ignoring 138 ( 0.4%) Users that have less than 1 test interactions\n",
      "EvaluatorHoldout: Processed 33000 (92.7%) in 15.75 min. Users per second: 35\n",
      "EvaluatorHoldout: Processed 35598 (100.0%) in 17.01 min. Users per second: 35\n"
     ]
    },
    {
     "name": "stderr",
     "output_type": "stream",
     "text": [
      "[I 2025-01-05 09:04:17,434] Trial 138 finished with value: 0.0626961887907006 and parameters: {'slim': 0.4080794207756837, 'rp3beta': 0.034601098607535866, 'rp3beta_stacked': 0.006677533657482704, 'itemKNN': 0.013616723226876237, 'p3alpha': 0.059031682229502246, 'p3alpha_stacked': 0.09534853310869837, 'pure_svd': 0.004630552730539177, 'scaled_svd': 0.002677485070649407, 'multVAE': 0.004910646654683351, 'ials': 0.003361082502754353, 'ials_stacked': 0.014913773379012403, 'nmf': 0.00011185248595865149}. Best is trial 136 with value: 0.0632289557019858.\n"
     ]
    },
    {
     "name": "stdout",
     "output_type": "stream",
     "text": [
      "EvaluatorHoldout: Ignoring 138 ( 0.4%) Users that have less than 1 test interactions\n",
      "EvaluatorHoldout: Processed 30000 (84.3%) in 10.41 min. Users per second: 48\n",
      "EvaluatorHoldout: Processed 35598 (100.0%) in 12.32 min. Users per second: 48\n"
     ]
    },
    {
     "name": "stderr",
     "output_type": "stream",
     "text": [
      "[I 2025-01-05 09:06:21,438] Trial 139 finished with value: 0.0621682620835641 and parameters: {'slim': 0.8216927352149574, 'rp3beta': 0.023900531617533312, 'rp3beta_stacked': 0.006696143442860483, 'itemKNN': 0.010632823458652668, 'p3alpha': 0.03738360471388619, 'p3alpha_stacked': 0.4362550920616968, 'pure_svd': 0.006161370077331862, 'scaled_svd': 0.004147571249890908, 'multVAE': 0.0031755940131350563, 'ials': 0.0013763201898017614, 'ials_stacked': 0.005298577997654627, 'nmf': 0.00017068541990794106}. Best is trial 136 with value: 0.0632289557019858.\n"
     ]
    },
    {
     "name": "stdout",
     "output_type": "stream",
     "text": [
      "EvaluatorHoldout: Ignoring 138 ( 0.4%) Users that have less than 1 test interactions\n",
      "EvaluatorHoldout: Processed 11000 (30.9%) in 5.09 min. Users per second: 36\n",
      "EvaluatorHoldout: Processed 11000 (30.9%) in 5.33 min. Users per second: 34\n",
      "EvaluatorHoldout: Processed 12000 (33.7%) in 5.35 min. Users per second: 37\n",
      "EvaluatorHoldout: Processed 14000 (39.3%) in 5.04 min. Users per second: 46\n",
      "EvaluatorHoldout: Processed 23000 (64.6%) in 10.51 min. Users per second: 36\n",
      "EvaluatorHoldout: Processed 24000 (67.4%) in 10.55 min. Users per second: 38\n",
      "EvaluatorHoldout: Processed 25000 (70.2%) in 10.73 min. Users per second: 39\n",
      "EvaluatorHoldout: Processed 30000 (84.3%) in 10.33 min. Users per second: 48\n",
      "EvaluatorHoldout: Processed 35000 (98.3%) in 15.68 min. Users per second: 37\n",
      "EvaluatorHoldout: Processed 35598 (100.0%) in 15.66 min. Users per second: 38\n"
     ]
    },
    {
     "name": "stderr",
     "output_type": "stream",
     "text": [
      "[I 2025-01-05 09:18:34,418] Trial 141 finished with value: 0.06262127821520012 and parameters: {'slim': 0.7386299376979295, 'rp3beta': 0.030310252021224962, 'rp3beta_stacked': 0.010642494641140523, 'itemKNN': 0.023097893804738864, 'p3alpha': 0.12352569443259451, 'p3alpha_stacked': 0.1540844490200754, 'pure_svd': 0.008354050200880946, 'scaled_svd': 0.011314107943279986, 'multVAE': 0.006260049852277086, 'ials': 0.002067075377815078, 'ials_stacked': 0.023316945871340065, 'nmf': 0.0002939150082868222}. Best is trial 136 with value: 0.0632289557019858.\n"
     ]
    },
    {
     "name": "stdout",
     "output_type": "stream",
     "text": [
      "EvaluatorHoldout: Ignoring 138 ( 0.4%) Users that have less than 1 test interactions\n",
      "EvaluatorHoldout: Processed 35598 (100.0%) in 12.26 min. Users per second: 48\n"
     ]
    },
    {
     "name": "stderr",
     "output_type": "stream",
     "text": [
      "[I 2025-01-05 09:18:38,739] Trial 143 finished with value: 0.06278620187329768 and parameters: {'slim': 0.8439274073275891, 'rp3beta': 0.017893469263896743, 'rp3beta_stacked': 0.0010611340993506068, 'itemKNN': 0.021110798906976543, 'p3alpha': 0.01941496680824177, 'p3alpha_stacked': 0.06446668787885593, 'pure_svd': 0.004237804968060498, 'scaled_svd': 0.0017211238557048633, 'multVAE': 0.012870260410623653, 'ials': 0.0071600297299666636, 'ials_stacked': 0.004260548780440408, 'nmf': 8.09374329490887e-05}. Best is trial 136 with value: 0.0632289557019858.\n"
     ]
    },
    {
     "name": "stdout",
     "output_type": "stream",
     "text": [
      "EvaluatorHoldout: Ignoring 138 ( 0.4%) Users that have less than 1 test interactions\n",
      "EvaluatorHoldout: Processed 35598 (100.0%) in 16.02 min. Users per second: 37\n"
     ]
    },
    {
     "name": "stderr",
     "output_type": "stream",
     "text": [
      "[I 2025-01-05 09:18:41,766] Trial 140 finished with value: 0.06246726006543761 and parameters: {'slim': 0.5088858534311954, 'rp3beta': 0.06847262384658288, 'rp3beta_stacked': 0.014316191017294635, 'itemKNN': 0.030728301970136197, 'p3alpha': 0.1203592236017974, 'p3alpha_stacked': 0.06597388339873934, 'pure_svd': 0.0043056169493264325, 'scaled_svd': 0.0028714634336542426, 'multVAE': 0.004957155753866396, 'ials': 0.002634847667558664, 'ials_stacked': 0.0040316614613376345, 'nmf': 4.9447874740305786e-05}. Best is trial 136 with value: 0.0632289557019858.\n"
     ]
    },
    {
     "name": "stdout",
     "output_type": "stream",
     "text": [
      "EvaluatorHoldout: Ignoring 138 ( 0.4%) Users that have less than 1 test interactions\n",
      "EvaluatorHoldout: Processed 35598 (100.0%) in 15.62 min. Users per second: 38\n"
     ]
    },
    {
     "name": "stderr",
     "output_type": "stream",
     "text": [
      "[I 2025-01-05 09:19:57,095] Trial 142 finished with value: 0.0623893162804741 and parameters: {'slim': 0.6482354992549852, 'rp3beta': 0.0498969980605386, 'rp3beta_stacked': 0.0015544430659889643, 'itemKNN': 0.004178646320404739, 'p3alpha': 0.04726809831506717, 'p3alpha_stacked': 0.12949869352817045, 'pure_svd': 0.008239669701293872, 'scaled_svd': 0.0028539658558043527, 'multVAE': 0.002261770343032625, 'ials': 0.008487512571708588, 'ials_stacked': 0.0037210543606170034, 'nmf': 0.000661263965309611}. Best is trial 136 with value: 0.0632289557019858.\n"
     ]
    },
    {
     "name": "stdout",
     "output_type": "stream",
     "text": [
      "EvaluatorHoldout: Ignoring 138 ( 0.4%) Users that have less than 1 test interactions\n",
      "EvaluatorHoldout: Processed 13000 (36.5%) in 5.17 min. Users per second: 42\n",
      "EvaluatorHoldout: Processed 11000 (30.9%) in 5.51 min. Users per second: 33\n",
      "EvaluatorHoldout: Processed 11000 (30.9%) in 5.45 min. Users per second: 34\n",
      "EvaluatorHoldout: Processed 11000 (30.9%) in 5.26 min. Users per second: 35\n",
      "EvaluatorHoldout: Processed 22000 (61.8%) in 10.20 min. Users per second: 36\n",
      "EvaluatorHoldout: Processed 20000 (56.2%) in 10.55 min. Users per second: 32\n",
      "EvaluatorHoldout: Processed 21000 (59.0%) in 10.45 min. Users per second: 33\n",
      "EvaluatorHoldout: Processed 22000 (61.8%) in 10.55 min. Users per second: 35\n",
      "EvaluatorHoldout: Processed 35598 (100.0%) in 15.26 min. Users per second: 39\n"
     ]
    },
    {
     "name": "stderr",
     "output_type": "stream",
     "text": [
      "[I 2025-01-05 09:33:56,578] Trial 145 finished with value: 0.061500297189870476 and parameters: {'slim': 0.44908821026828466, 'rp3beta': 0.019538371981880232, 'rp3beta_stacked': 0.0016222504112661663, 'itemKNN': 0.01272120117929036, 'p3alpha': 0.030708961756687178, 'p3alpha_stacked': 0.08307927529501768, 'pure_svd': 0.0007141265489788831, 'scaled_svd': 0.003115403480056917, 'multVAE': 0.04136720570032629, 'ials': 0.008214135895999512, 'ials_stacked': 0.0013252651324763497, 'nmf': 0.000111917630308389}. Best is trial 136 with value: 0.0632289557019858.\n"
     ]
    },
    {
     "name": "stdout",
     "output_type": "stream",
     "text": [
      "EvaluatorHoldout: Ignoring 138 ( 0.4%) Users that have less than 1 test interactions\n",
      "EvaluatorHoldout: Processed 31000 (87.1%) in 15.57 min. Users per second: 33\n",
      "EvaluatorHoldout: Processed 33000 (92.7%) in 15.52 min. Users per second: 35\n",
      "EvaluatorHoldout: Processed 35598 (100.0%) in 16.57 min. Users per second: 36\n"
     ]
    },
    {
     "name": "stderr",
     "output_type": "stream",
     "text": [
      "[I 2025-01-05 09:35:18,669] Trial 146 finished with value: 0.06258988265793247 and parameters: {'slim': 0.9511067633850048, 'rp3beta': 0.02068744499456366, 'rp3beta_stacked': 0.0018494888434950273, 'itemKNN': 0.002349858933016876, 'p3alpha': 0.03966323891345695, 'p3alpha_stacked': 0.07874573210003044, 'pure_svd': 0.002948586343043163, 'scaled_svd': 0.002557801901460179, 'multVAE': 0.00905195566748704, 'ials': 0.004570716863151331, 'ials_stacked': 0.0025879433846067914, 'nmf': 0.0006090201759747909}. Best is trial 136 with value: 0.0632289557019858.\n"
     ]
    },
    {
     "name": "stdout",
     "output_type": "stream",
     "text": [
      "EvaluatorHoldout: Ignoring 138 ( 0.4%) Users that have less than 1 test interactions\n",
      "EvaluatorHoldout: Processed 34000 (95.5%) in 15.59 min. Users per second: 36\n",
      "EvaluatorHoldout: Processed 35598 (100.0%) in 17.41 min. Users per second: 34\n"
     ]
    },
    {
     "name": "stderr",
     "output_type": "stream",
     "text": [
      "[I 2025-01-05 09:36:01,980] Trial 144 finished with value: 0.06307457191727191 and parameters: {'slim': 0.3827639601100833, 'rp3beta': 0.019595499577363912, 'rp3beta_stacked': 0.0037936218099414516, 'itemKNN': 0.02046769885387787, 'p3alpha': 0.055579229579982924, 'p3alpha_stacked': 0.11925906321346226, 'pure_svd': 0.003283698004978177, 'scaled_svd': 0.01603204293092649, 'multVAE': 0.009839718468302464, 'ials': 0.001332645354726603, 'ials_stacked': 0.0017060547077031513, 'nmf': 0.00040106249206097307}. Best is trial 136 with value: 0.0632289557019858.\n"
     ]
    },
    {
     "name": "stdout",
     "output_type": "stream",
     "text": [
      "EvaluatorHoldout: Ignoring 138 ( 0.4%) Users that have less than 1 test interactions\n",
      "EvaluatorHoldout: Processed 35598 (100.0%) in 16.40 min. Users per second: 36\n"
     ]
    },
    {
     "name": "stderr",
     "output_type": "stream",
     "text": [
      "[I 2025-01-05 09:36:23,993] Trial 147 finished with value: 0.06306809081480225 and parameters: {'slim': 0.49851389042476296, 'rp3beta': 0.02332637387547281, 'rp3beta_stacked': 0.002112730678812895, 'itemKNN': 0.01162708153359958, 'p3alpha': 0.09160988156842503, 'p3alpha_stacked': 0.1168675979444186, 'pure_svd': 0.0015490514543412199, 'scaled_svd': 0.005149276903887161, 'multVAE': 0.013645968714121074, 'ials': 0.0031349726059070908, 'ials_stacked': 0.0017857034028797207, 'nmf': 0.0001063078530418281}. Best is trial 136 with value: 0.0632289557019858.\n"
     ]
    },
    {
     "name": "stdout",
     "output_type": "stream",
     "text": [
      "EvaluatorHoldout: Ignoring 138 ( 0.4%) Users that have less than 1 test interactions\n",
      "EvaluatorHoldout: Processed 13000 (36.5%) in 5.12 min. Users per second: 42\n",
      "EvaluatorHoldout: Processed 10000 (28.1%) in 5.27 min. Users per second: 32\n",
      "EvaluatorHoldout: Processed 11000 (30.9%) in 5.34 min. Users per second: 34\n",
      "EvaluatorHoldout: Processed 11000 (30.9%) in 5.21 min. Users per second: 35\n",
      "EvaluatorHoldout: Processed 26000 (73.0%) in 10.27 min. Users per second: 42\n",
      "EvaluatorHoldout: Processed 20000 (56.2%) in 10.81 min. Users per second: 31\n",
      "EvaluatorHoldout: Processed 21000 (59.0%) in 10.69 min. Users per second: 33\n",
      "EvaluatorHoldout: Processed 21000 (59.0%) in 10.28 min. Users per second: 34\n",
      "EvaluatorHoldout: Processed 35598 (100.0%) in 15.61 min. Users per second: 38\n"
     ]
    },
    {
     "name": "stderr",
     "output_type": "stream",
     "text": [
      "[I 2025-01-05 09:49:34,594] Trial 148 finished with value: 0.06227930697907754 and parameters: {'slim': 0.6864961261315136, 'rp3beta': 0.04846788270870165, 'rp3beta_stacked': 0.001750955338245867, 'itemKNN': 0.02985312619766818, 'p3alpha': 0.021136650968958916, 'p3alpha_stacked': 0.03382959609737069, 'pure_svd': 0.003585935238493274, 'scaled_svd': 0.004641578416503076, 'multVAE': 0.0038337659866802868, 'ials': 0.0054683358527643, 'ials_stacked': 0.0010971189065529584, 'nmf': 0.0001673174073918041}. Best is trial 136 with value: 0.0632289557019858.\n"
     ]
    },
    {
     "name": "stdout",
     "output_type": "stream",
     "text": [
      "EvaluatorHoldout: Ignoring 138 ( 0.4%) Users that have less than 1 test interactions\n",
      "EvaluatorHoldout: Processed 31000 (87.1%) in 16.33 min. Users per second: 32\n",
      "EvaluatorHoldout: Processed 31000 (87.1%) in 16.03 min. Users per second: 32\n",
      "EvaluatorHoldout: Processed 32000 (89.9%) in 15.73 min. Users per second: 34\n",
      "EvaluatorHoldout: Processed 35598 (100.0%) in 18.62 min. Users per second: 32\n"
     ]
    },
    {
     "name": "stderr",
     "output_type": "stream",
     "text": [
      "[I 2025-01-05 09:53:58,734] Trial 149 finished with value: 0.06264694400523456 and parameters: {'slim': 0.68984378084268, 'rp3beta': 0.140098043263425, 'rp3beta_stacked': 0.0057126354257418105, 'itemKNN': 0.008587365949468097, 'p3alpha': 0.0691274931683793, 'p3alpha_stacked': 0.21891508584083041, 'pure_svd': 0.0012747898067709163, 'scaled_svd': 0.0029493829124081997, 'multVAE': 0.008006919447935957, 'ials': 0.009749162994743939, 'ials_stacked': 0.002658209201882651, 'nmf': 0.0005310325889237362}. Best is trial 136 with value: 0.0632289557019858.\n"
     ]
    },
    {
     "name": "stdout",
     "output_type": "stream",
     "text": [
      "EvaluatorHoldout: Ignoring 138 ( 0.4%) Users that have less than 1 test interactions\n",
      "EvaluatorHoldout: Processed 35598 (100.0%) in 17.70 min. Users per second: 34\n"
     ]
    },
    {
     "name": "stderr",
     "output_type": "stream",
     "text": [
      "[I 2025-01-05 09:54:09,599] Trial 151 finished with value: 0.06303768960624478 and parameters: {'slim': 0.45622281613535004, 'rp3beta': 0.026354376989196456, 'rp3beta_stacked': 0.0038160318058682165, 'itemKNN': 0.010351952568968913, 'p3alpha': 0.015452959081083949, 'p3alpha_stacked': 0.14599710093276308, 'pure_svd': 0.0009505448458162059, 'scaled_svd': 0.004213261535828052, 'multVAE': 0.02175730345685948, 'ials': 0.002899166834236916, 'ials_stacked': 0.001581854760651037, 'nmf': 0.00011345161805269769}. Best is trial 136 with value: 0.0632289557019858.\n"
     ]
    },
    {
     "name": "stdout",
     "output_type": "stream",
     "text": [
      "EvaluatorHoldout: Ignoring 138 ( 0.4%) Users that have less than 1 test interactions\n",
      "EvaluatorHoldout: Processed 35598 (100.0%) in 18.66 min. Users per second: 32\n"
     ]
    },
    {
     "name": "stderr",
     "output_type": "stream",
     "text": [
      "[I 2025-01-05 09:54:42,200] Trial 150 finished with value: 0.06251089770514823 and parameters: {'slim': 0.5169189895727516, 'rp3beta': 0.1296698581001369, 'rp3beta_stacked': 0.005490624573133797, 'itemKNN': 0.03509008836298008, 'p3alpha': 0.027266595445842628, 'p3alpha_stacked': 0.33560012394766486, 'pure_svd': 0.003926315532075591, 'scaled_svd': 0.0028379497062453476, 'multVAE': 0.013739884485025498, 'ials': 0.018733834710029654, 'ials_stacked': 0.002234935535997448, 'nmf': 3.879651205536157e-05}. Best is trial 136 with value: 0.0632289557019858.\n"
     ]
    },
    {
     "name": "stdout",
     "output_type": "stream",
     "text": [
      "EvaluatorHoldout: Ignoring 138 ( 0.4%) Users that have less than 1 test interactions\n",
      "EvaluatorHoldout: Processed 8000 (22.5%) in 5.37 min. Users per second: 25\n",
      "EvaluatorHoldout: Processed 10000 (28.1%) in 5.22 min. Users per second: 32\n",
      "EvaluatorHoldout: Processed 9000 (25.3%) in 5.06 min. Users per second: 30\n",
      "EvaluatorHoldout: Processed 10000 (28.1%) in 5.17 min. Users per second: 32\n",
      "EvaluatorHoldout: Processed 17000 (47.8%) in 10.96 min. Users per second: 26\n",
      "EvaluatorHoldout: Processed 19000 (53.4%) in 10.10 min. Users per second: 31\n",
      "EvaluatorHoldout: Processed 21000 (59.0%) in 10.36 min. Users per second: 34\n",
      "EvaluatorHoldout: Processed 20000 (56.2%) in 10.59 min. Users per second: 31\n",
      "EvaluatorHoldout: Processed 26000 (73.0%) in 16.35 min. Users per second: 27\n",
      "EvaluatorHoldout: Processed 29000 (81.5%) in 15.11 min. Users per second: 32\n",
      "EvaluatorHoldout: Processed 31000 (87.1%) in 15.40 min. Users per second: 34\n",
      "EvaluatorHoldout: Processed 30000 (84.3%) in 15.76 min. Users per second: 32\n",
      "EvaluatorHoldout: Processed 35000 (98.3%) in 21.90 min. Users per second: 27\n",
      "EvaluatorHoldout: Processed 35598 (100.0%) in 17.70 min. Users per second: 34\n"
     ]
    },
    {
     "name": "stderr",
     "output_type": "stream",
     "text": [
      "[I 2025-01-05 10:11:41,760] Trial 153 finished with value: 0.06252830884024847 and parameters: {'slim': 0.4531928461597777, 'rp3beta': 0.05098989176983107, 'rp3beta_stacked': 0.007601861017594425, 'itemKNN': 0.004956411638323781, 'p3alpha': 0.1564874644016423, 'p3alpha_stacked': 0.05833823387940023, 'pure_svd': 0.002424358581239436, 'scaled_svd': 0.010159677198302306, 'multVAE': 0.007436058909003013, 'ials': 0.0015497152664604164, 'ials_stacked': 0.002421043959387894, 'nmf': 0.0003344351788963022}. Best is trial 136 with value: 0.0632289557019858.\n"
     ]
    },
    {
     "name": "stdout",
     "output_type": "stream",
     "text": [
      "EvaluatorHoldout: Ignoring 138 ( 0.4%) Users that have less than 1 test interactions\n",
      "EvaluatorHoldout: Processed 35598 (100.0%) in 22.36 min. Users per second: 27\n"
     ]
    },
    {
     "name": "stderr",
     "output_type": "stream",
     "text": [
      "[I 2025-01-05 10:11:57,004] Trial 152 finished with value: 0.06295703365714131 and parameters: {'slim': 0.9088250480538818, 'rp3beta': 0.049279292795404335, 'rp3beta_stacked': 0.0017632988681784369, 'itemKNN': 0.007644400931241703, 'p3alpha': 0.016035434405340235, 'p3alpha_stacked': 0.059649247887003015, 'pure_svd': 0.0007992413831757649, 'scaled_svd': 0.0062274910616706225, 'multVAE': 0.017647498732195246, 'ials': 0.01493010635684229, 'ials_stacked': 0.0008807681028372725, 'nmf': 0.0008860346804679372}. Best is trial 136 with value: 0.0632289557019858.\n"
     ]
    },
    {
     "name": "stdout",
     "output_type": "stream",
     "text": [
      "EvaluatorHoldout: Ignoring 138 ( 0.4%) Users that have less than 1 test interactions\n",
      "EvaluatorHoldout: Processed 35598 (100.0%) in 18.54 min. Users per second: 32\n"
     ]
    },
    {
     "name": "stderr",
     "output_type": "stream",
     "text": [
      "[I 2025-01-05 10:12:43,127] Trial 154 finished with value: 0.06189684278677855 and parameters: {'slim': 0.20322349021533642, 'rp3beta': 0.06589984444725273, 'rp3beta_stacked': 0.004807796098408812, 'itemKNN': 0.017880137540299334, 'p3alpha': 0.0588747090296858, 'p3alpha_stacked': 0.17245914496735998, 'pure_svd': 0.0026837265303576584, 'scaled_svd': 0.002617271886370784, 'multVAE': 0.008033074747416765, 'ials': 0.00416037522417197, 'ials_stacked': 0.004698886916601647, 'nmf': 0.002850816846481645}. Best is trial 136 with value: 0.0632289557019858.\n"
     ]
    },
    {
     "name": "stdout",
     "output_type": "stream",
     "text": [
      "EvaluatorHoldout: Ignoring 138 ( 0.4%) Users that have less than 1 test interactions\n",
      "EvaluatorHoldout: Processed 35598 (100.0%) in 18.86 min. Users per second: 31\n"
     ]
    },
    {
     "name": "stderr",
     "output_type": "stream",
     "text": [
      "[I 2025-01-05 10:13:35,725] Trial 155 finished with value: 0.0628997125752544 and parameters: {'slim': 0.3463898147126136, 'rp3beta': 0.02530170881675392, 'rp3beta_stacked': 0.0016968757274478388, 'itemKNN': 0.00598128845298372, 'p3alpha': 0.022505191726312195, 'p3alpha_stacked': 0.1870535543807857, 'pure_svd': 0.0019078767716977155, 'scaled_svd': 0.0024849120539475636, 'multVAE': 0.009613286914856958, 'ials': 0.004058847702469938, 'ials_stacked': 0.004487482878988193, 'nmf': 0.0007094868262827004}. Best is trial 136 with value: 0.0632289557019858.\n"
     ]
    },
    {
     "name": "stdout",
     "output_type": "stream",
     "text": [
      "EvaluatorHoldout: Ignoring 138 ( 0.4%) Users that have less than 1 test interactions\n",
      "EvaluatorHoldout: Processed 7000 (19.7%) in 5.04 min. Users per second: 23\n",
      "EvaluatorHoldout: Processed 10000 (28.1%) in 5.31 min. Users per second: 31\n",
      "EvaluatorHoldout: Processed 10000 (28.1%) in 5.37 min. Users per second: 31\n",
      "EvaluatorHoldout: Processed 9000 (25.3%) in 5.07 min. Users per second: 30\n",
      "EvaluatorHoldout: Processed 16000 (44.9%) in 10.08 min. Users per second: 26\n",
      "EvaluatorHoldout: Processed 21000 (59.0%) in 10.73 min. Users per second: 33\n",
      "EvaluatorHoldout: Processed 19000 (53.4%) in 10.45 min. Users per second: 30\n",
      "EvaluatorHoldout: Processed 18000 (50.6%) in 10.08 min. Users per second: 30\n",
      "EvaluatorHoldout: Processed 25000 (70.2%) in 15.28 min. Users per second: 27\n",
      "EvaluatorHoldout: Processed 32000 (89.9%) in 15.87 min. Users per second: 34\n",
      "EvaluatorHoldout: Processed 29000 (81.5%) in 15.58 min. Users per second: 31\n",
      "EvaluatorHoldout: Processed 28000 (78.7%) in 15.25 min. Users per second: 31\n",
      "EvaluatorHoldout: Processed 35598 (100.0%) in 17.54 min. Users per second: 34\n"
     ]
    },
    {
     "name": "stderr",
     "output_type": "stream",
     "text": [
      "[I 2025-01-05 10:29:15,730] Trial 156 finished with value: 0.06265553977082493 and parameters: {'slim': 0.4459976612724062, 'rp3beta': 0.04184947342238665, 'rp3beta_stacked': 0.0011903352316911156, 'itemKNN': 0.04472423138501357, 'p3alpha': 0.023188384502243066, 'p3alpha_stacked': 0.11850482833902415, 'pure_svd': 0.00809855070196857, 'scaled_svd': 0.002739370764146378, 'multVAE': 0.004689367514449235, 'ials': 0.01171686876518938, 'ials_stacked': 0.005564842118117766, 'nmf': 0.00024057915099127177}. Best is trial 136 with value: 0.0632289557019858.\n"
     ]
    },
    {
     "name": "stdout",
     "output_type": "stream",
     "text": [
      "EvaluatorHoldout: Ignoring 138 ( 0.4%) Users that have less than 1 test interactions\n",
      "EvaluatorHoldout: Processed 35598 (100.0%) in 18.96 min. Users per second: 31\n"
     ]
    },
    {
     "name": "stderr",
     "output_type": "stream",
     "text": [
      "[I 2025-01-05 10:31:42,282] Trial 158 finished with value: 0.06300068021477735 and parameters: {'slim': 0.44398872328440675, 'rp3beta': 0.028967107539678405, 'rp3beta_stacked': 0.002956526826913892, 'itemKNN': 0.01133126947601677, 'p3alpha': 0.02389456653498423, 'p3alpha_stacked': 0.10568767717759957, 'pure_svd': 0.00907046814366352, 'scaled_svd': 0.0064305895302664475, 'multVAE': 0.02010594109794797, 'ials': 0.0017507120532759648, 'ials_stacked': 0.0009663834710151155, 'nmf': 0.000338205295109319}. Best is trial 136 with value: 0.0632289557019858.\n"
     ]
    },
    {
     "name": "stdout",
     "output_type": "stream",
     "text": [
      "EvaluatorHoldout: Ignoring 138 ( 0.4%) Users that have less than 1 test interactions\n",
      "EvaluatorHoldout: Processed 34000 (95.5%) in 20.41 min. Users per second: 28\n",
      "EvaluatorHoldout: Processed 35598 (100.0%) in 19.22 min. Users per second: 31\n"
     ]
    },
    {
     "name": "stderr",
     "output_type": "stream",
     "text": [
      "[I 2025-01-05 10:32:50,505] Trial 159 finished with value: 0.06286476210987217 and parameters: {'slim': 0.3839161859954578, 'rp3beta': 0.029936656522263606, 'rp3beta_stacked': 0.002655878880463443, 'itemKNN': 0.00904973968478442, 'p3alpha': 0.028149129011669896, 'p3alpha_stacked': 0.17373171094077836, 'pure_svd': 0.003254693892938102, 'scaled_svd': 0.007122022822107419, 'multVAE': 0.007908634487101497, 'ials': 0.007530389287093735, 'ials_stacked': 0.00149328468318718, 'nmf': 0.0001562029253161559}. Best is trial 136 with value: 0.0632289557019858.\n"
     ]
    },
    {
     "name": "stdout",
     "output_type": "stream",
     "text": [
      "EvaluatorHoldout: Ignoring 138 ( 0.4%) Users that have less than 1 test interactions\n",
      "EvaluatorHoldout: Processed 35598 (100.0%) in 21.10 min. Users per second: 28\n"
     ]
    },
    {
     "name": "stderr",
     "output_type": "stream",
     "text": [
      "[I 2025-01-05 10:33:04,195] Trial 157 finished with value: 0.06261112404210128 and parameters: {'slim': 0.2895218942909714, 'rp3beta': 0.013974653597609705, 'rp3beta_stacked': 0.004830081903337426, 'itemKNN': 0.013144950308807822, 'p3alpha': 0.13485632166432807, 'p3alpha_stacked': 0.03680560962411941, 'pure_svd': 0.004280013581078003, 'scaled_svd': 0.014695191296941478, 'multVAE': 0.009742096884034351, 'ials': 0.002309168437563675, 'ials_stacked': 0.0022088164064852705, 'nmf': 6.061786188831054e-05}. Best is trial 136 with value: 0.0632289557019858.\n"
     ]
    },
    {
     "name": "stdout",
     "output_type": "stream",
     "text": [
      "EvaluatorHoldout: Ignoring 138 ( 0.4%) Users that have less than 1 test interactions\n",
      "EvaluatorHoldout: Processed 10000 (28.1%) in 5.24 min. Users per second: 32\n",
      "EvaluatorHoldout: Processed 9000 (25.3%) in 5.02 min. Users per second: 30\n",
      "EvaluatorHoldout: Processed 9000 (25.3%) in 5.15 min. Users per second: 29\n",
      "EvaluatorHoldout: Processed 10000 (28.1%) in 5.46 min. Users per second: 31\n",
      "EvaluatorHoldout: Processed 20000 (56.2%) in 10.47 min. Users per second: 32\n",
      "EvaluatorHoldout: Processed 20000 (56.2%) in 10.24 min. Users per second: 33\n",
      "EvaluatorHoldout: Processed 18000 (50.6%) in 10.58 min. Users per second: 28\n",
      "EvaluatorHoldout: Processed 21000 (59.0%) in 10.89 min. Users per second: 32\n",
      "EvaluatorHoldout: Processed 31000 (87.1%) in 15.58 min. Users per second: 33\n",
      "EvaluatorHoldout: Processed 35598 (100.0%) in 17.72 min. Users per second: 33\n"
     ]
    },
    {
     "name": "stderr",
     "output_type": "stream",
     "text": [
      "[I 2025-01-05 10:47:01,383] Trial 160 finished with value: 0.06199068500370339 and parameters: {'slim': 0.2595516187476199, 'rp3beta': 0.03311265725539355, 'rp3beta_stacked': 0.0032673041346992352, 'itemKNN': 0.011515326961058867, 'p3alpha': 0.0533845334453721, 'p3alpha_stacked': 0.05712681495367976, 'pure_svd': 0.0005676706412307122, 'scaled_svd': 0.003404283567537311, 'multVAE': 0.023519061546339586, 'ials': 0.0006007290385192929, 'ials_stacked': 0.0012045457102871568, 'nmf': 5.949373010146997e-05}. Best is trial 136 with value: 0.0632289557019858.\n"
     ]
    },
    {
     "name": "stdout",
     "output_type": "stream",
     "text": [
      "EvaluatorHoldout: Ignoring 138 ( 0.4%) Users that have less than 1 test interactions\n",
      "EvaluatorHoldout: Processed 31000 (87.1%) in 15.48 min. Users per second: 33\n",
      "EvaluatorHoldout: Processed 27000 (75.8%) in 15.77 min. Users per second: 29\n",
      "EvaluatorHoldout: Processed 32000 (89.9%) in 16.31 min. Users per second: 33\n",
      "EvaluatorHoldout: Processed 35598 (100.0%) in 17.92 min. Users per second: 33\n"
     ]
    },
    {
     "name": "stderr",
     "output_type": "stream",
     "text": [
      "[I 2025-01-05 10:49:39,050] Trial 161 finished with value: 0.06270456383763132 and parameters: {'slim': 0.6056259328682256, 'rp3beta': 0.031352513237235355, 'rp3beta_stacked': 0.0017209656910234985, 'itemKNN': 0.014136301832286206, 'p3alpha': 0.03321707575891717, 'p3alpha_stacked': 0.08357431063339384, 'pure_svd': 0.0018008014521306201, 'scaled_svd': 0.007527844892212088, 'multVAE': 0.005753847935110387, 'ials': 0.004520299048185236, 'ials_stacked': 0.0032110414594490153, 'nmf': 0.0007064137634902022}. Best is trial 136 with value: 0.0632289557019858.\n"
     ]
    },
    {
     "name": "stdout",
     "output_type": "stream",
     "text": [
      "EvaluatorHoldout: Ignoring 138 ( 0.4%) Users that have less than 1 test interactions\n",
      "EvaluatorHoldout: Processed 35598 (100.0%) in 18.24 min. Users per second: 33\n"
     ]
    },
    {
     "name": "stderr",
     "output_type": "stream",
     "text": [
      "[I 2025-01-05 10:51:05,572] Trial 162 finished with value: 0.06304582386918295 and parameters: {'slim': 0.6854859965217793, 'rp3beta': 0.04810310980977514, 'rp3beta_stacked': 0.0026882563442953426, 'itemKNN': 0.0050352693221621106, 'p3alpha': 0.02666147694384007, 'p3alpha_stacked': 0.0681887169558971, 'pure_svd': 0.0030089061129547653, 'scaled_svd': 0.0036178116510348587, 'multVAE': 0.02667361915020627, 'ials': 0.0013200116481019925, 'ials_stacked': 0.0007243362884149017, 'nmf': 0.00020580637918401077}. Best is trial 136 with value: 0.0632289557019858.\n"
     ]
    },
    {
     "name": "stdout",
     "output_type": "stream",
     "text": [
      "EvaluatorHoldout: Ignoring 138 ( 0.4%) Users that have less than 1 test interactions\n",
      "EvaluatorHoldout: Processed 10000 (28.1%) in 5.38 min. Users per second: 31\n",
      "EvaluatorHoldout: Processed 35598 (100.0%) in 21.00 min. Users per second: 28\n"
     ]
    },
    {
     "name": "stderr",
     "output_type": "stream",
     "text": [
      "[I 2025-01-05 10:54:05,483] Trial 163 finished with value: 0.06310143493882561 and parameters: {'slim': 0.39358364122054623, 'rp3beta': 0.02325816839063922, 'rp3beta_stacked': 0.002698263368789322, 'itemKNN': 0.010174872334794822, 'p3alpha': 0.05027091422788983, 'p3alpha_stacked': 0.07725234942461116, 'pure_svd': 0.0015101311832105024, 'scaled_svd': 0.002563226685019987, 'multVAE': 0.012471239845487397, 'ials': 0.002321854594469575, 'ials_stacked': 0.0008269148371404705, 'nmf': 0.00016096420100790223}. Best is trial 136 with value: 0.0632289557019858.\n"
     ]
    },
    {
     "name": "stdout",
     "output_type": "stream",
     "text": [
      "EvaluatorHoldout: Ignoring 138 ( 0.4%) Users that have less than 1 test interactions\n",
      "EvaluatorHoldout: Processed 9000 (25.3%) in 5.03 min. Users per second: 30\n",
      "EvaluatorHoldout: Processed 9000 (25.3%) in 5.14 min. Users per second: 29\n",
      "EvaluatorHoldout: Processed 21000 (59.0%) in 10.71 min. Users per second: 33\n",
      "EvaluatorHoldout: Processed 8000 (22.5%) in 5.06 min. Users per second: 26\n",
      "EvaluatorHoldout: Processed 19000 (53.4%) in 10.09 min. Users per second: 31\n",
      "EvaluatorHoldout: Processed 19000 (53.4%) in 10.47 min. Users per second: 30\n",
      "EvaluatorHoldout: Processed 30000 (84.3%) in 15.84 min. Users per second: 32\n",
      "EvaluatorHoldout: Processed 16000 (44.9%) in 10.42 min. Users per second: 26\n",
      "EvaluatorHoldout: Processed 28000 (78.7%) in 15.11 min. Users per second: 31\n",
      "EvaluatorHoldout: Processed 35598 (100.0%) in 19.16 min. Users per second: 31\n"
     ]
    },
    {
     "name": "stderr",
     "output_type": "stream",
     "text": [
      "[I 2025-01-05 11:06:11,829] Trial 164 finished with value: 0.06312834923845184 and parameters: {'slim': 0.47399216283696854, 'rp3beta': 0.017456183732932257, 'rp3beta_stacked': 0.006110417414318645, 'itemKNN': 0.008941893787795729, 'p3alpha': 0.03586806054370432, 'p3alpha_stacked': 0.14961062455954646, 'pure_svd': 0.0008961345656968559, 'scaled_svd': 0.0021988965526250816, 'multVAE': 0.01740844056514709, 'ials': 0.0063899747331898574, 'ials_stacked': 0.0025063442866633317, 'nmf': 0.0005143369313276155}. Best is trial 136 with value: 0.0632289557019858.\n"
     ]
    },
    {
     "name": "stdout",
     "output_type": "stream",
     "text": [
      "EvaluatorHoldout: Ignoring 138 ( 0.4%) Users that have less than 1 test interactions\n",
      "EvaluatorHoldout: Processed 28000 (78.7%) in 15.61 min. Users per second: 30\n",
      "EvaluatorHoldout: Processed 35598 (100.0%) in 19.10 min. Users per second: 31\n"
     ]
    },
    {
     "name": "stderr",
     "output_type": "stream",
     "text": [
      "[I 2025-01-05 11:08:46,627] Trial 165 finished with value: 0.06309817766648024 and parameters: {'slim': 0.3618031036661909, 'rp3beta': 0.033318268029347696, 'rp3beta_stacked': 0.005257041197944797, 'itemKNN': 0.01752678107541424, 'p3alpha': 0.05582334189301938, 'p3alpha_stacked': 0.0902608809747471, 'pure_svd': 0.00780016035827509, 'scaled_svd': 0.012551218513760565, 'multVAE': 0.012968245774376849, 'ials': 0.0020307776838800543, 'ials_stacked': 0.0028524427288141524, 'nmf': 0.0007373583766574946}. Best is trial 136 with value: 0.0632289557019858.\n"
     ]
    },
    {
     "name": "stdout",
     "output_type": "stream",
     "text": [
      "EvaluatorHoldout: Ignoring 138 ( 0.4%) Users that have less than 1 test interactions\n",
      "EvaluatorHoldout: Processed 24000 (67.4%) in 15.61 min. Users per second: 26\n",
      "EvaluatorHoldout: Processed 35598 (100.0%) in 19.76 min. Users per second: 30\n"
     ]
    },
    {
     "name": "stderr",
     "output_type": "stream",
     "text": [
      "[I 2025-01-05 11:10:53,176] Trial 166 finished with value: 0.06309970263176733 and parameters: {'slim': 0.5972640327296378, 'rp3beta': 0.034268402825562566, 'rp3beta_stacked': 0.004149701394940321, 'itemKNN': 0.00605302182977051, 'p3alpha': 0.03398160045427277, 'p3alpha_stacked': 0.28757774812349335, 'pure_svd': 0.0034466095475804413, 'scaled_svd': 0.004693303607930169, 'multVAE': 0.021843263298851015, 'ials': 0.0023188962962799676, 'ials_stacked': 0.0019154481267955365, 'nmf': 0.00010362858900345384}. Best is trial 136 with value: 0.0632289557019858.\n"
     ]
    },
    {
     "name": "stdout",
     "output_type": "stream",
     "text": [
      "EvaluatorHoldout: Ignoring 138 ( 0.4%) Users that have less than 1 test interactions\n",
      "EvaluatorHoldout: Processed 10000 (28.1%) in 5.39 min. Users per second: 31\n",
      "EvaluatorHoldout: Processed 8000 (22.5%) in 5.15 min. Users per second: 26\n",
      "EvaluatorHoldout: Processed 32000 (89.9%) in 21.75 min. Users per second: 25\n",
      "EvaluatorHoldout: Processed 7000 (19.7%) in 5.27 min. Users per second: 22\n",
      "EvaluatorHoldout: Processed 17000 (47.8%) in 11.29 min. Users per second: 25\n",
      "EvaluatorHoldout: Processed 13000 (36.5%) in 10.31 min. Users per second: 21\n",
      "EvaluatorHoldout: Processed 35598 (100.0%) in 27.59 min. Users per second: 22\n"
     ]
    },
    {
     "name": "stderr",
     "output_type": "stream",
     "text": [
      "[I 2025-01-05 11:21:46,727] Trial 167 finished with value: 0.06307083753590394 and parameters: {'slim': 0.3420496356001144, 'rp3beta': 0.01378038984773469, 'rp3beta_stacked': 0.0052188002071860045, 'itemKNN': 0.019715041089200143, 'p3alpha': 0.031625015147332194, 'p3alpha_stacked': 0.1024659695974831, 'pure_svd': 0.001033117675208199, 'scaled_svd': 0.007505886619243052, 'multVAE': 0.009595199769134475, 'ials': 0.0060195668414631245, 'ials_stacked': 0.01642723713976389, 'nmf': 0.0014041353346801073}. Best is trial 136 with value: 0.0632289557019858.\n"
     ]
    },
    {
     "name": "stdout",
     "output_type": "stream",
     "text": [
      "EvaluatorHoldout: Ignoring 138 ( 0.4%) Users that have less than 1 test interactions\n",
      "EvaluatorHoldout: Processed 11000 (30.9%) in 11.00 min. Users per second: 17\n",
      "EvaluatorHoldout: Processed 22000 (61.8%) in 16.75 min. Users per second: 22\n",
      "EvaluatorHoldout: Processed 19000 (53.4%) in 15.79 min. Users per second: 20\n",
      "EvaluatorHoldout: Processed 8000 (22.5%) in 5.06 min. Users per second: 26\n",
      "EvaluatorHoldout: Processed 20000 (56.2%) in 16.43 min. Users per second: 20\n",
      "EvaluatorHoldout: Processed 32000 (89.9%) in 21.94 min. Users per second: 24\n",
      "EvaluatorHoldout: Processed 35598 (100.0%) in 23.65 min. Users per second: 25\n"
     ]
    },
    {
     "name": "stderr",
     "output_type": "stream",
     "text": [
      "[I 2025-01-05 11:29:54,681] Trial 168 finished with value: 0.06267764284956034 and parameters: {'slim': 0.9016758951338294, 'rp3beta': 0.027742616592171556, 'rp3beta_stacked': 0.005175375375614956, 'itemKNN': 0.011373216248237897, 'p3alpha': 0.31619701439595616, 'p3alpha_stacked': 0.05255871142277616, 'pure_svd': 0.0007578458322485496, 'scaled_svd': 0.008833336460303794, 'multVAE': 0.020821715089080563, 'ials': 0.0013043264816873248, 'ials_stacked': 0.00021570027196998647, 'nmf': 5.0840373592843735e-05}. Best is trial 136 with value: 0.0632289557019858.\n"
     ]
    },
    {
     "name": "stdout",
     "output_type": "stream",
     "text": [
      "EvaluatorHoldout: Ignoring 138 ( 0.4%) Users that have less than 1 test interactions\n",
      "EvaluatorHoldout: Processed 29000 (81.5%) in 21.17 min. Users per second: 23\n",
      "EvaluatorHoldout: Processed 17000 (47.8%) in 10.27 min. Users per second: 28\n",
      "EvaluatorHoldout: Processed 30000 (84.3%) in 21.76 min. Users per second: 23\n",
      "EvaluatorHoldout: Processed 35598 (100.0%) in 24.49 min. Users per second: 24\n"
     ]
    },
    {
     "name": "stderr",
     "output_type": "stream",
     "text": [
      "[I 2025-01-05 11:33:17,682] Trial 169 finished with value: 0.06298197152149433 and parameters: {'slim': 0.3522385536325896, 'rp3beta': 0.011019087733170169, 'rp3beta_stacked': 0.003602891052246278, 'itemKNN': 0.028949827763981514, 'p3alpha': 0.07294447807526842, 'p3alpha_stacked': 0.11857029413389582, 'pure_svd': 0.002303113722499154, 'scaled_svd': 0.008123774136962482, 'multVAE': 0.009639115587178079, 'ials': 0.0012364031690440009, 'ials_stacked': 0.001045851106841516, 'nmf': 0.00043203443595607433}. Best is trial 136 with value: 0.0632289557019858.\n"
     ]
    },
    {
     "name": "stdout",
     "output_type": "stream",
     "text": [
      "EvaluatorHoldout: Ignoring 138 ( 0.4%) Users that have less than 1 test interactions\n",
      "EvaluatorHoldout: Processed 10000 (28.1%) in 5.17 min. Users per second: 32\n",
      "EvaluatorHoldout: Processed 35598 (100.0%) in 24.73 min. Users per second: 24\n"
     ]
    },
    {
     "name": "stderr",
     "output_type": "stream",
     "text": [
      "[I 2025-01-05 11:35:39,372] Trial 170 finished with value: 0.0630906197244875 and parameters: {'slim': 0.5535016847300946, 'rp3beta': 0.029402686290468293, 'rp3beta_stacked': 0.012093663451856659, 'itemKNN': 0.008604142274886147, 'p3alpha': 0.037647084497912105, 'p3alpha_stacked': 0.14829050221704634, 'pure_svd': 0.0006511533045625137, 'scaled_svd': 0.0052818367683463525, 'multVAE': 0.01080859519094448, 'ials': 0.007022181573811551, 'ials_stacked': 0.0010688067818760381, 'nmf': 0.0001586304011219978}. Best is trial 136 with value: 0.0632289557019858.\n"
     ]
    },
    {
     "name": "stdout",
     "output_type": "stream",
     "text": [
      "EvaluatorHoldout: Ignoring 138 ( 0.4%) Users that have less than 1 test interactions\n",
      "EvaluatorHoldout: Processed 26000 (73.0%) in 15.89 min. Users per second: 27\n",
      "EvaluatorHoldout: Processed 10000 (28.1%) in 5.62 min. Users per second: 30\n",
      "EvaluatorHoldout: Processed 20000 (56.2%) in 10.28 min. Users per second: 32\n",
      "EvaluatorHoldout: Processed 10000 (28.1%) in 5.40 min. Users per second: 31\n",
      "EvaluatorHoldout: Processed 35000 (98.3%) in 21.36 min. Users per second: 27\n",
      "EvaluatorHoldout: Processed 35598 (100.0%) in 21.81 min. Users per second: 27\n"
     ]
    },
    {
     "name": "stderr",
     "output_type": "stream",
     "text": [
      "[I 2025-01-05 11:43:41,544] Trial 171 finished with value: 0.06265470817425792 and parameters: {'slim': 0.24825179028235328, 'rp3beta': 0.015347414650288934, 'rp3beta_stacked': 0.024580751643980582, 'itemKNN': 0.011030974990041414, 'p3alpha': 0.02667074298187694, 'p3alpha_stacked': 0.13738003822765874, 'pure_svd': 0.0009770954893479752, 'scaled_svd': 0.0014905227931740772, 'multVAE': 0.006342881656502875, 'ials': 0.0034548237628519176, 'ials_stacked': 0.0019755919410693033, 'nmf': 0.0002594014872690928}. Best is trial 136 with value: 0.0632289557019858.\n"
     ]
    },
    {
     "name": "stdout",
     "output_type": "stream",
     "text": [
      "EvaluatorHoldout: Ignoring 138 ( 0.4%) Users that have less than 1 test interactions\n",
      "EvaluatorHoldout: Processed 21000 (59.0%) in 11.04 min. Users per second: 32\n",
      "EvaluatorHoldout: Processed 31000 (87.1%) in 15.53 min. Users per second: 33\n",
      "EvaluatorHoldout: Processed 20000 (56.2%) in 10.89 min. Users per second: 31\n",
      "EvaluatorHoldout: Processed 35598 (100.0%) in 17.86 min. Users per second: 33\n"
     ]
    },
    {
     "name": "stderr",
     "output_type": "stream",
     "text": [
      "[I 2025-01-05 11:47:47,639] Trial 172 finished with value: 0.0625368745078399 and parameters: {'slim': 0.36322468605190483, 'rp3beta': 0.15345235004560553, 'rp3beta_stacked': 0.004572766635271843, 'itemKNN': 0.01724139608222972, 'p3alpha': 0.04292037034896863, 'p3alpha_stacked': 0.11927410950706892, 'pure_svd': 0.0008001162639314734, 'scaled_svd': 0.003122483968165875, 'multVAE': 0.0076710390998448955, 'ials': 0.0027840376023895437, 'ials_stacked': 0.0023327067042334284, 'nmf': 0.0002425559202185937}. Best is trial 136 with value: 0.0632289557019858.\n"
     ]
    },
    {
     "name": "stdout",
     "output_type": "stream",
     "text": [
      "EvaluatorHoldout: Ignoring 138 ( 0.4%) Users that have less than 1 test interactions\n",
      "EvaluatorHoldout: Processed 9000 (25.3%) in 5.42 min. Users per second: 28\n",
      "EvaluatorHoldout: Processed 31000 (87.1%) in 16.34 min. Users per second: 32\n",
      "EvaluatorHoldout: Processed 30000 (84.3%) in 15.97 min. Users per second: 31\n",
      "EvaluatorHoldout: Processed 35598 (100.0%) in 18.60 min. Users per second: 32\n"
     ]
    },
    {
     "name": "stderr",
     "output_type": "stream",
     "text": [
      "[I 2025-01-05 11:51:55,027] Trial 173 finished with value: 0.06315847287657325 and parameters: {'slim': 0.6766911102362747, 'rp3beta': 0.010288381468587487, 'rp3beta_stacked': 0.004628586182046746, 'itemKNN': 0.010186834088282288, 'p3alpha': 0.045447466469887635, 'p3alpha_stacked': 0.1568389410116555, 'pure_svd': 0.0007578610146556372, 'scaled_svd': 0.007296701650975386, 'multVAE': 0.012427356641695303, 'ials': 0.0013925615688493006, 'ials_stacked': 0.001191056933382278, 'nmf': 0.00020719606142812196}. Best is trial 136 with value: 0.0632289557019858.\n"
     ]
    },
    {
     "name": "stdout",
     "output_type": "stream",
     "text": [
      "EvaluatorHoldout: Ignoring 138 ( 0.4%) Users that have less than 1 test interactions\n",
      "EvaluatorHoldout: Processed 11000 (30.9%) in 5.44 min. Users per second: 34\n",
      "EvaluatorHoldout: Processed 18000 (50.6%) in 10.70 min. Users per second: 28\n",
      "EvaluatorHoldout: Processed 35598 (100.0%) in 19.00 min. Users per second: 31\n"
     ]
    },
    {
     "name": "stderr",
     "output_type": "stream",
     "text": [
      "[I 2025-01-05 11:54:40,562] Trial 174 finished with value: 0.06314430563692998 and parameters: {'slim': 0.4552178909529741, 'rp3beta': 0.054849774315548314, 'rp3beta_stacked': 0.0029992005553021815, 'itemKNN': 0.011372460157695375, 'p3alpha': 0.03547102398381159, 'p3alpha_stacked': 0.12009323758938409, 'pure_svd': 0.0055708160597265025, 'scaled_svd': 0.0017303295326016183, 'multVAE': 0.011729120287000135, 'ials': 0.00252404519398328, 'ials_stacked': 0.001433110121083919, 'nmf': 0.00028198269399583867}. Best is trial 136 with value: 0.0632289557019858.\n"
     ]
    },
    {
     "name": "stdout",
     "output_type": "stream",
     "text": [
      "EvaluatorHoldout: Ignoring 138 ( 0.4%) Users that have less than 1 test interactions\n",
      "EvaluatorHoldout: Processed 10000 (28.1%) in 5.03 min. Users per second: 33\n",
      "EvaluatorHoldout: Processed 22000 (61.8%) in 10.74 min. Users per second: 34\n",
      "EvaluatorHoldout: Processed 27000 (75.8%) in 15.94 min. Users per second: 28\n",
      "EvaluatorHoldout: Processed 10000 (28.1%) in 5.44 min. Users per second: 31\n",
      "EvaluatorHoldout: Processed 21000 (59.0%) in 10.19 min. Users per second: 34\n",
      "EvaluatorHoldout: Processed 35598 (100.0%) in 19.06 min. Users per second: 31\n"
     ]
    },
    {
     "name": "stderr",
     "output_type": "stream",
     "text": [
      "[I 2025-01-05 12:02:46,874] Trial 175 finished with value: 0.06319790237011517 and parameters: {'slim': 0.5434140137125045, 'rp3beta': 0.03511793714729711, 'rp3beta_stacked': 0.0011854534924121735, 'itemKNN': 0.009253706336574557, 'p3alpha': 0.021509927597626474, 'p3alpha_stacked': 0.1067117061013283, 'pure_svd': 0.003009456566493957, 'scaled_svd': 0.005210326481058986, 'multVAE': 0.018725449214984785, 'ials': 0.00751721252721557, 'ials_stacked': 0.001954565108619185, 'nmf': 0.00046621895970763797}. Best is trial 136 with value: 0.0632289557019858.\n"
     ]
    },
    {
     "name": "stdout",
     "output_type": "stream",
     "text": [
      "EvaluatorHoldout: Ignoring 138 ( 0.4%) Users that have less than 1 test interactions\n",
      "EvaluatorHoldout: Processed 35000 (98.3%) in 16.22 min. Users per second: 36\n",
      "EvaluatorHoldout: Processed 35598 (100.0%) in 16.46 min. Users per second: 36\n"
     ]
    },
    {
     "name": "stderr",
     "output_type": "stream",
     "text": [
      "[I 2025-01-05 12:04:15,808] Trial 176 finished with value: 0.06223927664029402 and parameters: {'slim': 0.43700296673898614, 'rp3beta': 0.2041678792612183, 'rp3beta_stacked': 0.005545109950685612, 'itemKNN': 0.016616855262404952, 'p3alpha': 0.08604415906826955, 'p3alpha_stacked': 0.2643101849927658, 'pure_svd': 0.0017455252643854744, 'scaled_svd': 0.0016147932709649844, 'multVAE': 0.03657398633838216, 'ials': 0.0023196998606765332, 'ials_stacked': 0.001731894421431608, 'nmf': 0.00022894080392939312}. Best is trial 136 with value: 0.0632289557019858.\n"
     ]
    },
    {
     "name": "stdout",
     "output_type": "stream",
     "text": [
      "EvaluatorHoldout: Ignoring 138 ( 0.4%) Users that have less than 1 test interactions\n",
      "EvaluatorHoldout: Processed 23000 (64.6%) in 10.73 min. Users per second: 36\n",
      "EvaluatorHoldout: Processed 32000 (89.9%) in 15.42 min. Users per second: 35\n",
      "EvaluatorHoldout: Processed 14000 (39.3%) in 5.06 min. Users per second: 46\n",
      "EvaluatorHoldout: Processed 35598 (100.0%) in 17.09 min. Users per second: 35\n"
     ]
    },
    {
     "name": "stderr",
     "output_type": "stream",
     "text": [
      "[I 2025-01-05 12:09:01,528] Trial 177 finished with value: 0.062398564169377765 and parameters: {'slim': 0.3728403269808667, 'rp3beta': 0.01354489003166497, 'rp3beta_stacked': 0.007724755354736219, 'itemKNN': 0.007096127840128515, 'p3alpha': 0.03268877727473242, 'p3alpha_stacked': 0.3174703749628709, 'pure_svd': 0.0006276295216935232, 'scaled_svd': 0.002885770130638249, 'multVAE': 0.023969902302348606, 'ials': 0.005463660313850886, 'ials_stacked': 0.0004599999192711729, 'nmf': 0.0005776375151252288}. Best is trial 136 with value: 0.0632289557019858.\n"
     ]
    },
    {
     "name": "stdout",
     "output_type": "stream",
     "text": [
      "EvaluatorHoldout: Ignoring 138 ( 0.4%) Users that have less than 1 test interactions\n",
      "EvaluatorHoldout: Processed 12000 (33.7%) in 5.46 min. Users per second: 37\n",
      "EvaluatorHoldout: Processed 35000 (98.3%) in 16.04 min. Users per second: 36\n",
      "EvaluatorHoldout: Processed 35598 (100.0%) in 16.25 min. Users per second: 37\n"
     ]
    },
    {
     "name": "stderr",
     "output_type": "stream",
     "text": [
      "[I 2025-01-05 12:10:58,109] Trial 178 finished with value: 0.06312105994896972 and parameters: {'slim': 0.4838204341084561, 'rp3beta': 0.02867907933316086, 'rp3beta_stacked': 0.002992914838662053, 'itemKNN': 0.009482195652823338, 'p3alpha': 0.023354353561746415, 'p3alpha_stacked': 0.16101335092508712, 'pure_svd': 0.0007378028418561518, 'scaled_svd': 0.004654587217819058, 'multVAE': 0.017638109041023572, 'ials': 0.012443806401676515, 'ials_stacked': 0.0026601910378364173, 'nmf': 4.775995653514198e-05}. Best is trial 136 with value: 0.0632289557019858.\n"
     ]
    },
    {
     "name": "stdout",
     "output_type": "stream",
     "text": [
      "EvaluatorHoldout: Ignoring 138 ( 0.4%) Users that have less than 1 test interactions\n",
      "EvaluatorHoldout: Processed 27000 (75.8%) in 10.14 min. Users per second: 44\n",
      "EvaluatorHoldout: Processed 11000 (30.9%) in 5.34 min. Users per second: 34\n",
      "EvaluatorHoldout: Processed 22000 (61.8%) in 10.58 min. Users per second: 35\n",
      "EvaluatorHoldout: Processed 10000 (28.1%) in 5.31 min. Users per second: 31\n",
      "EvaluatorHoldout: Processed 35000 (98.3%) in 15.50 min. Users per second: 38\n",
      "EvaluatorHoldout: Processed 35598 (100.0%) in 15.96 min. Users per second: 37\n"
     ]
    },
    {
     "name": "stderr",
     "output_type": "stream",
     "text": [
      "[I 2025-01-05 12:18:46,862] Trial 179 finished with value: 0.06318488108391855 and parameters: {'slim': 0.46537867629933666, 'rp3beta': 0.028280621763279626, 'rp3beta_stacked': 0.0027650444818917074, 'itemKNN': 0.005868727936837269, 'p3alpha': 0.03908387064674998, 'p3alpha_stacked': 0.09960148711314445, 'pure_svd': 0.0014860248022368586, 'scaled_svd': 0.0042975927020233, 'multVAE': 0.011683216452548406, 'ials': 0.0006088314457187837, 'ials_stacked': 0.0012870383768986463, 'nmf': 0.0004085849342404863}. Best is trial 136 with value: 0.0632289557019858.\n"
     ]
    },
    {
     "name": "stdout",
     "output_type": "stream",
     "text": [
      "EvaluatorHoldout: Ignoring 138 ( 0.4%) Users that have less than 1 test interactions\n",
      "EvaluatorHoldout: Processed 21000 (59.0%) in 10.43 min. Users per second: 34\n",
      "EvaluatorHoldout: Processed 32000 (89.9%) in 15.67 min. Users per second: 34\n",
      "EvaluatorHoldout: Processed 20000 (56.2%) in 10.67 min. Users per second: 31\n",
      "EvaluatorHoldout: Processed 35598 (100.0%) in 17.76 min. Users per second: 33\n"
     ]
    },
    {
     "name": "stderr",
     "output_type": "stream",
     "text": [
      "[I 2025-01-05 12:22:03,893] Trial 180 finished with value: 0.06304287760949458 and parameters: {'slim': 0.7277775846542526, 'rp3beta': 0.026940851878984155, 'rp3beta_stacked': 0.005351205704470574, 'itemKNN': 0.028009704135618714, 'p3alpha': 0.02452290855397605, 'p3alpha_stacked': 0.1312495955753751, 'pure_svd': 0.0012541307313712554, 'scaled_svd': 0.0028546251662203335, 'multVAE': 0.03116317428159368, 'ials': 0.003396913692756224, 'ials_stacked': 0.0014474040367329786, 'nmf': 0.0005979509173658249}. Best is trial 136 with value: 0.0632289557019858.\n"
     ]
    },
    {
     "name": "stdout",
     "output_type": "stream",
     "text": [
      "EvaluatorHoldout: Ignoring 138 ( 0.4%) Users that have less than 1 test interactions\n",
      "EvaluatorHoldout: Processed 7000 (19.7%) in 5.19 min. Users per second: 22\n",
      "EvaluatorHoldout: Processed 30000 (84.3%) in 15.47 min. Users per second: 32\n",
      "EvaluatorHoldout: Processed 29000 (81.5%) in 15.83 min. Users per second: 31\n",
      "EvaluatorHoldout: Processed 10000 (28.1%) in 5.39 min. Users per second: 31\n",
      "EvaluatorHoldout: Processed 35598 (100.0%) in 18.44 min. Users per second: 32\n"
     ]
    },
    {
     "name": "stderr",
     "output_type": "stream",
     "text": [
      "[I 2025-01-05 12:27:30,263] Trial 181 finished with value: 0.062454380351310644 and parameters: {'slim': 0.38279005286028744, 'rp3beta': 0.0797321458864833, 'rp3beta_stacked': 0.001535351262984302, 'itemKNN': 0.006880855952063585, 'p3alpha': 0.02554362987555236, 'p3alpha_stacked': 0.06866197345235914, 'pure_svd': 0.000506664090739857, 'scaled_svd': 0.0022424813644402143, 'multVAE': 0.02716118998017558, 'ials': 0.006089945506641278, 'ials_stacked': 0.0010971220279285428, 'nmf': 0.00024065905466563454}. Best is trial 136 with value: 0.0632289557019858.\n"
     ]
    },
    {
     "name": "stdout",
     "output_type": "stream",
     "text": [
      "EvaluatorHoldout: Ignoring 138 ( 0.4%) Users that have less than 1 test interactions\n",
      "EvaluatorHoldout: Processed 15000 (42.1%) in 10.56 min. Users per second: 24\n",
      "EvaluatorHoldout: Processed 35598 (100.0%) in 19.53 min. Users per second: 30\n"
     ]
    },
    {
     "name": "stderr",
     "output_type": "stream",
     "text": [
      "[I 2025-01-05 12:30:32,310] Trial 182 finished with value: 0.0630056396961823 and parameters: {'slim': 0.538684048536156, 'rp3beta': 0.011665808856599059, 'rp3beta_stacked': 0.0032292473358384367, 'itemKNN': 0.011509333230809174, 'p3alpha': 0.018879973342073513, 'p3alpha_stacked': 0.12055417218691522, 'pure_svd': 0.0010164023956861436, 'scaled_svd': 0.0009671030067078854, 'multVAE': 0.011547099107061708, 'ials': 0.02544896549266178, 'ials_stacked': 0.015918421936142194, 'nmf': 0.00013248803771807253}. Best is trial 136 with value: 0.0632289557019858.\n"
     ]
    },
    {
     "name": "stdout",
     "output_type": "stream",
     "text": [
      "EvaluatorHoldout: Ignoring 138 ( 0.4%) Users that have less than 1 test interactions\n",
      "EvaluatorHoldout: Processed 9000 (25.3%) in 5.01 min. Users per second: 30\n",
      "EvaluatorHoldout: Processed 20000 (56.2%) in 10.50 min. Users per second: 32\n",
      "EvaluatorHoldout: Processed 23000 (64.6%) in 15.71 min. Users per second: 24\n",
      "EvaluatorHoldout: Processed 8000 (22.5%) in 5.06 min. Users per second: 26\n",
      "EvaluatorHoldout: Processed 19000 (53.4%) in 10.33 min. Users per second: 31\n",
      "EvaluatorHoldout: Processed 30000 (84.3%) in 16.03 min. Users per second: 31\n",
      "EvaluatorHoldout: Processed 32000 (89.9%) in 21.31 min. Users per second: 25\n",
      "EvaluatorHoldout: Processed 35598 (100.0%) in 18.88 min. Users per second: 31\n"
     ]
    },
    {
     "name": "stderr",
     "output_type": "stream",
     "text": [
      "[I 2025-01-05 12:40:59,321] Trial 184 finished with value: 0.06272190920302965 and parameters: {'slim': 0.5999756100934328, 'rp3beta': 0.009163274655637543, 'rp3beta_stacked': 0.0016676113447958048, 'itemKNN': 0.010308351145826867, 'p3alpha': 0.07500524104872443, 'p3alpha_stacked': 0.11882959970150193, 'pure_svd': 0.000988367800612075, 'scaled_svd': 0.001495174052521771, 'multVAE': 0.03502000292346505, 'ials': 0.003995958232966403, 'ials_stacked': 0.0024939694269111626, 'nmf': 0.0008540207275689715}. Best is trial 136 with value: 0.0632289557019858.\n"
     ]
    },
    {
     "name": "stdout",
     "output_type": "stream",
     "text": [
      "EvaluatorHoldout: Ignoring 138 ( 0.4%) Users that have less than 1 test interactions\n",
      "EvaluatorHoldout: Processed 18000 (50.6%) in 10.65 min. Users per second: 28\n",
      "EvaluatorHoldout: Processed 35598 (100.0%) in 23.59 min. Users per second: 25\n"
     ]
    },
    {
     "name": "stderr",
     "output_type": "stream",
     "text": [
      "[I 2025-01-05 12:42:24,615] Trial 183 finished with value: 0.06305096059435987 and parameters: {'slim': 0.4962223498564119, 'rp3beta': 0.015989239590075074, 'rp3beta_stacked': 0.002617156130452592, 'itemKNN': 0.008879240430465308, 'p3alpha': 0.03762931401207786, 'p3alpha_stacked': 0.1786192230081319, 'pure_svd': 0.0023604882697498913, 'scaled_svd': 0.005358537059758992, 'multVAE': 0.02117698043051838, 'ials': 0.004998357194532287, 'ials_stacked': 0.0024236517636204726, 'nmf': 0.00034061177953681406}. Best is trial 136 with value: 0.0632289557019858.\n"
     ]
    },
    {
     "name": "stdout",
     "output_type": "stream",
     "text": [
      "EvaluatorHoldout: Ignoring 138 ( 0.4%) Users that have less than 1 test interactions\n",
      "EvaluatorHoldout: Processed 28000 (78.7%) in 15.38 min. Users per second: 30\n",
      "EvaluatorHoldout: Processed 9000 (25.3%) in 5.37 min. Users per second: 28\n",
      "EvaluatorHoldout: Processed 27000 (75.8%) in 16.29 min. Users per second: 28\n",
      "EvaluatorHoldout: Processed 35598 (100.0%) in 19.67 min. Users per second: 30\n"
     ]
    },
    {
     "name": "stderr",
     "output_type": "stream",
     "text": [
      "[I 2025-01-05 12:47:12,920] Trial 185 finished with value: 0.0628461292189575 and parameters: {'slim': 0.7200185857841257, 'rp3beta': 0.006789672658172848, 'rp3beta_stacked': 0.0023742650196951444, 'itemKNN': 0.0080494708330339, 'p3alpha': 0.03801944690164282, 'p3alpha_stacked': 0.16567786741678286, 'pure_svd': 0.0007046761511263318, 'scaled_svd': 0.0173574076078301, 'multVAE': 0.007743403057530146, 'ials': 0.00319833589392011, 'ials_stacked': 0.0022906180710753183, 'nmf': 0.00021024712325496626}. Best is trial 136 with value: 0.0632289557019858.\n"
     ]
    },
    {
     "name": "stdout",
     "output_type": "stream",
     "text": [
      "EvaluatorHoldout: Ignoring 138 ( 0.4%) Users that have less than 1 test interactions\n",
      "EvaluatorHoldout: Processed 7000 (19.7%) in 5.05 min. Users per second: 23\n",
      "EvaluatorHoldout: Processed 35598 (100.0%) in 20.63 min. Users per second: 29\n"
     ]
    },
    {
     "name": "stderr",
     "output_type": "stream",
     "text": [
      "[I 2025-01-05 12:51:11,822] Trial 186 finished with value: 0.06191537312154835 and parameters: {'slim': 0.37590449899526474, 'rp3beta': 0.008156960569310095, 'rp3beta_stacked': 0.0019983842408201973, 'itemKNN': 0.012518882684139039, 'p3alpha': 0.020066572093427725, 'p3alpha_stacked': 0.05289856996159825, 'pure_svd': 0.003462355135971834, 'scaled_svd': 0.005196487917816229, 'multVAE': 0.02891789700605819, 'ials': 0.003803534913569646, 'ials_stacked': 0.002779084885759696, 'nmf': 0.0003108635459015698}. Best is trial 136 with value: 0.0632289557019858.\n"
     ]
    },
    {
     "name": "stdout",
     "output_type": "stream",
     "text": [
      "EvaluatorHoldout: Ignoring 138 ( 0.4%) Users that have less than 1 test interactions\n",
      "EvaluatorHoldout: Processed 19000 (53.4%) in 10.43 min. Users per second: 30\n",
      "EvaluatorHoldout: Processed 15000 (42.1%) in 10.19 min. Users per second: 25\n",
      "EvaluatorHoldout: Processed 10000 (28.1%) in 5.41 min. Users per second: 31\n",
      "EvaluatorHoldout: Processed 9000 (25.3%) in 5.47 min. Users per second: 27\n",
      "EvaluatorHoldout: Processed 29000 (81.5%) in 15.71 min. Users per second: 31\n",
      "EvaluatorHoldout: Processed 23000 (64.6%) in 15.49 min. Users per second: 25\n",
      "EvaluatorHoldout: Processed 19000 (53.4%) in 10.74 min. Users per second: 29\n",
      "EvaluatorHoldout: Processed 35598 (100.0%) in 19.18 min. Users per second: 31\n"
     ]
    },
    {
     "name": "stderr",
     "output_type": "stream",
     "text": [
      "[I 2025-01-05 13:00:11,598] Trial 187 finished with value: 0.06275603253080708 and parameters: {'slim': 0.34412490196789713, 'rp3beta': 0.011843818407221072, 'rp3beta_stacked': 0.0013164943424612842, 'itemKNN': 0.011764140564668303, 'p3alpha': 0.034630468306196, 'p3alpha_stacked': 0.07808792519699535, 'pure_svd': 0.001427581803203602, 'scaled_svd': 0.009844407453326558, 'multVAE': 0.02010800595854112, 'ials': 0.0014753693232992316, 'ials_stacked': 0.002205970996120497, 'nmf': 0.0007163108943967287}. Best is trial 136 with value: 0.0632289557019858.\n"
     ]
    },
    {
     "name": "stdout",
     "output_type": "stream",
     "text": [
      "EvaluatorHoldout: Ignoring 138 ( 0.4%) Users that have less than 1 test interactions\n",
      "EvaluatorHoldout: Processed 18000 (50.6%) in 11.08 min. Users per second: 27\n",
      "EvaluatorHoldout: Processed 28000 (78.7%) in 16.03 min. Users per second: 29\n",
      "EvaluatorHoldout: Processed 32000 (89.9%) in 21.12 min. Users per second: 25\n",
      "EvaluatorHoldout: Processed 9000 (25.3%) in 5.38 min. Users per second: 28\n",
      "EvaluatorHoldout: Processed 35598 (100.0%) in 23.63 min. Users per second: 25\n"
     ]
    },
    {
     "name": "stderr",
     "output_type": "stream",
     "text": [
      "[I 2025-01-05 13:06:04,278] Trial 188 finished with value: 0.06298416756068687 and parameters: {'slim': 0.5944992041001115, 'rp3beta': 0.051767438854079896, 'rp3beta_stacked': 0.0020756139923569883, 'itemKNN': 0.009160841488598623, 'p3alpha': 0.038404135349232565, 'p3alpha_stacked': 0.12995823385751074, 'pure_svd': 0.004352137687080448, 'scaled_svd': 0.012000938364965692, 'multVAE': 0.008285512548027825, 'ials': 0.003139525711854223, 'ials_stacked': 0.002475274673304499, 'nmf': 0.0012142725131547266}. Best is trial 136 with value: 0.0632289557019858.\n"
     ]
    },
    {
     "name": "stdout",
     "output_type": "stream",
     "text": [
      "EvaluatorHoldout: Ignoring 138 ( 0.4%) Users that have less than 1 test interactions\n",
      "EvaluatorHoldout: Processed 35598 (100.0%) in 20.01 min. Users per second: 30\n"
     ]
    },
    {
     "name": "stderr",
     "output_type": "stream",
     "text": [
      "[I 2025-01-05 13:07:14,479] Trial 189 finished with value: 0.062371684426713536 and parameters: {'slim': 0.35153678882199346, 'rp3beta': 0.024424924053119475, 'rp3beta_stacked': 0.00146696170672828, 'itemKNN': 0.0033871980486855882, 'p3alpha': 0.04223784006193565, 'p3alpha_stacked': 0.29613109561596607, 'pure_svd': 0.004515090196990394, 'scaled_svd': 0.006231835598188066, 'multVAE': 0.023406378931649607, 'ials': 0.004328462479959645, 'ials_stacked': 0.002062481478264335, 'nmf': 0.0002102695390084437}. Best is trial 136 with value: 0.0632289557019858.\n"
     ]
    },
    {
     "name": "stdout",
     "output_type": "stream",
     "text": [
      "EvaluatorHoldout: Ignoring 138 ( 0.4%) Users that have less than 1 test interactions\n",
      "EvaluatorHoldout: Processed 27000 (75.8%) in 16.22 min. Users per second: 28\n",
      "EvaluatorHoldout: Processed 18000 (50.6%) in 10.89 min. Users per second: 28\n",
      "EvaluatorHoldout: Processed 7000 (19.7%) in 5.03 min. Users per second: 23\n",
      "EvaluatorHoldout: Processed 7000 (19.7%) in 5.10 min. Users per second: 23\n",
      "EvaluatorHoldout: Processed 35000 (98.3%) in 21.76 min. Users per second: 27\n",
      "EvaluatorHoldout: Processed 35598 (100.0%) in 22.10 min. Users per second: 27\n"
     ]
    },
    {
     "name": "stderr",
     "output_type": "stream",
     "text": [
      "[I 2025-01-05 13:13:20,015] Trial 190 finished with value: 0.06300373794853636 and parameters: {'slim': 0.4463495718698816, 'rp3beta': 0.11636899007830495, 'rp3beta_stacked': 0.002774702324578785, 'itemKNN': 0.014973922949927524, 'p3alpha': 0.020419469647241093, 'p3alpha_stacked': 0.08012601650649884, 'pure_svd': 0.0021516881684146426, 'scaled_svd': 0.006826468600235857, 'multVAE': 0.01006332791704038, 'ials': 0.0033436144876850247, 'ials_stacked': 0.0009674878191186365, 'nmf': 0.002238455571465741}. Best is trial 136 with value: 0.0632289557019858.\n"
     ]
    },
    {
     "name": "stdout",
     "output_type": "stream",
     "text": [
      "EvaluatorHoldout: Ignoring 138 ( 0.4%) Users that have less than 1 test interactions\n",
      "EvaluatorHoldout: Processed 27000 (75.8%) in 16.14 min. Users per second: 28\n",
      "EvaluatorHoldout: Processed 14000 (39.3%) in 10.40 min. Users per second: 22\n",
      "EvaluatorHoldout: Processed 15000 (42.1%) in 10.11 min. Users per second: 25\n",
      "EvaluatorHoldout: Processed 8000 (22.5%) in 5.41 min. Users per second: 25\n",
      "EvaluatorHoldout: Processed 35598 (100.0%) in 20.84 min. Users per second: 28\n"
     ]
    },
    {
     "name": "stderr",
     "output_type": "stream",
     "text": [
      "[I 2025-01-05 13:21:04,298] Trial 191 finished with value: 0.06263211795383371 and parameters: {'slim': 0.2270291423626603, 'rp3beta': 0.022489640486117377, 'rp3beta_stacked': 0.0013282345225740864, 'itemKNN': 0.01348233879531482, 'p3alpha': 0.03556511763159895, 'p3alpha_stacked': 0.11541876497786384, 'pure_svd': 0.004752058803901639, 'scaled_svd': 0.010725274316826308, 'multVAE': 0.004317166220182218, 'ials': 0.003223585060508246, 'ials_stacked': 0.003501258411249123, 'nmf': 0.0003534637967366729}. Best is trial 136 with value: 0.0632289557019858.\n"
     ]
    },
    {
     "name": "stdout",
     "output_type": "stream",
     "text": [
      "EvaluatorHoldout: Ignoring 138 ( 0.4%) Users that have less than 1 test interactions\n",
      "EvaluatorHoldout: Processed 21000 (59.0%) in 15.48 min. Users per second: 23\n",
      "EvaluatorHoldout: Processed 24000 (67.4%) in 15.77 min. Users per second: 25\n",
      "EvaluatorHoldout: Processed 17000 (47.8%) in 10.93 min. Users per second: 26\n",
      "EvaluatorHoldout: Processed 9000 (25.3%) in 5.30 min. Users per second: 28\n",
      "EvaluatorHoldout: Processed 29000 (81.5%) in 20.90 min. Users per second: 23\n",
      "EvaluatorHoldout: Processed 34000 (95.5%) in 20.88 min. Users per second: 27\n",
      "EvaluatorHoldout: Processed 35598 (100.0%) in 22.09 min. Users per second: 27\n"
     ]
    },
    {
     "name": "stderr",
     "output_type": "stream",
     "text": [
      "[I 2025-01-05 13:29:20,869] Trial 193 finished with value: 0.06290574332247806 and parameters: {'slim': 0.2302493408190799, 'rp3beta': 0.018828769634212175, 'rp3beta_stacked': 0.0018978655567375247, 'itemKNN': 0.007256989199256202, 'p3alpha': 0.019892394578648172, 'p3alpha_stacked': 0.04660441552793887, 'pure_svd': 0.0018840667196489843, 'scaled_svd': 0.004940264211607513, 'multVAE': 0.010944009322998015, 'ials': 0.004158627438740174, 'ials_stacked': 0.0017107137196443211, 'nmf': 0.0002985060958849851}. Best is trial 136 with value: 0.0632289557019858.\n"
     ]
    },
    {
     "name": "stdout",
     "output_type": "stream",
     "text": [
      "EvaluatorHoldout: Ignoring 138 ( 0.4%) Users that have less than 1 test interactions\n",
      "EvaluatorHoldout: Processed 26000 (73.0%) in 16.27 min. Users per second: 27\n",
      "EvaluatorHoldout: Processed 35598 (100.0%) in 25.30 min. Users per second: 23\n"
     ]
    },
    {
     "name": "stderr",
     "output_type": "stream",
     "text": [
      "[I 2025-01-05 13:31:26,320] Trial 192 finished with value: 0.06321428459954313 and parameters: {'slim': 0.6827228606635298, 'rp3beta': 0.05022152636822164, 'rp3beta_stacked': 0.003718701017122285, 'itemKNN': 0.01028860072513249, 'p3alpha': 0.042264563446618504, 'p3alpha_stacked': 0.1299385880110262, 'pure_svd': 0.004669358793393262, 'scaled_svd': 0.0033434266926052917, 'multVAE': 0.016799296743931224, 'ials': 0.0009333393330799109, 'ials_stacked': 0.0038875741268730563, 'nmf': 0.00013106360974857856}. Best is trial 136 with value: 0.0632289557019858.\n"
     ]
    },
    {
     "name": "stdout",
     "output_type": "stream",
     "text": [
      "EvaluatorHoldout: Processed 18000 (50.6%) in 10.36 min. Users per second: 29\n",
      "EvaluatorHoldout: Ignoring 138 ( 0.4%) Users that have less than 1 test interactions\n",
      "EvaluatorHoldout: Processed 9000 (25.3%) in 5.39 min. Users per second: 28\n",
      "EvaluatorHoldout: Processed 35000 (98.3%) in 21.40 min. Users per second: 27\n",
      "EvaluatorHoldout: Processed 35598 (100.0%) in 21.84 min. Users per second: 27\n"
     ]
    },
    {
     "name": "stderr",
     "output_type": "stream",
     "text": [
      "[I 2025-01-05 13:35:12,150] Trial 194 finished with value: 0.06280971398428657 and parameters: {'slim': 0.7422578209902693, 'rp3beta': 0.027514507639578575, 'rp3beta_stacked': 0.003947944124864047, 'itemKNN': 0.007134473907738738, 'p3alpha': 0.054325554959204485, 'p3alpha_stacked': 0.09652673780608004, 'pure_svd': 0.001695626639749785, 'scaled_svd': 0.003651058961065879, 'multVAE': 0.0087211988510105, 'ials': 0.005330819887644619, 'ials_stacked': 0.0009939889258123646, 'nmf': 0.00017628987986657296}. Best is trial 136 with value: 0.0632289557019858.\n"
     ]
    },
    {
     "name": "stdout",
     "output_type": "stream",
     "text": [
      "EvaluatorHoldout: Ignoring 138 ( 0.4%) Users that have less than 1 test interactions\n",
      "EvaluatorHoldout: Processed 28000 (78.7%) in 15.36 min. Users per second: 30\n",
      "EvaluatorHoldout: Processed 8000 (22.5%) in 5.14 min. Users per second: 26\n",
      "EvaluatorHoldout: Processed 18000 (50.6%) in 10.62 min. Users per second: 28\n",
      "EvaluatorHoldout: Processed 35598 (100.0%) in 19.32 min. Users per second: 31\n"
     ]
    },
    {
     "name": "stderr",
     "output_type": "stream",
     "text": [
      "[I 2025-01-05 13:40:24,671] Trial 195 finished with value: 0.0628243304644346 and parameters: {'slim': 0.3486467351394279, 'rp3beta': 0.039166785194177774, 'rp3beta_stacked': 0.0017888240586601228, 'itemKNN': 0.006903637810787383, 'p3alpha': 0.023105337166868602, 'p3alpha_stacked': 0.11613215280373142, 'pure_svd': 0.0015408876937311922, 'scaled_svd': 0.005594722032420321, 'multVAE': 0.004579056712493008, 'ials': 0.000957660365922446, 'ials_stacked': 0.0006520576331250886, 'nmf': 0.0005329022688002378}. Best is trial 136 with value: 0.0632289557019858.\n"
     ]
    },
    {
     "name": "stdout",
     "output_type": "stream",
     "text": [
      "EvaluatorHoldout: Ignoring 138 ( 0.4%) Users that have less than 1 test interactions\n",
      "EvaluatorHoldout: Processed 9000 (25.3%) in 5.40 min. Users per second: 28\n",
      "EvaluatorHoldout: Processed 17000 (47.8%) in 10.59 min. Users per second: 27\n",
      "EvaluatorHoldout: Processed 9000 (25.3%) in 5.00 min. Users per second: 30\n",
      "EvaluatorHoldout: Processed 27000 (75.8%) in 16.09 min. Users per second: 28\n",
      "EvaluatorHoldout: Processed 18000 (50.6%) in 10.89 min. Users per second: 28\n",
      "EvaluatorHoldout: Processed 25000 (70.2%) in 15.91 min. Users per second: 26\n",
      "EvaluatorHoldout: Processed 35598 (100.0%) in 21.22 min. Users per second: 28\n"
     ]
    },
    {
     "name": "stderr",
     "output_type": "stream",
     "text": [
      "[I 2025-01-05 13:50:36,794] Trial 196 finished with value: 0.06270082388255954 and parameters: {'slim': 0.3436272983762383, 'rp3beta': 0.017754051394821096, 'rp3beta_stacked': 0.001044267217921343, 'itemKNN': 0.004672828684938097, 'p3alpha': 0.03431026468345123, 'p3alpha_stacked': 0.2037972623031016, 'pure_svd': 0.002852199241145899, 'scaled_svd': 0.0024720122283407083, 'multVAE': 0.023056714524547328, 'ials': 0.0016402995096677774, 'ials_stacked': 0.0019163611270289686, 'nmf': 0.0006340707399614003}. Best is trial 136 with value: 0.0632289557019858.\n"
     ]
    },
    {
     "name": "stdout",
     "output_type": "stream",
     "text": [
      "EvaluatorHoldout: Ignoring 138 ( 0.4%) Users that have less than 1 test interactions\n",
      "EvaluatorHoldout: Processed 19000 (53.4%) in 10.50 min. Users per second: 30\n",
      "EvaluatorHoldout: Processed 27000 (75.8%) in 16.52 min. Users per second: 27\n",
      "EvaluatorHoldout: Processed 32000 (89.9%) in 21.18 min. Users per second: 25\n",
      "EvaluatorHoldout: Processed 35598 (100.0%) in 23.62 min. Users per second: 25\n"
     ]
    },
    {
     "name": "stderr",
     "output_type": "stream",
     "text": [
      "[I 2025-01-05 13:55:06,282] Trial 197 finished with value: 0.06293108806718947 and parameters: {'slim': 0.816099850713193, 'rp3beta': 0.021599669433471233, 'rp3beta_stacked': 0.002687443646611565, 'itemKNN': 0.0041122955500240655, 'p3alpha': 0.01803208658384137, 'p3alpha_stacked': 0.1656341255863656, 'pure_svd': 0.00131218726477903, 'scaled_svd': 0.003078020775634652, 'multVAE': 0.010128332194140152, 'ials': 0.008941946516914313, 'ials_stacked': 0.002256334000327262, 'nmf': 0.002158347476755833}. Best is trial 136 with value: 0.0632289557019858.\n"
     ]
    },
    {
     "name": "stdout",
     "output_type": "stream",
     "text": [
      "EvaluatorHoldout: Ignoring 138 ( 0.4%) Users that have less than 1 test interactions\n",
      "EvaluatorHoldout: Processed 9000 (25.3%) in 5.45 min. Users per second: 28\n",
      "EvaluatorHoldout: Processed 29000 (81.5%) in 15.80 min. Users per second: 31\n",
      "EvaluatorHoldout: Processed 35598 (100.0%) in 21.42 min. Users per second: 28\n"
     ]
    },
    {
     "name": "stderr",
     "output_type": "stream",
     "text": [
      "[I 2025-01-05 13:56:39,583] Trial 198 finished with value: 0.06297133243618817 and parameters: {'slim': 0.6977763416493445, 'rp3beta': 0.044952474601343044, 'rp3beta_stacked': 0.0012091652110071864, 'itemKNN': 0.005817976278529593, 'p3alpha': 0.051650186783235956, 'p3alpha_stacked': 0.12069028855380487, 'pure_svd': 0.0032519787613379163, 'scaled_svd': 0.001960421433614907, 'multVAE': 0.01002668209127158, 'ials': 0.0028260829610998166, 'ials_stacked': 0.0016501904456361074, 'nmf': 0.0006691821398401227}. Best is trial 136 with value: 0.0632289557019858.\n"
     ]
    },
    {
     "name": "stdout",
     "output_type": "stream",
     "text": [
      "EvaluatorHoldout: Ignoring 138 ( 0.4%) Users that have less than 1 test interactions\n",
      "EvaluatorHoldout: Processed 35598 (100.0%) in 19.65 min. Users per second: 30\n"
     ]
    },
    {
     "name": "stderr",
     "output_type": "stream",
     "text": [
      "[I 2025-01-05 14:00:05,965] Trial 199 finished with value: 0.06293540322846525 and parameters: {'slim': 0.6971449453665632, 'rp3beta': 0.04656218040726391, 'rp3beta_stacked': 0.001172279722271542, 'itemKNN': 0.014617201066509548, 'p3alpha': 0.03376799070846716, 'p3alpha_stacked': 0.2888836635972474, 'pure_svd': 0.0013809226435086725, 'scaled_svd': 0.007161584034138649, 'multVAE': 0.011805574554569619, 'ials': 0.0009628936847702241, 'ials_stacked': 0.0014564838698964682, 'nmf': 0.0003085395635055444}. Best is trial 136 with value: 0.0632289557019858.\n"
     ]
    },
    {
     "name": "stdout",
     "output_type": "stream",
     "text": [
      "EvaluatorHoldout: Ignoring 138 ( 0.4%) Users that have less than 1 test interactions\n",
      "EvaluatorHoldout: Processed 7000 (19.7%) in 5.63 min. Users per second: 21\n",
      "EvaluatorHoldout: Processed 17000 (47.8%) in 10.59 min. Users per second: 27\n",
      "EvaluatorHoldout: Processed 7000 (19.7%) in 5.58 min. Users per second: 21\n",
      "EvaluatorHoldout: Processed 6000 (16.9%) in 5.21 min. Users per second: 19\n",
      "EvaluatorHoldout: Processed 13000 (36.5%) in 11.43 min. Users per second: 19\n",
      "EvaluatorHoldout: Processed 23000 (64.6%) in 16.16 min. Users per second: 24\n",
      "EvaluatorHoldout: Processed 13000 (36.5%) in 11.38 min. Users per second: 19\n",
      "EvaluatorHoldout: Processed 12000 (33.7%) in 10.28 min. Users per second: 19\n",
      "EvaluatorHoldout: Processed 18000 (50.6%) in 16.62 min. Users per second: 18\n",
      "EvaluatorHoldout: Processed 18000 (50.6%) in 16.63 min. Users per second: 18\n",
      "EvaluatorHoldout: Processed 29000 (81.5%) in 22.70 min. Users per second: 21\n",
      "EvaluatorHoldout: Processed 18000 (50.6%) in 15.63 min. Users per second: 19\n",
      "EvaluatorHoldout: Processed 23000 (64.6%) in 22.50 min. Users per second: 17\n",
      "EvaluatorHoldout: Processed 34000 (95.5%) in 28.02 min. Users per second: 20\n",
      "EvaluatorHoldout: Processed 23000 (64.6%) in 21.99 min. Users per second: 17\n",
      "EvaluatorHoldout: Processed 35598 (100.0%) in 29.44 min. Users per second: 20\n"
     ]
    },
    {
     "name": "stderr",
     "output_type": "stream",
     "text": [
      "[I 2025-01-05 14:20:08,080] Trial 200 finished with value: 0.06292675729954329 and parameters: {'slim': 0.2574395036120527, 'rp3beta': 0.09976202401532878, 'rp3beta_stacked': 0.002426507511005177, 'itemKNN': 0.008159250136131125, 'p3alpha': 0.01636895314339837, 'p3alpha_stacked': 0.05466431397193111, 'pure_svd': 0.0027034756894266506, 'scaled_svd': 0.021488875089952446, 'multVAE': 0.008420309789726781, 'ials': 0.003400417624388196, 'ials_stacked': 0.003198814173480796, 'nmf': 0.001418629152014865}. Best is trial 136 with value: 0.0632289557019858.\n"
     ]
    },
    {
     "name": "stdout",
     "output_type": "stream",
     "text": [
      "EvaluatorHoldout: Ignoring 138 ( 0.4%) Users that have less than 1 test interactions\n",
      "EvaluatorHoldout: Processed 24000 (67.4%) in 21.35 min. Users per second: 19\n",
      "EvaluatorHoldout: Processed 29000 (81.5%) in 28.53 min. Users per second: 17\n",
      "EvaluatorHoldout: Processed 29000 (81.5%) in 27.92 min. Users per second: 17\n",
      "EvaluatorHoldout: Processed 5000 (14.0%) in 5.04 min. Users per second: 17\n",
      "EvaluatorHoldout: Processed 32000 (89.9%) in 26.99 min. Users per second: 20\n",
      "EvaluatorHoldout: Processed 35598 (100.0%) in 31.76 min. Users per second: 19\n"
     ]
    },
    {
     "name": "stderr",
     "output_type": "stream",
     "text": [
      "[I 2025-01-05 14:28:27,512] Trial 202 finished with value: 0.06301032049241043 and parameters: {'slim': 0.36167455716550284, 'rp3beta': 0.08175635060346804, 'rp3beta_stacked': 0.0038482860198399567, 'itemKNN': 0.006009304911874415, 'p3alpha': 0.02750964680294412, 'p3alpha_stacked': 0.10116670810659913, 'pure_svd': 0.005325113509989454, 'scaled_svd': 0.006796249313177299, 'multVAE': 0.009471120992784637, 'ials': 0.0019171158190021149, 'ials_stacked': 0.0021892031545425695, 'nmf': 0.0012994978113511813}. Best is trial 136 with value: 0.0632289557019858.\n"
     ]
    },
    {
     "name": "stdout",
     "output_type": "stream",
     "text": [
      "EvaluatorHoldout: Ignoring 138 ( 0.4%) Users that have less than 1 test interactions\n",
      "EvaluatorHoldout: Processed 35598 (100.0%) in 33.93 min. Users per second: 17\n"
     ]
    },
    {
     "name": "stderr",
     "output_type": "stream",
     "text": [
      "[I 2025-01-05 14:29:03,466] Trial 201 finished with value: 0.06294585057837034 and parameters: {'slim': 0.5455851257147517, 'rp3beta': 0.05642705745666284, 'rp3beta_stacked': 0.004264152290885125, 'itemKNN': 0.015040669358583987, 'p3alpha': 0.025043030547281377, 'p3alpha_stacked': 0.11524961674057049, 'pure_svd': 0.005075509269015872, 'scaled_svd': 0.004057895808457838, 'multVAE': 0.007630288399399563, 'ials': 0.0007949228216049001, 'ials_stacked': 0.0019949709226466266, 'nmf': 0.0005859291869022215}. Best is trial 136 with value: 0.0632289557019858.\n"
     ]
    },
    {
     "name": "stdout",
     "output_type": "stream",
     "text": [
      "EvaluatorHoldout: Ignoring 138 ( 0.4%) Users that have less than 1 test interactions\n",
      "EvaluatorHoldout: Processed 35598 (100.0%) in 29.09 min. Users per second: 20\n"
     ]
    },
    {
     "name": "stderr",
     "output_type": "stream",
     "text": [
      "[I 2025-01-05 14:29:13,925] Trial 203 finished with value: 0.06292851301615653 and parameters: {'slim': 0.4098492698053683, 'rp3beta': 0.05644726932616232, 'rp3beta_stacked': 0.0035992363813317613, 'itemKNN': 0.0040986034363114186, 'p3alpha': 0.0361835859685379, 'p3alpha_stacked': 0.06328045099773562, 'pure_svd': 0.0023793912614310515, 'scaled_svd': 0.011764776062881701, 'multVAE': 0.02061519588916649, 'ials': 0.0008363873032033982, 'ials_stacked': 0.007428286007150525, 'nmf': 0.0006800681119727164}. Best is trial 136 with value: 0.0632289557019858.\n"
     ]
    },
    {
     "name": "stdout",
     "output_type": "stream",
     "text": [
      "EvaluatorHoldout: Ignoring 138 ( 0.4%) Users that have less than 1 test interactions\n",
      "EvaluatorHoldout: Processed 14000 (39.3%) in 10.33 min. Users per second: 23\n",
      "EvaluatorHoldout: Processed 10000 (28.1%) in 5.22 min. Users per second: 32\n",
      "EvaluatorHoldout: Processed 10000 (28.1%) in 5.05 min. Users per second: 33\n",
      "EvaluatorHoldout: Processed 8000 (22.5%) in 5.41 min. Users per second: 25\n",
      "EvaluatorHoldout: Processed 25000 (70.2%) in 15.68 min. Users per second: 27\n",
      "EvaluatorHoldout: Processed 20000 (56.2%) in 10.46 min. Users per second: 32\n",
      "EvaluatorHoldout: Processed 21000 (59.0%) in 10.28 min. Users per second: 34\n",
      "EvaluatorHoldout: Processed 17000 (47.8%) in 10.62 min. Users per second: 27\n",
      "EvaluatorHoldout: Processed 35000 (98.3%) in 21.02 min. Users per second: 28\n",
      "EvaluatorHoldout: Processed 35598 (100.0%) in 21.38 min. Users per second: 28\n"
     ]
    },
    {
     "name": "stderr",
     "output_type": "stream",
     "text": [
      "[I 2025-01-05 14:41:34,127] Trial 204 finished with value: 0.06289312111345495 and parameters: {'slim': 0.7444867839015358, 'rp3beta': 0.10070436036249372, 'rp3beta_stacked': 0.004394871224394776, 'itemKNN': 0.014011721124617035, 'p3alpha': 0.026784677994701234, 'p3alpha_stacked': 0.07995073688977573, 'pure_svd': 0.001587173603852805, 'scaled_svd': 0.0038162464227568574, 'multVAE': 0.010777682466170458, 'ials': 0.0026520370933405457, 'ials_stacked': 0.005294000446240226, 'nmf': 0.0017055410525045806}. Best is trial 136 with value: 0.0632289557019858.\n"
     ]
    },
    {
     "name": "stdout",
     "output_type": "stream",
     "text": [
      "EvaluatorHoldout: Ignoring 138 ( 0.4%) Users that have less than 1 test interactions\n",
      "EvaluatorHoldout: Processed 29000 (81.5%) in 15.57 min. Users per second: 31\n",
      "EvaluatorHoldout: Processed 31000 (87.1%) in 15.30 min. Users per second: 34\n",
      "EvaluatorHoldout: Processed 26000 (73.0%) in 16.19 min. Users per second: 27\n",
      "EvaluatorHoldout: Processed 35598 (100.0%) in 17.63 min. Users per second: 34\n"
     ]
    },
    {
     "name": "stderr",
     "output_type": "stream",
     "text": [
      "[I 2025-01-05 14:46:54,514] Trial 207 finished with value: 0.06283549236313225 and parameters: {'slim': 0.763043257393561, 'rp3beta': 0.018761834545810076, 'rp3beta_stacked': 0.003841923176368286, 'itemKNN': 0.018373181105116942, 'p3alpha': 0.022877503377414697, 'p3alpha_stacked': 0.33217896798472957, 'pure_svd': 0.0007853420550985048, 'scaled_svd': 0.005336247479638172, 'multVAE': 0.009470128854885655, 'ials': 0.002272255325150819, 'ials_stacked': 0.0010769511784592177, 'nmf': 0.0005098675040261218}. Best is trial 136 with value: 0.0632289557019858.\n"
     ]
    },
    {
     "name": "stdout",
     "output_type": "stream",
     "text": [
      "EvaluatorHoldout: Ignoring 138 ( 0.4%) Users that have less than 1 test interactions\n",
      "EvaluatorHoldout: Processed 9000 (25.3%) in 5.48 min. Users per second: 27\n",
      "EvaluatorHoldout: Processed 35598 (100.0%) in 19.35 min. Users per second: 31\n"
     ]
    },
    {
     "name": "stderr",
     "output_type": "stream",
     "text": [
      "[I 2025-01-05 14:47:50,707] Trial 205 finished with value: 0.06306934601283795 and parameters: {'slim': 0.5523739637746021, 'rp3beta': 0.0565066163904354, 'rp3beta_stacked': 0.0028263791613923226, 'itemKNN': 0.01425414011094937, 'p3alpha': 0.029609228861216922, 'p3alpha_stacked': 0.10457739380538639, 'pure_svd': 0.006378089700644387, 'scaled_svd': 0.003890957738037522, 'multVAE': 0.010180724145408292, 'ials': 0.001750243133560232, 'ials_stacked': 0.002386481807397156, 'nmf': 0.00046909194760535067}. Best is trial 136 with value: 0.0632289557019858.\n"
     ]
    },
    {
     "name": "stdout",
     "output_type": "stream",
     "text": [
      "EvaluatorHoldout: Ignoring 138 ( 0.4%) Users that have less than 1 test interactions\n",
      "EvaluatorHoldout: Processed 34000 (95.5%) in 21.32 min. Users per second: 27\n",
      "EvaluatorHoldout: Processed 35598 (100.0%) in 21.91 min. Users per second: 27\n"
     ]
    },
    {
     "name": "stderr",
     "output_type": "stream",
     "text": [
      "[I 2025-01-05 14:51:00,652] Trial 206 finished with value: 0.06307230676415569 and parameters: {'slim': 0.3460131273330292, 'rp3beta': 0.07287204146283176, 'rp3beta_stacked': 0.0020648604715228554, 'itemKNN': 0.01586633151517696, 'p3alpha': 0.015223029891723151, 'p3alpha_stacked': 0.09344769027382364, 'pure_svd': 0.003353803359569487, 'scaled_svd': 0.009888042928018391, 'multVAE': 0.008376044456869201, 'ials': 0.0020450173477228194, 'ials_stacked': 0.0019992486170135196, 'nmf': 0.0008869335261125484}. Best is trial 136 with value: 0.0632289557019858.\n"
     ]
    },
    {
     "name": "stdout",
     "output_type": "stream",
     "text": [
      "EvaluatorHoldout: Processed 20000 (56.2%) in 10.71 min. Users per second: 31\n",
      "EvaluatorHoldout: Processed 11000 (30.9%) in 5.38 min. Users per second: 34\n",
      "EvaluatorHoldout: Processed 11000 (30.9%) in 5.08 min. Users per second: 36\n",
      "EvaluatorHoldout: Processed 22000 (61.8%) in 10.39 min. Users per second: 35\n",
      "EvaluatorHoldout: Processed 31000 (87.1%) in 15.88 min. Users per second: 33\n",
      "EvaluatorHoldout: Processed 22000 (61.8%) in 10.45 min. Users per second: 35\n",
      "EvaluatorHoldout: Processed 35598 (100.0%) in 17.93 min. Users per second: 33\n"
     ]
    },
    {
     "name": "stderr",
     "output_type": "stream",
     "text": [
      "[I 2025-01-05 14:59:32,116] Trial 208 finished with value: 0.06309016045131659 and parameters: {'slim': 0.49803715998743375, 'rp3beta': 0.05088327705301965, 'rp3beta_stacked': 0.003275377707269768, 'itemKNN': 0.005669901682292868, 'p3alpha': 0.06354952295940079, 'p3alpha_stacked': 0.07859533635580987, 'pure_svd': 0.0027719951583433373, 'scaled_svd': 0.007506451319233649, 'multVAE': 0.015022568847858037, 'ials': 0.0014940246815610238, 'ials_stacked': 0.0013415023917300165, 'nmf': 0.0001230040676572839}. Best is trial 136 with value: 0.0632289557019858.\n"
     ]
    },
    {
     "name": "stdout",
     "output_type": "stream",
     "text": [
      "EvaluatorHoldout: Processed 35598 (100.0%) in 15.21 min. Users per second: 39\n"
     ]
    },
    {
     "name": "stderr",
     "output_type": "stream",
     "text": [
      "[I 2025-01-05 15:02:09,435] Trial 209 finished with value: 0.06275543725926966 and parameters: {'slim': 0.41970145977493495, 'rp3beta': 0.11929687947179193, 'rp3beta_stacked': 0.0014665746643465502, 'itemKNN': 0.009612671621393643, 'p3alpha': 0.039518374263313436, 'p3alpha_stacked': 0.1374621903714903, 'pure_svd': 0.003979568471620705, 'scaled_svd': 0.007003743106421297, 'multVAE': 0.008510387267343815, 'ials': 0.0031887989241610004, 'ials_stacked': 0.005125905461666044, 'nmf': 0.0011797159263009422}. Best is trial 136 with value: 0.0632289557019858.\n"
     ]
    },
    {
     "name": "stdout",
     "output_type": "stream",
     "text": [
      "EvaluatorHoldout: Processed 35598 (100.0%) in 15.06 min. Users per second: 39\n"
     ]
    },
    {
     "name": "stderr",
     "output_type": "stream",
     "text": [
      "[I 2025-01-05 15:02:55,176] Trial 210 finished with value: 0.06312531379950695 and parameters: {'slim': 0.9468869508873056, 'rp3beta': 0.04421373156199873, 'rp3beta_stacked': 0.0012646900254694624, 'itemKNN': 0.00835592462419667, 'p3alpha': 0.055036862604690304, 'p3alpha_stacked': 0.1594037580133421, 'pure_svd': 0.003671955225641817, 'scaled_svd': 0.011455575532642398, 'multVAE': 0.018377118559344433, 'ials': 0.000978617022774413, 'ials_stacked': 0.003244818809943069, 'nmf': 0.0004144007322468194}. Best is trial 136 with value: 0.0632289557019858.\n"
     ]
    },
    {
     "ename": "KeyboardInterrupt",
     "evalue": "",
     "output_type": "error",
     "traceback": [
      "\u001B[1;31m---------------------------------------------------------------------------\u001B[0m",
      "\u001B[1;31mKeyboardInterrupt\u001B[0m                         Traceback (most recent call last)",
      "Cell \u001B[1;32mIn[12], line 1\u001B[0m\n\u001B[1;32m----> 1\u001B[0m \u001B[43mstudy\u001B[49m\u001B[38;5;241;43m.\u001B[39;49m\u001B[43moptimize\u001B[49m\u001B[43m(\u001B[49m\u001B[43mobjective\u001B[49m\u001B[43m,\u001B[49m\u001B[43m \u001B[49m\u001B[43mn_trials\u001B[49m\u001B[38;5;241;43m=\u001B[39;49m\u001B[38;5;241;43m100\u001B[39;49m\u001B[43m,\u001B[49m\u001B[43m \u001B[49m\u001B[43mn_jobs\u001B[49m\u001B[38;5;241;43m=\u001B[39;49m\u001B[38;5;241;43m4\u001B[39;49m\u001B[43m)\u001B[49m\n",
      "File \u001B[1;32m~\\anaconda3\\envs\\RecSysFrameworkk\\lib\\site-packages\\optuna\\study\\study.py:475\u001B[0m, in \u001B[0;36mStudy.optimize\u001B[1;34m(self, func, n_trials, timeout, n_jobs, catch, callbacks, gc_after_trial, show_progress_bar)\u001B[0m\n\u001B[0;32m    373\u001B[0m \u001B[38;5;28;01mdef\u001B[39;00m \u001B[38;5;21moptimize\u001B[39m(\n\u001B[0;32m    374\u001B[0m     \u001B[38;5;28mself\u001B[39m,\n\u001B[0;32m    375\u001B[0m     func: ObjectiveFuncType,\n\u001B[1;32m   (...)\u001B[0m\n\u001B[0;32m    382\u001B[0m     show_progress_bar: \u001B[38;5;28mbool\u001B[39m \u001B[38;5;241m=\u001B[39m \u001B[38;5;28;01mFalse\u001B[39;00m,\n\u001B[0;32m    383\u001B[0m ) \u001B[38;5;241m-\u001B[39m\u001B[38;5;241m>\u001B[39m \u001B[38;5;28;01mNone\u001B[39;00m:\n\u001B[0;32m    384\u001B[0m \u001B[38;5;250m    \u001B[39m\u001B[38;5;124;03m\"\"\"Optimize an objective function.\u001B[39;00m\n\u001B[0;32m    385\u001B[0m \n\u001B[0;32m    386\u001B[0m \u001B[38;5;124;03m    Optimization is done by choosing a suitable set of hyperparameter values from a given\u001B[39;00m\n\u001B[1;32m   (...)\u001B[0m\n\u001B[0;32m    473\u001B[0m \u001B[38;5;124;03m            If nested invocation of this method occurs.\u001B[39;00m\n\u001B[0;32m    474\u001B[0m \u001B[38;5;124;03m    \"\"\"\u001B[39;00m\n\u001B[1;32m--> 475\u001B[0m     \u001B[43m_optimize\u001B[49m\u001B[43m(\u001B[49m\n\u001B[0;32m    476\u001B[0m \u001B[43m        \u001B[49m\u001B[43mstudy\u001B[49m\u001B[38;5;241;43m=\u001B[39;49m\u001B[38;5;28;43mself\u001B[39;49m\u001B[43m,\u001B[49m\n\u001B[0;32m    477\u001B[0m \u001B[43m        \u001B[49m\u001B[43mfunc\u001B[49m\u001B[38;5;241;43m=\u001B[39;49m\u001B[43mfunc\u001B[49m\u001B[43m,\u001B[49m\n\u001B[0;32m    478\u001B[0m \u001B[43m        \u001B[49m\u001B[43mn_trials\u001B[49m\u001B[38;5;241;43m=\u001B[39;49m\u001B[43mn_trials\u001B[49m\u001B[43m,\u001B[49m\n\u001B[0;32m    479\u001B[0m \u001B[43m        \u001B[49m\u001B[43mtimeout\u001B[49m\u001B[38;5;241;43m=\u001B[39;49m\u001B[43mtimeout\u001B[49m\u001B[43m,\u001B[49m\n\u001B[0;32m    480\u001B[0m \u001B[43m        \u001B[49m\u001B[43mn_jobs\u001B[49m\u001B[38;5;241;43m=\u001B[39;49m\u001B[43mn_jobs\u001B[49m\u001B[43m,\u001B[49m\n\u001B[0;32m    481\u001B[0m \u001B[43m        \u001B[49m\u001B[43mcatch\u001B[49m\u001B[38;5;241;43m=\u001B[39;49m\u001B[38;5;28;43mtuple\u001B[39;49m\u001B[43m(\u001B[49m\u001B[43mcatch\u001B[49m\u001B[43m)\u001B[49m\u001B[43m \u001B[49m\u001B[38;5;28;43;01mif\u001B[39;49;00m\u001B[43m \u001B[49m\u001B[38;5;28;43misinstance\u001B[39;49m\u001B[43m(\u001B[49m\u001B[43mcatch\u001B[49m\u001B[43m,\u001B[49m\u001B[43m \u001B[49m\u001B[43mIterable\u001B[49m\u001B[43m)\u001B[49m\u001B[43m \u001B[49m\u001B[38;5;28;43;01melse\u001B[39;49;00m\u001B[43m \u001B[49m\u001B[43m(\u001B[49m\u001B[43mcatch\u001B[49m\u001B[43m,\u001B[49m\u001B[43m)\u001B[49m\u001B[43m,\u001B[49m\n\u001B[0;32m    482\u001B[0m \u001B[43m        \u001B[49m\u001B[43mcallbacks\u001B[49m\u001B[38;5;241;43m=\u001B[39;49m\u001B[43mcallbacks\u001B[49m\u001B[43m,\u001B[49m\n\u001B[0;32m    483\u001B[0m \u001B[43m        \u001B[49m\u001B[43mgc_after_trial\u001B[49m\u001B[38;5;241;43m=\u001B[39;49m\u001B[43mgc_after_trial\u001B[49m\u001B[43m,\u001B[49m\n\u001B[0;32m    484\u001B[0m \u001B[43m        \u001B[49m\u001B[43mshow_progress_bar\u001B[49m\u001B[38;5;241;43m=\u001B[39;49m\u001B[43mshow_progress_bar\u001B[49m\u001B[43m,\u001B[49m\n\u001B[0;32m    485\u001B[0m \u001B[43m    \u001B[49m\u001B[43m)\u001B[49m\n",
      "File \u001B[1;32m~\\anaconda3\\envs\\RecSysFrameworkk\\lib\\site-packages\\optuna\\study\\_optimize.py:97\u001B[0m, in \u001B[0;36m_optimize\u001B[1;34m(study, func, n_trials, timeout, n_jobs, catch, callbacks, gc_after_trial, show_progress_bar)\u001B[0m\n\u001B[0;32m     94\u001B[0m     \u001B[38;5;28;01mbreak\u001B[39;00m\n\u001B[0;32m     96\u001B[0m \u001B[38;5;28;01mif\u001B[39;00m \u001B[38;5;28mlen\u001B[39m(futures) \u001B[38;5;241m>\u001B[39m\u001B[38;5;241m=\u001B[39m n_jobs:\n\u001B[1;32m---> 97\u001B[0m     completed, futures \u001B[38;5;241m=\u001B[39m \u001B[43mwait\u001B[49m\u001B[43m(\u001B[49m\u001B[43mfutures\u001B[49m\u001B[43m,\u001B[49m\u001B[43m \u001B[49m\u001B[43mreturn_when\u001B[49m\u001B[38;5;241;43m=\u001B[39;49m\u001B[43mFIRST_COMPLETED\u001B[49m\u001B[43m)\u001B[49m\n\u001B[0;32m     98\u001B[0m     \u001B[38;5;66;03m# Raise if exception occurred in executing the completed futures.\u001B[39;00m\n\u001B[0;32m     99\u001B[0m     \u001B[38;5;28;01mfor\u001B[39;00m f \u001B[38;5;129;01min\u001B[39;00m completed:\n",
      "File \u001B[1;32m~\\anaconda3\\envs\\RecSysFrameworkk\\lib\\concurrent\\futures\\_base.py:305\u001B[0m, in \u001B[0;36mwait\u001B[1;34m(fs, timeout, return_when)\u001B[0m\n\u001B[0;32m    301\u001B[0m         \u001B[38;5;28;01mreturn\u001B[39;00m DoneAndNotDoneFutures(done, not_done)\n\u001B[0;32m    303\u001B[0m     waiter \u001B[38;5;241m=\u001B[39m _create_and_install_waiters(fs, return_when)\n\u001B[1;32m--> 305\u001B[0m \u001B[43mwaiter\u001B[49m\u001B[38;5;241;43m.\u001B[39;49m\u001B[43mevent\u001B[49m\u001B[38;5;241;43m.\u001B[39;49m\u001B[43mwait\u001B[49m\u001B[43m(\u001B[49m\u001B[43mtimeout\u001B[49m\u001B[43m)\u001B[49m\n\u001B[0;32m    306\u001B[0m \u001B[38;5;28;01mfor\u001B[39;00m f \u001B[38;5;129;01min\u001B[39;00m fs:\n\u001B[0;32m    307\u001B[0m     \u001B[38;5;28;01mwith\u001B[39;00m f\u001B[38;5;241m.\u001B[39m_condition:\n",
      "File \u001B[1;32m~\\anaconda3\\envs\\RecSysFrameworkk\\lib\\threading.py:558\u001B[0m, in \u001B[0;36mEvent.wait\u001B[1;34m(self, timeout)\u001B[0m\n\u001B[0;32m    556\u001B[0m signaled \u001B[38;5;241m=\u001B[39m \u001B[38;5;28mself\u001B[39m\u001B[38;5;241m.\u001B[39m_flag\n\u001B[0;32m    557\u001B[0m \u001B[38;5;28;01mif\u001B[39;00m \u001B[38;5;129;01mnot\u001B[39;00m signaled:\n\u001B[1;32m--> 558\u001B[0m     signaled \u001B[38;5;241m=\u001B[39m \u001B[38;5;28;43mself\u001B[39;49m\u001B[38;5;241;43m.\u001B[39;49m\u001B[43m_cond\u001B[49m\u001B[38;5;241;43m.\u001B[39;49m\u001B[43mwait\u001B[49m\u001B[43m(\u001B[49m\u001B[43mtimeout\u001B[49m\u001B[43m)\u001B[49m\n\u001B[0;32m    559\u001B[0m \u001B[38;5;28;01mreturn\u001B[39;00m signaled\n",
      "File \u001B[1;32m~\\anaconda3\\envs\\RecSysFrameworkk\\lib\\threading.py:302\u001B[0m, in \u001B[0;36mCondition.wait\u001B[1;34m(self, timeout)\u001B[0m\n\u001B[0;32m    300\u001B[0m \u001B[38;5;28;01mtry\u001B[39;00m:    \u001B[38;5;66;03m# restore state no matter what (e.g., KeyboardInterrupt)\u001B[39;00m\n\u001B[0;32m    301\u001B[0m     \u001B[38;5;28;01mif\u001B[39;00m timeout \u001B[38;5;129;01mis\u001B[39;00m \u001B[38;5;28;01mNone\u001B[39;00m:\n\u001B[1;32m--> 302\u001B[0m         \u001B[43mwaiter\u001B[49m\u001B[38;5;241;43m.\u001B[39;49m\u001B[43macquire\u001B[49m\u001B[43m(\u001B[49m\u001B[43m)\u001B[49m\n\u001B[0;32m    303\u001B[0m         gotit \u001B[38;5;241m=\u001B[39m \u001B[38;5;28;01mTrue\u001B[39;00m\n\u001B[0;32m    304\u001B[0m     \u001B[38;5;28;01melse\u001B[39;00m:\n",
      "\u001B[1;31mKeyboardInterrupt\u001B[0m: "
     ]
    }
   ],
   "execution_count": 12
  },
  {
   "metadata": {
    "jupyter": {
     "is_executing": true
    },
    "ExecuteTime": {
     "start_time": "2025-01-05T14:03:11.479087Z"
    }
   },
   "cell_type": "code",
   "source": "study.optimize(objective, n_trials=100, n_jobs=4)",
   "id": "8987edceeb6a68fc",
   "outputs": [
    {
     "name": "stdout",
     "output_type": "stream",
     "text": [
      "EvaluatorHoldout: Ignoring 138 ( 0.4%) Users that have less than 1 test interactions\n",
      "EvaluatorHoldout: Ignoring 138 ( 0.4%) Users that have less than 1 test interactions\n",
      "EvaluatorHoldout: Ignoring 138 ( 0.4%) Users that have less than 1 test interactions\n",
      "EvaluatorHoldout: Ignoring 138 ( 0.4%) Users that have less than 1 test interactions\n"
     ]
    }
   ],
   "execution_count": null
  },
  {
   "metadata": {},
   "cell_type": "code",
   "outputs": [],
   "execution_count": null,
   "source": "",
   "id": "53d0815414476422"
  }
 ],
 "metadata": {
  "kernelspec": {
   "display_name": "Python 3",
   "language": "python",
   "name": "python3"
  },
  "language_info": {
   "codemirror_mode": {
    "name": "ipython",
    "version": 2
   },
   "file_extension": ".py",
   "mimetype": "text/x-python",
   "name": "python",
   "nbconvert_exporter": "python",
   "pygments_lexer": "ipython2",
   "version": "2.7.6"
  }
 },
 "nbformat": 4,
 "nbformat_minor": 5
}
