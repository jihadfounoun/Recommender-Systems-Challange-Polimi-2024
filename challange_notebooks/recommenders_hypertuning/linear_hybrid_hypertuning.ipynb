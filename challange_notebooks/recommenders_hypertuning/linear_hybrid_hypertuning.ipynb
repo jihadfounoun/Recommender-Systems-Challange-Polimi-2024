{
 "cells": [
  {
   "cell_type": "code",
   "id": "initial_id",
   "metadata": {
    "collapsed": true,
    "ExecuteTime": {
     "end_time": "2024-12-31T10:52:13.420202Z",
     "start_time": "2024-12-31T10:52:11.847240Z"
    }
   },
   "source": [
    "\n",
    "from src.Recommenders.SLIM.SLIMElasticNetRecommender import SLIMElasticNetRecommender\n",
    "from src.Evaluation.Evaluator import EvaluatorHoldout\n",
    "from src.Recommenders.Neural.MultVAE_PyTorch_Recommender import MultVAERecommender_PyTorch\n",
    "from src.Recommenders.MatrixFactorization.PureSVDRecommender import ScaledPureSVDRecommender\n",
    "from src.Recommenders.MatrixFactorization.PureSVDRecommender import PureSVDItemRecommender\n",
    "from src.Recommenders.GraphBased.RP3betaRecommender import RP3betaRecommender\n",
    "\n",
    "import numpy as np\n",
    "import random\n",
    "import os\n",
    "\n",
    "os.chdir(os.path.dirname(os.path.dirname(os.getcwd())))\n",
    "\n",
    "SEED = 42\n",
    "np.random.seed(SEED)\n",
    "random.seed(SEED)\n",
    "os.environ['PYTHONHASHSEED'] = str(SEED)\n",
    "\n",
    "\n",
    "import pandas as pd\n",
    "import scipy.sparse as sps\n",
    "\n",
    "dataframe_items=pd.read_csv(\"Data/data_ICM_metadata.csv\",low_memory=True)\n",
    "\n",
    "icm=sps.csr_matrix((dataframe_items[\"data\"].values,(dataframe_items[\"item_id\"].values.astype(int),dataframe_items[\"feature_id\"].values)))\n",
    "\n",
    "urm_train = sps.load_npz('Data/URM_train.npz')\n",
    "urm_test = sps.load_npz('Data/URM_test.npz')\n",
    "urm_train_stacked=sps.vstack([urm_train,icm.T])"
   ],
   "outputs": [],
   "execution_count": 4
  },
  {
   "metadata": {
    "ExecuteTime": {
     "end_time": "2024-12-31T10:50:11.779233Z",
     "start_time": "2024-12-31T10:50:11.769200Z"
    }
   },
   "cell_type": "code",
   "source": [
    "import sqlite3\n",
    "database_path='optuna_hybrid_linear_multvae.db'\n",
    "conn = sqlite3.connect(database_path)"
   ],
   "id": "cb3aa97948ce7b89",
   "outputs": [],
   "execution_count": 2
  },
  {
   "metadata": {
    "ExecuteTime": {
     "end_time": "2024-12-31T10:52:15.518471Z",
     "start_time": "2024-12-31T10:52:14.771360Z"
    }
   },
   "cell_type": "code",
   "source": [
    "slim_recommender=SLIMElasticNetRecommender(urm_train)\n",
    "pure_svd_recommender=PureSVDItemRecommender(urm_train)\n",
    "rp3beta_recommender=RP3betaRecommender(urm_train)\n",
    "rp3beta_stacked_recommender=RP3betaRecommender(urm_train_stacked)\n",
    "scaled_svd_recommender= ScaledPureSVDRecommender(urm_train)\n",
    "multvae_recommender=MultVAERecommender_PyTorch(urm_train)"
   ],
   "id": "1a1023f6d7f7cc16",
   "outputs": [],
   "execution_count": 5
  },
  {
   "metadata": {},
   "cell_type": "code",
   "source": [
    "folder_path='trained_models/train/'\n",
    "slim_recommender.load_model(folder_path=folder_path,file_name='SLIMElasticNetRecommender.zip')\n",
    "pure_svd_recommender.load_model(folder_path=folder_path,file_name='best_pure_svd.zip')\n",
    "scaled_svd_recommender.load_model(folder_path=folder_path,file_name='best_scaled_svd.zip')\n",
    "rp3beta_recommender.load_model(folder_path=folder_path,file_name='best_rp3beta.zip')\n",
    "rp3beta_stacked_recommender.load_model(folder_path=folder_path,file_name='best_stacked_rp3beta.zip')\n",
    "multvae_recommender.load_model(folder_path=folder_path,file_name='best_MultVAE.zip')"
   ],
   "id": "a55ec2008064d5e4",
   "outputs": [],
   "execution_count": null
  },
  {
   "metadata": {
    "ExecuteTime": {
     "end_time": "2024-12-31T11:24:29.008919Z",
     "start_time": "2024-12-31T11:24:28.993272Z"
    }
   },
   "cell_type": "code",
   "source": [
    "recommenders_list={}\n",
    "\n",
    "recommenders_list['slim']=slim_recommender\n",
    "recommenders_list['pure_svd']=pure_svd_recommender\n",
    "recommenders_list['scaled_svd']=scaled_svd_recommender\n",
    "recommenders_list['rp3beta']=rp3beta_recommender\n",
    "recommenders_list['rp3beta_stacked']=rp3beta_stacked_recommender\n",
    "recommenders_list['multvae']=multvae_recommender\n",
    "recommenders=[\n",
    "   recommenders_list['slim'],\n",
    "recommenders_list['pure_svd'],\n",
    "recommenders_list['scaled_svd'],\n",
    "recommenders_list['rp3beta'],\n",
    "recommenders_list['rp3beta_stacked'],\n",
    "recommenders_list['multvae']\n",
    "]"
   ],
   "id": "a3dc4116eef41a0d",
   "outputs": [],
   "execution_count": 7
  },
  {
   "metadata": {
    "ExecuteTime": {
     "end_time": "2024-12-31T11:24:35.192153Z",
     "start_time": "2024-12-31T11:24:35.161003Z"
    }
   },
   "cell_type": "code",
   "source": [
    "from src.Recommenders.Hybrids.LinearWeightedRecommender import LinearWeightedRecommender\n",
    "def objective(trial):\n",
    "    weights = [\n",
    "        trial.suggest_float('slim', 1e-2, 0.8, log=True),\n",
    "        trial.suggest_float('pure_svd', 1e-4, 0.2, log=True),\n",
    "        trial.suggest_float('scaled_svd', 1e-4, 0.2, log=True),\n",
    "        trial.suggest_float('rp3beta', 1e-3, 0.6, log=True),\n",
    "        trial.suggest_float('rp3beta_stacked', 1e-3, 0.6, log=True),\n",
    "        trial.suggest_float('multVAE', 1e-4, 0.2, log=True)\n",
    "\n",
    "    ]\n",
    "\n",
    "    evaluator=EvaluatorHoldout(urm_test, cutoff_list=[10])\n",
    "    linear_combinator = LinearWeightedRecommender(urm_train, recommenders, weights)\n",
    "    result_df, _ = evaluator.evaluateRecommender(linear_combinator)\n",
    "    return result_df.loc[10, \"MAP\"]"
   ],
   "id": "ba98c12889520298",
   "outputs": [],
   "execution_count": 8
  },
  {
   "metadata": {},
   "cell_type": "code",
   "source": [
    "import optuna\n",
    "from optuna.samplers import RandomSampler\n",
    "study=optuna.create_study(direction='maximize',\n",
    "    study_name='hyperparameters_hybrid_linear',\n",
    "    storage=f'sqlite:///{database_path}',load_if_exists=True,sampler=RandomSampler(seed=SEED)\n",
    ")"
   ],
   "id": "3b80b76bf52c28f3",
   "outputs": [],
   "execution_count": null
  },
  {
   "metadata": {},
   "cell_type": "code",
   "source": "study.optimize(objective, n_trials=400,n_jobs=4)",
   "id": "b7eb1d5200c02a8f",
   "outputs": [],
   "execution_count": null
  }
 ],
 "metadata": {
  "kernelspec": {
   "display_name": "Python 3",
   "language": "python",
   "name": "python3"
  },
  "language_info": {
   "codemirror_mode": {
    "name": "ipython",
    "version": 2
   },
   "file_extension": ".py",
   "mimetype": "text/x-python",
   "name": "python",
   "nbconvert_exporter": "python",
   "pygments_lexer": "ipython2",
   "version": "2.7.6"
  }
 },
 "nbformat": 4,
 "nbformat_minor": 5
}
