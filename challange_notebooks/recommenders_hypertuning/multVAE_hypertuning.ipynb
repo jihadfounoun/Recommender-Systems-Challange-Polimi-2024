{
 "cells": [
  {
   "cell_type": "code",
   "execution_count": null,
   "id": "initial_id",
   "metadata": {
    "collapsed": true
   },
   "outputs": [],
   "source": [
    "from src.Evaluation.Evaluator import EvaluatorHoldout\n",
    "from src.Recommenders.Neural.MultVAE_PyTorch_Recommender import MultVAERecommender_PyTorch\n",
    "import numpy as np\n",
    "import random\n",
    "import os\n",
    "import optuna\n",
    "\n",
    "\n",
    "\n",
    "SEED = 42\n",
    "np.random.seed(SEED)\n",
    "random.seed(SEED)\n",
    "os.environ['PYTHONHASHSEED'] = str(SEED)\n",
    "\n",
    "import scipy.sparse as sps\n",
    "\n",
    "URM_train = sps.load_npz('Dataset/URM_train.npz')\n",
    "URM_test_complete = sps.load_npz('Dataset/URM_test.npz')\n",
    "\n",
    "\n",
    "URM_all= URM_test_complete + URM_train"
   ]
  },
  {
   "metadata": {},
   "cell_type": "code",
   "outputs": [],
   "execution_count": null,
   "source": [
    "evaluator = EvaluatorHoldout(URM_test_complete, cutoff_list=[10])\n",
    "\n",
    "def objective_function(trial):\n",
    "    early_stopping_params = {\n",
    "        \"validation_every_n\": 1,\n",
    "        \"stop_on_validation\": True,\n",
    "        \"evaluator_object\": evaluator,\n",
    "        \"lower_validations_allowed\": 10,\n",
    "        \"validation_metric\": \"MAP\",\n",
    "        \"epochs\": 500\n",
    "    }\n",
    "\n",
    "\n",
    "    n_layers = trial.suggest_categorical('n_layers', [1, 2])\n",
    "    layer_1 = trial.suggest_int('layer_1', 20, 500, log=True)\n",
    "    p_dims = [layer_1]\n",
    "    if n_layers == 2:\n",
    "        layer_2 = trial.suggest_int('layer_2', layer_1, 2000, log=True)\n",
    "        p_dims.append(layer_2)\n",
    "    p_dims.append(URM_train.shape[1])\n",
    "\n",
    "\n",
    "    learning_rate = trial.suggest_float('learning_rate', 1e-6, 1e-1, log=True)\n",
    "    batch_size = trial.suggest_categorical('batch_size', [1, 2, 4, 8, 16, 32, 64, 128, 256, 512, 1024])\n",
    "    dropout = trial.suggest_float('dropout', 0.1, 0.7)\n",
    "    l2_reg = trial.suggest_float('l2_reg', 1e-7, 0.1, log=True)\n",
    "    anneal_cap = trial.suggest_float('anneal_cap', 1e-2, 1, log=True)\n",
    "    total_anneal_steps = trial.suggest_int('total_anneal_steps', 1e3, 1e6, log=True)\n",
    "    sgd_mode = trial.suggest_categorical('sgd_mode', ['adam', 'sgd', 'adagrad'])  # Scelta tra ottimizzatori disponibili\n",
    "\n",
    "\n",
    "    recommender_instance = MultVAERecommender_PyTorch(URM_train=URM_train)\n",
    "    recommender_instance.fit(\n",
    "        learning_rate=learning_rate,\n",
    "        batch_size=batch_size,\n",
    "        dropout=dropout,\n",
    "        total_anneal_steps=total_anneal_steps,\n",
    "        anneal_cap=anneal_cap,\n",
    "        p_dims=p_dims,\n",
    "        l2_reg=l2_reg,\n",
    "        sgd_mode=sgd_mode,\n",
    "        **early_stopping_params\n",
    "    )\n",
    "\n",
    "    # Recupera il numero di epoche effettivamente eseguite con early stopping\n",
    "    epochs = recommender_instance.get_early_stopping_final_epochs_dict()[\"epochs\"]\n",
    "    trial.set_user_attr(\"epochs\", epochs)\n",
    "\n",
    "    # Valuta il modello\n",
    "    result_df, _ = evaluator.evaluateRecommender(recommender_instance)\n",
    "\n",
    "    # Ritorna il MAP (Mean Average Precision) a cutoff 10\n",
    "    return result_df.loc[10, \"MAP\"]\n"
   ],
   "id": "e10b1d3918eee3b7"
  },
  {
   "metadata": {},
   "cell_type": "code",
   "outputs": [],
   "execution_count": null,
   "source": [
    "database_path='hypertuning_results/tuning_MultVAE.db'\n",
    "\n",
    "from optuna.samplers import RandomSampler\n",
    "\n",
    "study = optuna.load_study( study_name='hyperparameters_MultVAE',\n",
    "                                storage=f'sqlite:///{database_path}'\n",
    "\n",
    ")\n",
    "study.sampler=RandomSampler(seed=SEED)\n",
    "\n",
    "study.optimize(objective_function, n_trials= 40,n_jobs=4)"
   ],
   "id": "da2afc9d6824a2cf"
  }
 ],
 "metadata": {
  "kernelspec": {
   "display_name": "Python 3",
   "language": "python",
   "name": "python3"
  },
  "language_info": {
   "codemirror_mode": {
    "name": "ipython",
    "version": 2
   },
   "file_extension": ".py",
   "mimetype": "text/x-python",
   "name": "python",
   "nbconvert_exporter": "python",
   "pygments_lexer": "ipython2",
   "version": "2.7.6"
  }
 },
 "nbformat": 4,
 "nbformat_minor": 5
}
