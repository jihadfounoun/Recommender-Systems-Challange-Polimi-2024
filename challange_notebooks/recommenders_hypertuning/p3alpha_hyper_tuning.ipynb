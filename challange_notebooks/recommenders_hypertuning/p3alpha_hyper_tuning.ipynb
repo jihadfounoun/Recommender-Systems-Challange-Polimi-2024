{
 "cells": [
  {
   "cell_type": "code",
   "execution_count": null,
   "id": "initial_id",
   "metadata": {
    "collapsed": true
   },
   "outputs": [],
   "source": [
    "from src.Evaluation.Evaluator import EvaluatorHoldout\n",
    "import scipy.sparse as sps\n",
    "import random\n",
    "import os\n",
    "import numpy as np\n",
    "os.chdir(os.path.dirname(os.path.dirname(os.getcwd())))\n",
    "\n",
    "SEED = 42\n",
    "np.random.seed(SEED)\n",
    "random.seed(SEED)\n",
    "os.environ['PYTHONHASHSEED'] = str(SEED)\n",
    "\n",
    "URM_train = sps.load_npz('Dataset/URM_train.npz')\n",
    "URM_test_complete = sps.load_npz('Dataset/URM_test.npz')\n",
    "\n",
    "URM_all=URM_train + URM_test_complete"
   ]
  },
  {
   "metadata": {},
   "cell_type": "code",
   "outputs": [],
   "execution_count": null,
   "source": [
    "from src.Recommenders.GraphBased.P3alphaRecommender import P3alphaRecommender\n",
    "\n",
    "evaluator = EvaluatorHoldout(URM_test_complete, cutoff_list=[10])\n",
    "def objective(trial):\n",
    "    topk=trial.suggest_int('topk',15,500,log=True)\n",
    "    alpha=trial.suggest_float('alpha',0.05,2,log=True)\n",
    "    normalize_similarity=trial.suggest_categorical('normalize_similarity',[True,False])\n",
    "    recommender=P3alphaRecommender(URM_train)\n",
    "    recommender.fit(topK=topk,alpha=alpha,implicit=True,normalize_similarity=normalize_similarity)\n",
    "    result_df, _ = evaluator.evaluateRecommender(recommender)\n",
    "    return result_df.loc[10, \"MAP\"]"
   ],
   "id": "a88bb4fbdb72e9e4"
  },
  {
   "metadata": {},
   "cell_type": "code",
   "outputs": [],
   "execution_count": null,
   "source": [
    "import optuna\n",
    "from optuna.samplers import RandomSampler\n",
    "\n",
    "database_path='hypertuning_results/tuning_p3aplha.db'\n",
    "\n",
    "study=optuna.create_study(direction='maximize',\n",
    "    study_name='hyperparameters_tuning_p3alpha',load_if_exists=True,\n",
    "    storage=f'sqlite:///{database_path}',sampler=RandomSampler(seed=SEED))\n",
    "\n",
    "study.optimize(objective, n_trials=150, n_jobs=5)"
   ],
   "id": "4a359ce7a13f8899"
  }
 ],
 "metadata": {
  "kernelspec": {
   "display_name": "Python 3",
   "language": "python",
   "name": "python3"
  },
  "language_info": {
   "codemirror_mode": {
    "name": "ipython",
    "version": 2
   },
   "file_extension": ".py",
   "mimetype": "text/x-python",
   "name": "python",
   "nbconvert_exporter": "python",
   "pygments_lexer": "ipython2",
   "version": "2.7.6"
  }
 },
 "nbformat": 4,
 "nbformat_minor": 5
}
