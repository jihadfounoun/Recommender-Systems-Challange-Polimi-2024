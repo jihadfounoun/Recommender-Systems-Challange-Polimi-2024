{
 "cells": [
  {
   "cell_type": "code",
   "execution_count": null,
   "id": "initial_id",
   "metadata": {
    "collapsed": true
   },
   "outputs": [],
   "source": [
    "from src.Evaluation.Evaluator import EvaluatorHoldout\n",
    "import scipy.sparse as sps\n",
    "import random\n",
    "import os\n",
    "import numpy as np\n",
    "os.chdir(os.path.dirname(os.path.dirname(os.getcwd())))\n",
    "\n",
    "import pandas as pd\n",
    "\n",
    "SEED = 42\n",
    "np.random.seed(SEED)\n",
    "random.seed(SEED)\n",
    "os.environ['PYTHONHASHSEED'] = str(SEED)\n",
    "\n",
    "dataframe_items=pd.read_csv(\"Dataset/data_ICM_metadata.csv\",low_memory=True)\n",
    "ICM=sps.csr_matrix((dataframe_items[\"data\"].values,(dataframe_items[\"item_id\"].values.astype(int),dataframe_items[\"feature_id\"].values)))\n",
    "\n",
    "URM_train = sps.load_npz('Dataset/URM_train.npz')\n",
    "URM_test_complete = sps.load_npz('Dataset/URM_test.npz')\n",
    "\n",
    "URM_all=URM_train + URM_test_complete"
   ]
  },
  {
   "metadata": {},
   "cell_type": "code",
   "outputs": [],
   "execution_count": null,
   "source": [
    "from src.Recommenders.GraphBased.P3alphaRecommender import P3alphaRecommender\n",
    "\n",
    "evaluator = EvaluatorHoldout(URM_test_complete, cutoff_list=[10])\n",
    "def objective(trial):\n",
    "    alpha_stacked=trial.suggest_float('alpha_stacked',0.2,1,log=True)\n",
    "    topk=trial.suggest_int('topk',10,500,log=True)\n",
    "    alpha=trial.suggest_float('alpha',0.05,1.5,log=True)\n",
    "    normalize_similarity=trial.suggest_categorical('normalize_similarity',[True,False])\n",
    "    urm_stacked=sps.vstack([URM_train*alpha_stacked,ICM.T*(1-alpha_stacked)])\n",
    "    recommender=P3alphaRecommender(urm_stacked)\n",
    "    recommender.fit(topK=topk,alpha=alpha,implicit=True,normalize_similarity=normalize_similarity)\n",
    "    result_df, _ = evaluator.evaluateRecommender(recommender)\n",
    "    return result_df.loc[10, \"MAP\"]"
   ],
   "id": "630049f7b87d9156"
  },
  {
   "metadata": {},
   "cell_type": "code",
   "outputs": [],
   "execution_count": null,
   "source": [
    "import optuna\n",
    "from optuna.samplers import RandomSampler\n",
    "\n",
    "database_path='hypertuning_results/tuning_p3aplha_stacked.db'\n",
    "\n",
    "study=optuna.load_study(\n",
    "    study_name='hyperparameters_tuning_p3alpha',\n",
    "    storage=f'sqlite:///{database_path}')\n",
    "study.sampler=RandomSampler(seed=SEED)\n",
    "\n",
    "study.optimize(objective, n_trials=900, n_jobs=5)"
   ],
   "id": "22af648f85a20217"
  }
 ],
 "metadata": {
  "kernelspec": {
   "display_name": "Python 3",
   "language": "python",
   "name": "python3"
  },
  "language_info": {
   "codemirror_mode": {
    "name": "ipython",
    "version": 2
   },
   "file_extension": ".py",
   "mimetype": "text/x-python",
   "name": "python",
   "nbconvert_exporter": "python",
   "pygments_lexer": "ipython2",
   "version": "2.7.6"
  }
 },
 "nbformat": 4,
 "nbformat_minor": 5
}
