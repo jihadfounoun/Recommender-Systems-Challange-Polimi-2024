{
 "cells": [
  {
   "cell_type": "code",
   "execution_count": null,
   "id": "initial_id",
   "metadata": {
    "collapsed": true
   },
   "outputs": [],
   "source": [
    "from src.Evaluation.Evaluator import EvaluatorHoldout\n",
    "import scipy.sparse as sps\n",
    "import random\n",
    "import os\n",
    "import numpy as np\n",
    "os.chdir(os.path.dirname(os.path.dirname(os.getcwd())))\n",
    "\n",
    "SEED = 42\n",
    "np.random.seed(SEED)\n",
    "random.seed(SEED)\n",
    "os.environ['PYTHONHASHSEED'] = str(SEED)\n",
    "\n",
    "URM_train = sps.load_npz('Dataset/URM_train.npz')\n",
    "URM_test_complete = sps.load_npz('Dataset/URM_test.npz')\n",
    "\n",
    "URM_all=URM_train + URM_test_complete"
   ]
  },
  {
   "metadata": {},
   "cell_type": "code",
   "outputs": [],
   "execution_count": null,
   "source": [
    "from src.Recommenders.MatrixFactorization.PureSVDRecommender import ScaledPureSVDRecommender\n",
    "\n",
    "evaluator = EvaluatorHoldout(URM_test_complete, cutoff_list=[10])\n",
    "\n",
    "def objective_function_pure_svd_item(trial):\n",
    "    params = {\n",
    "        'num_factors': trial.suggest_int('num_factors', 1, 2000, log=True),\n",
    "        'scaling_items': trial.suggest_float('scaling_items', 1e-2, 1, log=True),#1e-2\n",
    "        'scaling_users': trial.suggest_float('scaling_users', 1e-2, 1, log=True),#1e-2\n",
    "    }\n",
    "\n",
    "    recommender_instance = ScaledPureSVDRecommender(URM_train)\n",
    "    recommender_instance.fit(**params)\n",
    "    result_df, _ = evaluator.evaluateRecommender(recommender_instance)\n",
    "    return result_df.loc[10, \"MAP\"]"
   ],
   "id": "6329be55895f7705"
  },
  {
   "metadata": {},
   "cell_type": "code",
   "outputs": [],
   "execution_count": null,
   "source": [
    "from optuna.samplers import RandomSampler\n",
    "import optuna\n",
    "\n",
    "database_path='hypertuning_results/tuning_pureSVD_scaled.db'\n",
    "\n",
    "study=optuna.load_study(study_name='hyperparameters_pureSVD',\n",
    "    storage=f'sqlite:///{database_path}'\n",
    "\n",
    ")\n",
    "study.sampler=RandomSampler(seed=SEED)\n",
    "study.optimize(objective_function_pure_svd_item, n_trials=600, n_jobs=6)"
   ],
   "id": "cf6a5324e66d8d8f"
  }
 ],
 "metadata": {
  "kernelspec": {
   "display_name": "Python 3",
   "language": "python",
   "name": "python3"
  },
  "language_info": {
   "codemirror_mode": {
    "name": "ipython",
    "version": 2
   },
   "file_extension": ".py",
   "mimetype": "text/x-python",
   "name": "python",
   "nbconvert_exporter": "python",
   "pygments_lexer": "ipython2",
   "version": "2.7.6"
  }
 },
 "nbformat": 4,
 "nbformat_minor": 5
}
