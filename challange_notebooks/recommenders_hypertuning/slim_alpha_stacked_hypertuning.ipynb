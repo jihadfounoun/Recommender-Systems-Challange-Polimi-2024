{
 "cells": [
  {
   "cell_type": "code",
   "execution_count": null,
   "id": "initial_id",
   "metadata": {
    "collapsed": true
   },
   "outputs": [],
   "source": [
    "from src.Evaluation.Evaluator import EvaluatorHoldout\n",
    "import scipy.sparse as sps\n",
    "import random\n",
    "import os\n",
    "import numpy as np\n",
    "\n",
    "import pandas as pd\n",
    "os.chdir(os.path.dirname(os.path.dirname(os.getcwd())))\n",
    "SEED = 42\n",
    "np.random.seed(SEED)\n",
    "random.seed(SEED)\n",
    "os.environ['PYTHONHASHSEED'] = str(SEED)\n",
    "dataframe_items=pd.read_csv(\"Dataset/data_ICM_metadata.csv\",low_memory=True)\n",
    "ICM=sps.csr_matrix((dataframe_items[\"data\"].values,(dataframe_items[\"item_id\"].values.astype(int),dataframe_items[\"feature_id\"].values)))\n",
    "\n",
    "URM_train = sps.load_npz('Dataset/URM_train.npz')\n",
    "URM_test_complete = sps.load_npz('Dataset/URM_test.npz')\n",
    "\n",
    "URM_all=URM_train + URM_test_complete"
   ]
  },
  {
   "metadata": {},
   "cell_type": "code",
   "outputs": [],
   "execution_count": null,
   "source": [
    "from src.Recommenders.SLIM.SLIMElasticNetRecommender import SLIMElasticNetRecommender\n",
    "\n",
    "evaluator = EvaluatorHoldout(URM_test_complete, cutoff_list=[10])\n",
    "\n",
    "\n",
    "\n",
    "def objective_function_slim(trial):\n",
    "    alpha_stacked=trial.suggest_float('alpha_stacked',0.000000001,0.9999)\n",
    "    params = {\n",
    "        'l1_ratio': trial.suggest_float('l1_ratio', 1e-5, 1, log=True),\n",
    "        'alpha': trial.suggest_float('alpha', 1e-5, 100, log=True),\n",
    "        'topK': trial.suggest_int('topK', 5, 2500, log=True),\n",
    "        'positive_only': trial.suggest_categorical(\"positive_only\", [True, False]),\n",
    "    }\n",
    "    URM_stacked=sps.vstack([URM_train*alpha_stacked,(ICM.T)*(1-alpha_stacked)])\n",
    "    recommender_instance = SLIMElasticNetRecommender(URM_stacked)\n",
    "    recommender_instance.fit(**params)\n",
    "\n",
    "    result_df, _ = evaluator.evaluateRecommender(recommender_instance)\n",
    "    return result_df.loc[10, \"MAP\"]"
   ],
   "id": "d76b863f96ee98d4"
  },
  {
   "metadata": {},
   "cell_type": "code",
   "outputs": [],
   "execution_count": null,
   "source": [
    "from optuna.samplers import RandomSampler\n",
    "import optuna\n",
    "database_path='hypertuning_results/tuning_slim_alpha_stacked.db'\n",
    "study=optuna.load_study(\n",
    "    study_name='hyperparameters_tuning_slim',\n",
    "    storage=f'sqlite:///{database_path}'\n",
    ")\n",
    "study.sampler=RandomSampler(seed=SEED)\n",
    "\n",
    "\n",
    "\n",
    "\n",
    "study.optimize(objective_function_slim, n_trials=150, n_jobs=6)"
   ],
   "id": "1d7b39545ba15cbe"
  }
 ],
 "metadata": {
  "kernelspec": {
   "display_name": "Python 3",
   "language": "python",
   "name": "python3"
  },
  "language_info": {
   "codemirror_mode": {
    "name": "ipython",
    "version": 2
   },
   "file_extension": ".py",
   "mimetype": "text/x-python",
   "name": "python",
   "nbconvert_exporter": "python",
   "pygments_lexer": "ipython2",
   "version": "2.7.6"
  }
 },
 "nbformat": 4,
 "nbformat_minor": 5
}
