{
 "cells": [
  {
   "metadata": {
    "ExecuteTime": {
     "end_time": "2025-01-10T20:44:59.646020Z",
     "start_time": "2025-01-10T20:44:57.785244Z"
    }
   },
   "cell_type": "code",
   "source": [
    "from src.Recommenders.SLIM.SLIMElasticNetRecommender import SLIMElasticNetRecommender\n",
    "from src.Recommenders.MatrixFactorization.PureSVDRecommender import ScaledPureSVDRecommender\n",
    "from src.Recommenders.MatrixFactorization.PureSVDRecommender import PureSVDItemRecommender\n",
    "from src.Recommenders.Neural.MultVAE_PyTorch_Recommender import MultVAERecommender_PyTorch\n",
    "from src.Recommenders.GraphBased.RP3betaRecommender import RP3betaRecommender\n",
    "\n",
    "\n",
    "\n",
    "import numpy as np\n",
    "import random\n",
    "import os\n",
    "\n",
    "\n",
    "SEED = 42\n",
    "np.random.seed(SEED)\n",
    "random.seed(SEED)\n",
    "os.environ['PYTHONHASHSEED'] = str(SEED)\n",
    "\n",
    "\n",
    "import pandas as pd\n",
    "import scipy.sparse as sps\n",
    "\n",
    "dataframe_items=pd.read_csv(\"Data/data_ICM_metadata.csv\", low_memory=True)\n",
    "\n",
    "icm=sps.csr_matrix((dataframe_items[\"data\"].values,(dataframe_items[\"item_id\"].values.astype(int),dataframe_items[\"feature_id\"].values)))\n",
    "\n",
    "dataframe_users = pd.read_csv(\"Data/data_target_users_test.csv\", low_memory=True)\n",
    "dataframe_urm=pd.read_csv(\"Data/data_train.csv\", low_memory=True)\n",
    "\n",
    "index_id,original_id=pd.factorize(dataframe_urm[\"user_id\"].unique())\n",
    "\n",
    "map_original_to_index=pd.Series(index_id,index=original_id)\n",
    "dataframe_urm[\"user_id\"]=dataframe_urm[\"user_id\"].map(map_original_to_index)\n",
    "\n",
    "urm=sps.csr_matrix((dataframe_urm[\"data\"].values,(dataframe_urm[\"user_id\"].values.astype(int),dataframe_urm[\"item_id\"].values)))"
   ],
   "id": "591cea57df42dfe4",
   "outputs": [],
   "execution_count": 12
  },
  {
   "metadata": {
    "ExecuteTime": {
     "end_time": "2025-01-10T20:45:15.106528Z",
     "start_time": "2025-01-10T20:45:13.363120Z"
    }
   },
   "cell_type": "code",
   "source": [
    "urm_stacked=sps.vstack([urm,icm.T])\n",
    "slim_recommender=SLIMElasticNetRecommender(urm)\n",
    "alpha=0.76679688335902\n",
    "urm_slim_stacked=sps.vstack([urm*alpha,icm.T*(1-alpha)])\n",
    "slim_stacked_recommender=SLIMElasticNetRecommender(urm_slim_stacked)\n",
    "pure_svd_recommender=PureSVDItemRecommender(urm)\n",
    "rp3beta_recommender=RP3betaRecommender(urm)\n",
    "rp3beta_stacked_recommender=RP3betaRecommender(urm_stacked)\n",
    "scaled_svd_recommender= ScaledPureSVDRecommender(urm)\n",
    "multvae_recommender=MultVAERecommender_PyTorch(urm)"
   ],
   "id": "651d975831eb0bfd",
   "outputs": [],
   "execution_count": 13
  },
  {
   "metadata": {
    "ExecuteTime": {
     "end_time": "2025-01-10T20:45:45.929670Z",
     "start_time": "2025-01-10T20:45:17.293870Z"
    }
   },
   "cell_type": "code",
   "source": [
    "folder_path='trained_models/sub/'\n",
    "slim_recommender.load_model(folder_path=folder_path,file_name='best_sub_slim.zip')\n",
    "slim_stacked_recommender.load_model(folder_path=folder_path,file_name='best_sub_stacked_slim.zip')\n",
    "pure_svd_recommender.load_model(folder_path=folder_path,file_name='best_sub_pure_svd.zip')\n",
    "scaled_svd_recommender.load_model(folder_path=folder_path,file_name='best_sub_scaled_svd.zip')\n",
    "rp3beta_recommender.load_model(folder_path=folder_path,file_name='best_sub_rp3beta.zip')\n",
    "rp3beta_stacked_recommender.load_model(folder_path=folder_path,file_name='best_sub_stacked_rp3beta.zip')\n",
    "multvae_recommender.load_model(folder_path=folder_path,file_name='best_sub_MultVAE.zip')"
   ],
   "id": "9e601e001cb73339",
   "outputs": [
    {
     "name": "stdout",
     "output_type": "stream",
     "text": [
      "SLIMElasticNetRecommender: Loading model from file 'trained_models/sub/best_sub_slim.zip'\n",
      "SLIMElasticNetRecommender: Loading complete\n",
      "SLIMElasticNetRecommender: Loading model from file 'trained_models/sub/best_sub_stacked_slim.zip'\n",
      "SLIMElasticNetRecommender: Loading complete\n",
      "PureSVDItemRecommender: Loading model from file 'trained_models/sub/best_sub_pure_svd.zip'\n",
      "PureSVDItemRecommender: Loading complete\n",
      "ScaledPureSVDRecommender: Loading model from file 'trained_models/sub/best_sub_scaled_svd.zip'\n",
      "ScaledPureSVDRecommender: Loading complete\n",
      "RP3betaRecommender: Loading model from file 'trained_models/sub/best_sub_rp3beta.zip'\n",
      "RP3betaRecommender: Loading complete\n",
      "RP3betaRecommender: Loading model from file 'trained_models/sub/best_sub_stacked_rp3beta.zip'\n",
      "RP3betaRecommender: Loading complete\n"
     ]
    }
   ],
   "execution_count": 14
  },
  {
   "metadata": {
    "collapsed": true,
    "ExecuteTime": {
     "end_time": "2025-01-10T20:46:30.003134Z",
     "start_time": "2025-01-10T20:46:27.800624Z"
    }
   },
   "cell_type": "code",
   "source": [
    "import optuna\n",
    "database_path='hypertuning_results/optuna_hybrid_linear_best.db'\n",
    "study=optuna.load_study(study_name='hyperparameters_hybrid_linear',storage=f'sqlite:///{database_path}')\n",
    "best_params=study.best_params"
   ],
   "id": "initial_id",
   "outputs": [],
   "execution_count": 18
  },
  {
   "metadata": {
    "ExecuteTime": {
     "end_time": "2025-01-10T20:46:33.316727Z",
     "start_time": "2025-01-10T20:46:33.299409Z"
    }
   },
   "cell_type": "code",
   "source": "weights = [value for value in best_params.values() if isinstance(value, (int, float))]",
   "id": "688268570ef8414b",
   "outputs": [],
   "execution_count": 19
  },
  {
   "metadata": {
    "ExecuteTime": {
     "end_time": "2025-01-10T20:46:36.403060Z",
     "start_time": "2025-01-10T20:46:36.372791Z"
    }
   },
   "cell_type": "code",
   "source": [
    "recommenders_list={}\n",
    "\n",
    "recommenders_list['slim']=slim_recommender\n",
    "recommenders_list['slim_stacked']=slim_stacked_recommender\n",
    "recommenders_list['pure_svd']=pure_svd_recommender\n",
    "recommenders_list['scaled_svd']=scaled_svd_recommender\n",
    "recommenders_list['rp3beta']=rp3beta_recommender\n",
    "recommenders_list['rp3beta_stacked']=rp3beta_stacked_recommender\n",
    "recommenders_list['multvae']=multvae_recommender\n",
    "recommenders=[\n",
    "recommenders_list['slim'],\n",
    "recommenders_list['pure_svd'],\n",
    "recommenders_list['scaled_svd'],\n",
    "recommenders_list['rp3beta'],\n",
    "recommenders_list['rp3beta_stacked'],\n",
    "recommenders_list['multvae']\n",
    "]"
   ],
   "id": "69f70ca0f0eef8ae",
   "outputs": [],
   "execution_count": 20
  },
  {
   "metadata": {
    "ExecuteTime": {
     "end_time": "2025-01-10T20:46:40.382240Z",
     "start_time": "2025-01-10T20:46:40.265847Z"
    }
   },
   "cell_type": "code",
   "source": [
    "from src.Recommenders.Hybrids.LinearWeightedRecommender import LinearWeightedRecommender\n",
    "hybrid_recommender=LinearWeightedRecommender(urm,recommenders,weights)"
   ],
   "id": "21c55e279cf12703",
   "outputs": [],
   "execution_count": 21
  },
  {
   "metadata": {},
   "cell_type": "code",
   "source": [
    "import os\n",
    "import csv\n",
    "import time\n",
    "\n",
    "output_folder_path = \"submissions/\"\n",
    "if not os.path.exists(output_folder_path):\n",
    "    os.makedirs(output_folder_path)\n",
    "\n",
    "user_id = dataframe_users['user_id']\n",
    "recommendations = []\n",
    "startTime = time.time()\n",
    "filename=\"result_linear_hybrid_final_best.csv\"\n",
    "file_path = os.path.join(output_folder_path, filename)\n",
    "with open(file_path ,mode='w',newline='') as file:\n",
    "    writer=csv.writer(file)\n",
    "    writer.writerow([\"user_id\",\"item_list\"])\n",
    "    for user in user_id:\n",
    "        writer.writerow([user,\" \".join(map(str,hybrid_recommender.recommend(map_original_to_index[user], cutoff=10)))])\n",
    "        if user%1000 == 0:\n",
    "            print(\"elapsed: {} current user: {}\".format(time.time()-startTime,user))"
   ],
   "id": "ba89bfbeb64c538e",
   "outputs": [],
   "execution_count": null
  }
 ],
 "metadata": {
  "kernelspec": {
   "display_name": "Python 3",
   "language": "python",
   "name": "python3"
  },
  "language_info": {
   "codemirror_mode": {
    "name": "ipython",
    "version": 2
   },
   "file_extension": ".py",
   "mimetype": "text/x-python",
   "name": "python",
   "nbconvert_exporter": "python",
   "pygments_lexer": "ipython2",
   "version": "2.7.6"
  }
 },
 "nbformat": 4,
 "nbformat_minor": 5
}
